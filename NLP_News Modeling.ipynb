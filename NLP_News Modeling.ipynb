{
 "cells": [
  {
   "cell_type": "markdown",
   "metadata": {},
   "source": [
    "# News Modeling\n",
    "\n",
    "Topic modeling involves **extracting features from document terms** and using\n",
    "mathematical structures and frameworks like matrix factorization and SVD to generate **clusters or groups of terms** that are distinguishable from each other and these clusters of words form topics or concepts\n",
    "\n",
    "Topic modeling is a method for **unsupervised classification** of documents, similar to clustering on numeric data\n",
    "\n",
    "These concepts can be used to interpret the main **themes** of a corpus and also make **semantic connections among words that co-occur together** frequently in various documents\n",
    "\n",
    "Topic modeling can help in the following areas:\n",
    "- discovering the **hidden themes** in the collection\n",
    "- **classifying** the documents into the discovered themes\n",
    "- using the classification to **organize/summarize/search** the documents\n",
    "\n",
    "Frameworks and algorithms to build topic models:\n",
    "- Latent semantic indexing\n",
    "- Latent Dirichlet allocation\n",
    "- Non-negative matrix factorization"
   ]
  },
  {
   "cell_type": "markdown",
   "metadata": {},
   "source": [
    "## Latent Dirichlet Allocation (LDA)\n",
    "The latent Dirichlet allocation (LDA) technique is a **generative probabilistic model** where each **document is assumed to have a combination of topics** similar to a probabilistic latent semantic indexing model\n",
    "\n",
    "In simple words, the idea behind LDA is that of two folds:\n",
    "- each **document** can be described by a **distribution of topics**\n",
    "- each **topic** can be described by a **distribution of words**"
   ]
  },
  {
   "cell_type": "markdown",
   "metadata": {},
   "source": [
    "### LDA Algorithm\n",
    "\n",
    "- 1. For each document, **randomly initialize each word to one of the K topics** (k is chosen beforehand)\n",
    "- 2. For each document D, go through each word w and compute:\n",
    "    - **P(T |D)** , which is a proportion of words in D assigned to topic T\n",
    "    - **P(W |T )** , which is a proportion of assignments to topic T over all documents having the word W\n",
    "- **Reassign word W with topic T** with probability P(T |D)´ P(W |T ) considering all other words and their topic assignments\n",
    "\n",
    "![LDA](https://raw.githubusercontent.com/subashgandyer/datasets/main/images/LDA.png)"
   ]
  },
  {
   "cell_type": "markdown",
   "metadata": {},
   "source": [
    "### Steps\n",
    "- Install the necessary library\n",
    "- Import the necessary libraries\n",
    "- Download the dataset\n",
    "- Load the dataset\n",
    "- Pre-process the dataset\n",
    "    - Stop words removal\n",
    "    - Email removal\n",
    "    - Non-alphabetic words removal\n",
    "    - Tokenize\n",
    "    - Lowercase\n",
    "    - BiGrams & TriGrams\n",
    "    - Lemmatization\n",
    "- Create a dictionary for the document\n",
    "- Filter low frequency words\n",
    "- Create an Index to word dictionary\n",
    "- Train the Topic Model\n",
    "- Predict on the dataset\n",
    "- Evaluate the Topic Model\n",
    "    - Model Perplexity\n",
    "    - Topic Coherence\n",
    "- Visualize the topics"
   ]
  },
  {
   "cell_type": "markdown",
   "metadata": {},
   "source": [
    "### Install the necessary library"
   ]
  },
  {
   "cell_type": "code",
   "execution_count": 8,
   "metadata": {},
   "outputs": [],
   "source": [
    "#! pip install smart_open==1.9.0"
   ]
  },
  {
   "cell_type": "markdown",
   "metadata": {},
   "source": [
    "### Import the libraries"
   ]
  },
  {
   "cell_type": "code",
   "execution_count": 9,
   "metadata": {},
   "outputs": [
    {
     "name": "stderr",
     "output_type": "stream",
     "text": [
      "C:\\ProgramData\\Anaconda3\\lib\\site-packages\\cupy\\_environment.py:213: UserWarning: CUDA path could not be detected. Set CUDA_PATH environment variable if CuPy fails to load.\n",
      "  warnings.warn(\n"
     ]
    }
   ],
   "source": [
    "import re\n",
    "import numpy as np\n",
    "import pandas as pd\n",
    "from pprint import pprint\n",
    "\n",
    "# Gensim\n",
    "import gensim\n",
    "import gensim.corpora as corpora\n",
    "from gensim.utils import simple_preprocess\n",
    "from gensim.models import CoherenceModel\n",
    "\n",
    "# spacy for lemmatization\n",
    "import spacy\n",
    "\n",
    "# Plotting tools\n",
    "import pyLDAvis\n",
    "import pyLDAvis.gensim_models\n",
    "import matplotlib.pyplot as plt\n",
    "%matplotlib inline\n",
    "\n",
    "# Enable logging for gensim - optional\n",
    "import logging\n",
    "logging.basicConfig(format='%(asctime)s : %(levelname)s : %(message)s', level=logging.ERROR)\n",
    "\n",
    "import warnings\n",
    "warnings.filterwarnings(\"ignore\",category=DeprecationWarning)"
   ]
  },
  {
   "cell_type": "markdown",
   "metadata": {},
   "source": [
    "### Download the dataset\n",
    "Dataset: https://raw.githubusercontent.com/subashgandyer/datasets/main/newsgroups.json\n",
    "\n",
    "#### 20-Newsgroups dataset\n",
    "- 11K newsgroups posts\n",
    "- 20 news topics"
   ]
  },
  {
   "cell_type": "code",
   "execution_count": 9,
   "metadata": {
    "scrolled": true,
    "tags": []
   },
   "outputs": [],
   "source": [
    "from textacy.extract import keyterms"
   ]
  },
  {
   "cell_type": "markdown",
   "metadata": {},
   "source": [
    "### Load the dataset"
   ]
  },
  {
   "cell_type": "code",
   "execution_count": 10,
   "metadata": {},
   "outputs": [
    {
     "name": "stdout",
     "output_type": "stream",
     "text": [
      "['rec.autos' 'comp.sys.mac.hardware' 'comp.graphics' 'sci.space'\n",
      " 'talk.politics.guns' 'sci.med' 'comp.sys.ibm.pc.hardware'\n",
      " 'comp.os.ms-windows.misc' 'rec.motorcycles' 'talk.religion.misc'\n",
      " 'misc.forsale' 'alt.atheism' 'sci.electronics' 'comp.windows.x'\n",
      " 'rec.sport.hockey' 'rec.sport.baseball' 'soc.religion.christian'\n",
      " 'talk.politics.mideast' 'talk.politics.misc' 'sci.crypt']\n"
     ]
    },
    {
     "data": {
      "text/html": [
       "<div>\n",
       "<style scoped>\n",
       "    .dataframe tbody tr th:only-of-type {\n",
       "        vertical-align: middle;\n",
       "    }\n",
       "\n",
       "    .dataframe tbody tr th {\n",
       "        vertical-align: top;\n",
       "    }\n",
       "\n",
       "    .dataframe thead th {\n",
       "        text-align: right;\n",
       "    }\n",
       "</style>\n",
       "<table border=\"1\" class=\"dataframe\">\n",
       "  <thead>\n",
       "    <tr style=\"text-align: right;\">\n",
       "      <th></th>\n",
       "      <th>content</th>\n",
       "      <th>target</th>\n",
       "      <th>target_names</th>\n",
       "    </tr>\n",
       "  </thead>\n",
       "  <tbody>\n",
       "    <tr>\n",
       "      <th>0</th>\n",
       "      <td>From: lerxst@wam.umd.edu (where's my thing)\\nS...</td>\n",
       "      <td>7</td>\n",
       "      <td>rec.autos</td>\n",
       "    </tr>\n",
       "    <tr>\n",
       "      <th>1</th>\n",
       "      <td>From: guykuo@carson.u.washington.edu (Guy Kuo)...</td>\n",
       "      <td>4</td>\n",
       "      <td>comp.sys.mac.hardware</td>\n",
       "    </tr>\n",
       "    <tr>\n",
       "      <th>2</th>\n",
       "      <td>From: twillis@ec.ecn.purdue.edu (Thomas E Will...</td>\n",
       "      <td>4</td>\n",
       "      <td>comp.sys.mac.hardware</td>\n",
       "    </tr>\n",
       "    <tr>\n",
       "      <th>3</th>\n",
       "      <td>From: jgreen@amber (Joe Green)\\nSubject: Re: W...</td>\n",
       "      <td>1</td>\n",
       "      <td>comp.graphics</td>\n",
       "    </tr>\n",
       "    <tr>\n",
       "      <th>4</th>\n",
       "      <td>From: jcm@head-cfa.harvard.edu (Jonathan McDow...</td>\n",
       "      <td>14</td>\n",
       "      <td>sci.space</td>\n",
       "    </tr>\n",
       "  </tbody>\n",
       "</table>\n",
       "</div>"
      ],
      "text/plain": [
       "                                             content  target  \\\n",
       "0  From: lerxst@wam.umd.edu (where's my thing)\\nS...       7   \n",
       "1  From: guykuo@carson.u.washington.edu (Guy Kuo)...       4   \n",
       "2  From: twillis@ec.ecn.purdue.edu (Thomas E Will...       4   \n",
       "3  From: jgreen@amber (Joe Green)\\nSubject: Re: W...       1   \n",
       "4  From: jcm@head-cfa.harvard.edu (Jonathan McDow...      14   \n",
       "\n",
       "            target_names  \n",
       "0              rec.autos  \n",
       "1  comp.sys.mac.hardware  \n",
       "2  comp.sys.mac.hardware  \n",
       "3          comp.graphics  \n",
       "4              sci.space  "
      ]
     },
     "execution_count": 10,
     "metadata": {},
     "output_type": "execute_result"
    }
   ],
   "source": [
    "mytext = pd.read_json('newsgroups.json')\n",
    "print(mytext.target_names.unique())\n",
    "mytext.head()"
   ]
  },
  {
   "cell_type": "code",
   "execution_count": null,
   "metadata": {},
   "outputs": [],
   "source": []
  },
  {
   "cell_type": "markdown",
   "metadata": {},
   "source": [
    "### Preprocess the data"
   ]
  },
  {
   "cell_type": "markdown",
   "metadata": {},
   "source": [
    "### Email Removal"
   ]
  },
  {
   "cell_type": "code",
   "execution_count": 11,
   "metadata": {},
   "outputs": [],
   "source": [
    "data = mytext.content.values.tolist()\n",
    "#Email characters removal"
   ]
  },
  {
   "cell_type": "code",
   "execution_count": 12,
   "metadata": {
    "scrolled": true,
    "tags": []
   },
   "outputs": [],
   "source": [
    "data = [re.sub('\\S*@\\S*\\s?', '', sent) for sent in data]"
   ]
  },
  {
   "cell_type": "code",
   "execution_count": 13,
   "metadata": {},
   "outputs": [
    {
     "name": "stdout",
     "output_type": "stream",
     "text": [
      "[\"From: (where's my thing)\\n\"\n",
      " 'Subject: WHAT car is this!?\\n'\n",
      " 'Nntp-Posting-Host: rac3.wam.umd.edu\\n'\n",
      " 'Organization: University of Maryland, College Park\\n'\n",
      " 'Lines: 15\\n'\n",
      " '\\n'\n",
      " ' I was wondering if anyone out there could enlighten me on this car I saw\\n'\n",
      " 'the other day. It was a 2-door sports car, looked to be from the late 60s/\\n'\n",
      " 'early 70s. It was called a Bricklin. The doors were really small. In '\n",
      " 'addition,\\n'\n",
      " 'the front bumper was separate from the rest of the body. This is \\n'\n",
      " 'all I know. If anyone can tellme a model name, engine specs, years\\n'\n",
      " 'of production, where this car is made, history, or whatever info you\\n'\n",
      " 'have on this funky looking car, please e-mail.\\n'\n",
      " '\\n'\n",
      " 'Thanks,\\n'\n",
      " '- IL\\n'\n",
      " '   ---- brought to you by your neighborhood Lerxst ----\\n'\n",
      " '\\n'\n",
      " '\\n'\n",
      " '\\n'\n",
      " '\\n']\n"
     ]
    }
   ],
   "source": [
    "pprint(data[:1])"
   ]
  },
  {
   "cell_type": "markdown",
   "metadata": {},
   "source": [
    "### Newline Removal"
   ]
  },
  {
   "cell_type": "code",
   "execution_count": 14,
   "metadata": {},
   "outputs": [],
   "source": [
    "data = [re.sub('\\s+', ' ', sent) for sent in data]"
   ]
  },
  {
   "cell_type": "markdown",
   "metadata": {},
   "source": [
    "### Single Quotes Removal"
   ]
  },
  {
   "cell_type": "code",
   "execution_count": 15,
   "metadata": {},
   "outputs": [],
   "source": [
    "data = [re.sub(\"\\'\", \"\", sent) for sent in data]"
   ]
  },
  {
   "cell_type": "code",
   "execution_count": 16,
   "metadata": {},
   "outputs": [
    {
     "name": "stdout",
     "output_type": "stream",
     "text": [
      "['From: (wheres my thing) Subject: WHAT car is this!? Nntp-Posting-Host: '\n",
      " 'rac3.wam.umd.edu Organization: University of Maryland, College Park Lines: '\n",
      " '15 I was wondering if anyone out there could enlighten me on this car I saw '\n",
      " 'the other day. It was a 2-door sports car, looked to be from the late 60s/ '\n",
      " 'early 70s. It was called a Bricklin. The doors were really small. In '\n",
      " 'addition, the front bumper was separate from the rest of the body. This is '\n",
      " 'all I know. If anyone can tellme a model name, engine specs, years of '\n",
      " 'production, where this car is made, history, or whatever info you have on '\n",
      " 'this funky looking car, please e-mail. Thanks, - IL ---- brought to you by '\n",
      " 'your neighborhood Lerxst ---- ']\n"
     ]
    }
   ],
   "source": [
    "pprint(data[:1])"
   ]
  },
  {
   "cell_type": "markdown",
   "metadata": {},
   "source": [
    "### Tokenize\n",
    "- Create **sent_to_words()** \n",
    "    - Use **gensim.utils.simple_preprocess**\n",
    "    - Use **generator** instead of an usual function"
   ]
  },
  {
   "cell_type": "code",
   "execution_count": 17,
   "metadata": {},
   "outputs": [
    {
     "name": "stdout",
     "output_type": "stream",
     "text": [
      "[['from', 'wheres', 'my', 'thing', 'subject', 'what', 'car', 'is', 'this', 'nntp', 'posting', 'host', 'rac', 'wam', 'umd', 'edu', 'organization', 'university', 'of', 'maryland', 'college', 'park', 'lines', 'was', 'wondering', 'if', 'anyone', 'out', 'there', 'could', 'enlighten', 'me', 'on', 'this', 'car', 'saw', 'the', 'other', 'day', 'it', 'was', 'door', 'sports', 'car', 'looked', 'to', 'be', 'from', 'the', 'late', 'early', 'it', 'was', 'called', 'bricklin', 'the', 'doors', 'were', 'really', 'small', 'in', 'addition', 'the', 'front', 'bumper', 'was', 'separate', 'from', 'the', 'rest', 'of', 'the', 'body', 'this', 'is', 'all', 'know', 'if', 'anyone', 'can', 'tellme', 'model', 'name', 'engine', 'specs', 'years', 'of', 'production', 'where', 'this', 'car', 'is', 'made', 'history', 'or', 'whatever', 'info', 'you', 'have', 'on', 'this', 'funky', 'looking', 'car', 'please', 'mail', 'thanks', 'il', 'brought', 'to', 'you', 'by', 'your', 'neighborhood', 'lerxst']]\n"
     ]
    }
   ],
   "source": [
    "def sent_to_words(sentences):\n",
    "    for sentence in sentences:\n",
    "        yield(gensim.utils.simple_preprocess(str(sentence), deacc=True))\n",
    "\n",
    "data_words = list(sent_to_words(data))\n",
    "\n",
    "print(data_words[:1])"
   ]
  },
  {
   "cell_type": "code",
   "execution_count": null,
   "metadata": {},
   "outputs": [],
   "source": []
  },
  {
   "cell_type": "markdown",
   "metadata": {},
   "source": [
    "### Stop words Removal\n",
    "- Extend the stop words corpus with the following words\n",
    "    - from\n",
    "    - subject\n",
    "    - re\n",
    "    - edu\n",
    "    - use"
   ]
  },
  {
   "cell_type": "code",
   "execution_count": 18,
   "metadata": {},
   "outputs": [],
   "source": [
    "from gensim.parsing.preprocessing import STOPWORDS, remove_stopwords, preprocess_string\n",
    "my_stop_words = STOPWORDS.union(set(['from', 'subject', 're', 'edu', 'use']))"
   ]
  },
  {
   "cell_type": "markdown",
   "metadata": {},
   "source": [
    "#### remove_stopwords( )"
   ]
  },
  {
   "cell_type": "code",
   "execution_count": 19,
   "metadata": {},
   "outputs": [],
   "source": [
    "def remove_stops(texts):\n",
    "    return [[word for word in simple_preprocess(str(doc)) if word not in my_stop_words] for doc in texts]"
   ]
  },
  {
   "cell_type": "code",
   "execution_count": 20,
   "metadata": {},
   "outputs": [],
   "source": [
    "data_words_nostops = remove_stops(data_words)"
   ]
  },
  {
   "cell_type": "code",
   "execution_count": 21,
   "metadata": {},
   "outputs": [
    {
     "name": "stdout",
     "output_type": "stream",
     "text": [
      "[['wheres', 'thing', 'car', 'nntp', 'posting', 'host', 'rac', 'wam', 'umd', 'organization', 'university', 'maryland', 'college', 'park', 'lines', 'wondering', 'enlighten', 'car', 'saw', 'day', 'door', 'sports', 'car', 'looked', 'late', 'early', 'called', 'bricklin', 'doors', 'small', 'addition', 'bumper', 'separate', 'rest', 'body', 'know', 'tellme', 'model', 'engine', 'specs', 'years', 'production', 'car', 'history', 'info', 'funky', 'looking', 'car', 'mail', 'thanks', 'il', 'brought', 'neighborhood', 'lerxst']]\n"
     ]
    }
   ],
   "source": [
    "print(data_words_nostops[:1])"
   ]
  },
  {
   "cell_type": "markdown",
   "metadata": {},
   "source": [
    "### Bigrams\n",
    "- Use **gensim.models.Phrases**\n",
    "- 100 as threshold"
   ]
  },
  {
   "cell_type": "code",
   "execution_count": 22,
   "metadata": {},
   "outputs": [],
   "source": [
    "bigram = gensim.models.Phrases(data_words, min_count=5, threshold=100)\n",
    "trigram = gensim.models.Phrases(bigram[data_words], threshold=100)  "
   ]
  },
  {
   "cell_type": "markdown",
   "metadata": {},
   "source": [
    "#### make_bigrams( )"
   ]
  },
  {
   "cell_type": "code",
   "execution_count": 23,
   "metadata": {},
   "outputs": [],
   "source": [
    "def make_bigrams(texts):\n",
    "    return [bigram_mod[doc] for doc in texts]"
   ]
  },
  {
   "cell_type": "code",
   "execution_count": 24,
   "metadata": {},
   "outputs": [],
   "source": [
    "bigram_mod = gensim.models.phrases.Phraser(bigram)\n",
    "trigram_mod = gensim.models.phrases.Phraser(trigram)"
   ]
  },
  {
   "cell_type": "code",
   "execution_count": 25,
   "metadata": {},
   "outputs": [],
   "source": [
    "data_words_bigrams = make_bigrams(data_words_nostops)"
   ]
  },
  {
   "cell_type": "markdown",
   "metadata": {},
   "source": [
    "### Lemmatization\n",
    "- Use spacy\n",
    "    - Download spacy en model (if you have not done that before)\n",
    "    - Load the spacy model"
   ]
  },
  {
   "cell_type": "code",
   "execution_count": 26,
   "metadata": {},
   "outputs": [],
   "source": [
    "import spacy\n",
    "nlp = spacy.load('en_core_web_sm')"
   ]
  },
  {
   "cell_type": "markdown",
   "metadata": {},
   "source": [
    "#### lemmatizaton( )"
   ]
  },
  {
   "cell_type": "code",
   "execution_count": null,
   "metadata": {},
   "outputs": [],
   "source": [
    "def lemmatization(texts, allowed_postags=['NOUN', 'ADJ', 'VERB', 'ADV']):\n",
    "    texts_out = []\n",
    "    for sent in texts:\n",
    "        doc = nlp(\" \".join(sent)) \n",
    "        texts_out.append([token.lemma_ for token in doc if token.pos_ in allowed_postags])\n",
    "    return texts_out"
   ]
  },
  {
   "cell_type": "code",
   "execution_count": null,
   "metadata": {},
   "outputs": [],
   "source": [
    "data_lemmatized = lemmatization(data_words_bigrams, allowed_postags=['NOUN', 'ADJ', 'VERB', 'ADV'])"
   ]
  },
  {
   "cell_type": "code",
   "execution_count": 29,
   "metadata": {},
   "outputs": [
    {
     "name": "stdout",
     "output_type": "stream",
     "text": [
      "[['thing', 'car', 'nntp_poste', 'host', 'rac_wam', 'park', 'line', 'wonder', 'enlighten', 'car', 'see', 'day', 'door', 'sport', 'car', 'look', 'late', 'early', 'call', 'door', 'small', 'addition', 'bumper', 'separate', 'rest', 'body', 'know', 'model', 'engine', 'spec', 'year', 'production', 'car', 'history', 'info', 'funky', 'look', 'car', 'mail', 'bring', 'neighborhood', 'lerxst']]\n"
     ]
    }
   ],
   "source": [
    "print(data_lemmatized[:1])"
   ]
  },
  {
   "cell_type": "markdown",
   "metadata": {},
   "source": [
    "### Create a Dictionary"
   ]
  },
  {
   "cell_type": "code",
   "execution_count": 30,
   "metadata": {},
   "outputs": [],
   "source": [
    "id2word = corpora.Dictionary(data_lemmatized)"
   ]
  },
  {
   "cell_type": "markdown",
   "metadata": {},
   "source": [
    "### Create Corpus"
   ]
  },
  {
   "cell_type": "code",
   "execution_count": 31,
   "metadata": {},
   "outputs": [],
   "source": [
    "texts = data_lemmatized"
   ]
  },
  {
   "cell_type": "markdown",
   "metadata": {},
   "source": [
    "### Filter low-frequency words"
   ]
  },
  {
   "cell_type": "code",
   "execution_count": 32,
   "metadata": {},
   "outputs": [],
   "source": [
    "corpus = [id2word.doc2bow(text) for text in texts]"
   ]
  },
  {
   "cell_type": "markdown",
   "metadata": {},
   "source": [
    "### Create Index 2 word dictionary"
   ]
  },
  {
   "cell_type": "code",
   "execution_count": 35,
   "metadata": {
    "scrolled": true,
    "tags": []
   },
   "outputs": [
    {
     "data": {
      "text/plain": [
       "[[('addition', 1),\n",
       "  ('body', 1),\n",
       "  ('bring', 1),\n",
       "  ('bumper', 1),\n",
       "  ('call', 1),\n",
       "  ('car', 5),\n",
       "  ('day', 1),\n",
       "  ('door', 2),\n",
       "  ('early', 1),\n",
       "  ('engine', 1),\n",
       "  ('enlighten', 1),\n",
       "  ('funky', 1),\n",
       "  ('history', 1),\n",
       "  ('host', 1),\n",
       "  ('info', 1),\n",
       "  ('know', 1),\n",
       "  ('late', 1),\n",
       "  ('lerxst', 1),\n",
       "  ('line', 1),\n",
       "  ('look', 2),\n",
       "  ('mail', 1),\n",
       "  ('model', 1),\n",
       "  ('neighborhood', 1),\n",
       "  ('nntp_poste', 1),\n",
       "  ('park', 1),\n",
       "  ('production', 1),\n",
       "  ('rac_wam', 1),\n",
       "  ('rest', 1),\n",
       "  ('see', 1),\n",
       "  ('separate', 1),\n",
       "  ('small', 1),\n",
       "  ('spec', 1),\n",
       "  ('sport', 1),\n",
       "  ('thing', 1),\n",
       "  ('wonder', 1),\n",
       "  ('year', 1)]]"
      ]
     },
     "execution_count": 35,
     "metadata": {},
     "output_type": "execute_result"
    }
   ],
   "source": [
    "[[(id2word[id], freq) for id, freq in cp] for cp in corpus[:1]]"
   ]
  },
  {
   "cell_type": "code",
   "execution_count": 36,
   "metadata": {},
   "outputs": [
    {
     "name": "stdout",
     "output_type": "stream",
     "text": [
      "[[(0, 1), (1, 1), (2, 1), (3, 1), (4, 1), (5, 5), (6, 1), (7, 2), (8, 1), (9, 1), (10, 1), (11, 1), (12, 1), (13, 1), (14, 1), (15, 1), (16, 1), (17, 1), (18, 1), (19, 2), (20, 1), (21, 1), (22, 1), (23, 1), (24, 1), (25, 1), (26, 1), (27, 1), (28, 1), (29, 1), (30, 1), (31, 1), (32, 1), (33, 1), (34, 1), (35, 1)]]\n"
     ]
    }
   ],
   "source": [
    "print(corpus[:1])"
   ]
  },
  {
   "cell_type": "markdown",
   "metadata": {},
   "source": [
    "### Build a News Topic Model\n",
    "\n",
    "#### LdaModel\n",
    "- **num_topics** : this is the number of topics you need to define beforehand\n",
    "- **chunksize** : the number of documents to be used in each training chunk\n",
    "- **alpha** : this is the hyperparameters that affect the sparsity of the topics\n",
    "- **passess** : total number of training assess"
   ]
  },
  {
   "cell_type": "code",
   "execution_count": 37,
   "metadata": {},
   "outputs": [],
   "source": [
    "lda_model = gensim.models.ldamodel.LdaModel(corpus=corpus,\n",
    "                                           id2word=id2word,\n",
    "                                           num_topics=20, \n",
    "                                           random_state=100,\n",
    "                                           update_every=1,\n",
    "                                           chunksize=100,\n",
    "                                           passes=10,\n",
    "                                           alpha='auto',\n",
    "                                           per_word_topics=True)"
   ]
  },
  {
   "cell_type": "markdown",
   "metadata": {},
   "source": [
    "### Print the Keyword in the 10 topics"
   ]
  },
  {
   "cell_type": "code",
   "execution_count": 38,
   "metadata": {
    "scrolled": true,
    "tags": []
   },
   "outputs": [
    {
     "name": "stdout",
     "output_type": "stream",
     "text": [
      "[(0,\n",
      "  '0.088*\"price\" + 0.081*\"sell\" + 0.079*\"sale\" + 0.072*\"player\" + '\n",
      "  '0.058*\"cheap\" + 0.053*\"disk\" + 0.027*\"purchase\" + 0.024*\"market\" + '\n",
      "  '0.024*\"motherboard\" + 0.023*\"manual\"'),\n",
      " (1,\n",
      "  '0.130*\"program\" + 0.123*\"file\" + 0.053*\"entry\" + 0.037*\"server\" + '\n",
      "  '0.034*\"distribution\" + 0.024*\"motif\" + 0.022*\"package\" + 0.017*\"mit\" + '\n",
      "  '0.017*\"contain\" + 0.015*\"session\"'),\n",
      " (2,\n",
      "  '0.065*\"drive\" + 0.032*\"card\" + 0.026*\"com\" + 0.026*\"software\" + '\n",
      "  '0.026*\"driver\" + 0.024*\"bit\" + 0.023*\"chip\" + 0.023*\"do\" + 0.022*\"machine\" '\n",
      "  '+ 0.022*\"run\"'),\n",
      " (3,\n",
      "  '0.024*\"people\" + 0.020*\"reason\" + 0.018*\"believe\" + 0.017*\"evidence\" + '\n",
      "  '0.016*\"mean\" + 0.015*\"state\" + 0.014*\"say\" + 0.014*\"right\" + 0.014*\"think\" '\n",
      "  '+ 0.013*\"point\"'),\n",
      " (4,\n",
      "  '0.112*\"israeli\" + 0.053*\"object\" + 0.046*\"font\" + 0.043*\"arab\" + '\n",
      "  '0.038*\"wave\" + 0.025*\"own\" + 0.020*\"lift\" + 0.017*\"translate\" + '\n",
      "  '0.016*\"australia\" + 0.014*\"postscript\"'),\n",
      " (5,\n",
      "  '0.031*\"car\" + 0.027*\"high\" + 0.024*\"power\" + 0.018*\"cost\" + 0.017*\"large\" + '\n",
      "  '0.017*\"report\" + 0.017*\"low\" + 0.016*\"buy\" + 0.014*\"cpu\" + 0.014*\"small\"'),\n",
      " (6,\n",
      "  '0.073*\"color\" + 0.046*\"picture\" + 0.035*\"air\" + 0.034*\"trial\" + 0.028*\"hot\" '\n",
      "  '+ 0.020*\"water\" + 0.019*\"oil\" + 0.019*\"zone\" + 0.019*\"ethnic\" + '\n",
      "  '0.018*\"canadian\"'),\n",
      " (7,\n",
      "  '0.047*\"faith\" + 0.040*\"lose\" + 0.038*\"christian\" + 0.031*\"belief\" + '\n",
      "  '0.031*\"truth\" + 0.026*\"prove\" + 0.026*\"church\" + 0.023*\"season\" + '\n",
      "  '0.023*\"soon\" + 0.021*\"bible\"'),\n",
      " (8,\n",
      "  '0.075*\"faq\" + 0.055*\"paper\" + 0.028*\"facility\" + 0.026*\"band\" + '\n",
      "  '0.023*\"conference\" + 0.021*\"exchange\" + 0.020*\"brother\" + '\n",
      "  '0.019*\"publication\" + 0.019*\"radiation\" + 0.018*\"mercy\"'),\n",
      " (9,\n",
      "  '0.766*\"ax\" + 0.011*\"rider\" + 0.007*\"probe\" + 0.007*\"max\" + 0.007*\"travel\" + '\n",
      "  '0.006*\"deliver\" + 0.006*\"mph\" + 0.006*\"highway\" + 0.005*\"film\" + '\n",
      "  '0.005*\"movie\"'),\n",
      " (10,\n",
      "  '0.026*\"year\" + 0.024*\"time\" + 0.024*\"go\" + 0.023*\"think\" + 0.023*\"good\" + '\n",
      "  '0.019*\"come\" + 0.016*\"say\" + 0.014*\"s\" + 0.014*\"day\" + 0.013*\"team\"'),\n",
      " (11,\n",
      "  '0.045*\"gun\" + 0.031*\"kill\" + 0.025*\"government\" + 0.020*\"war\" + '\n",
      "  '0.019*\"attack\" + 0.019*\"soldier\" + 0.017*\"murder\" + 0.016*\"village\" + '\n",
      "  '0.016*\"military\" + 0.015*\"crime\"'),\n",
      " (12,\n",
      "  '0.149*\"key\" + 0.072*\"accept\" + 0.066*\"god\" + 0.040*\"master\" + 0.032*\"bit\" + '\n",
      "  '0.032*\"secure\" + 0.030*\"secret\" + 0.028*\"block\" + 0.023*\"usa\" + '\n",
      "  '0.022*\"library\"'),\n",
      " (13,\n",
      "  '0.079*\"window\" + 0.033*\"image\" + 0.031*\"screen\" + 0.029*\"graphic\" + '\n",
      "  '0.028*\"display\" + 0.027*\"video\" + 0.026*\"tape\" + 0.026*\"application\" + '\n",
      "  '0.025*\"monitor\" + 0.024*\"input\"'),\n",
      " (14,\n",
      "  '0.091*\"line\" + 0.070*\"write\" + 0.056*\"organization\" + 0.050*\"article\" + '\n",
      "  '0.035*\"nntp_poste\" + 0.032*\"host\" + 0.025*\"know\" + 0.018*\"need\" + '\n",
      "  '0.017*\"reply\" + 0.016*\"thank\"'),\n",
      " (15,\n",
      "  '0.019*\"number\" + 0.018*\"mail\" + 0.018*\"include\" + 0.017*\"information\" + '\n",
      "  '0.016*\"send\" + 0.015*\"new\" + 0.014*\"message\" + 0.013*\"source\" + '\n",
      "  '0.013*\"science\" + 0.012*\"list\"'),\n",
      " (16,\n",
      "  '0.097*\"family\" + 0.060*\"industry\" + 0.046*\"blue\" + 0.041*\"nuclear\" + '\n",
      "  '0.037*\"solid\" + 0.017*\"industrial\" + 0.016*\"micro\" + 0.009*\"assembler\" + '\n",
      "  '0.008*\"enclose\" + 0.005*\"pollution\"'),\n",
      " (17,\n",
      "  '0.125*\"space\" + 0.036*\"earth\" + 0.033*\"launch\" + 0.029*\"mission\" + '\n",
      "  '0.029*\"moon\" + 0.027*\"external\" + 0.027*\"orbit\" + 0.025*\"satellite\" + '\n",
      "  '0.021*\"plane\" + 0.019*\"flight\"'),\n",
      " (18,\n",
      "  '0.063*\"government\" + 0.051*\"public\" + 0.042*\"encryption\" + 0.039*\"security\" '\n",
      "  '+ 0.033*\"private\" + 0.032*\"key\" + 0.031*\"clipper\" + 0.030*\"goal\" + '\n",
      "  '0.023*\"tap\" + 0.021*\"protect\"'),\n",
      " (19,\n",
      "  '0.044*\"people\" + 0.034*\"man\" + 0.026*\"life\" + 0.023*\"child\" + 0.022*\"cause\" '\n",
      "  '+ 0.018*\"live\" + 0.017*\"love\" + 0.017*\"religion\" + 0.015*\"die\" + '\n",
      "  '0.014*\"study\"')]\n"
     ]
    }
   ],
   "source": [
    "pprint(lda_model.print_topics())\n",
    "doc_lda = lda_model[corpus]"
   ]
  },
  {
   "cell_type": "markdown",
   "metadata": {},
   "source": [
    "## Evaluation of Topic Models\n",
    "- Model Perplexity\n",
    "- Topic Coherence\n",
    "\n",
    "### Model Perplexity\n",
    "\n",
    "Model perplexity is a measurement of **how well** a **probability distribution** or probability model **predicts a sample**"
   ]
  },
  {
   "cell_type": "code",
   "execution_count": 39,
   "metadata": {},
   "outputs": [
    {
     "name": "stdout",
     "output_type": "stream",
     "text": [
      "\n",
      "Perplexity:  -14.032929239418733\n"
     ]
    }
   ],
   "source": [
    "print('\\nPerplexity: ', lda_model.log_perplexity(corpus))"
   ]
  },
  {
   "cell_type": "markdown",
   "metadata": {},
   "source": [
    "### Topic Coherence\n",
    "Topic Coherence measures score a single topic by measuring the **degree of semantic similarity** between **high scoring words** in the topic."
   ]
  },
  {
   "cell_type": "code",
   "execution_count": 40,
   "metadata": {},
   "outputs": [
    {
     "name": "stdout",
     "output_type": "stream",
     "text": [
      "\n",
      "Coherence Score:  0.5169368069811037\n"
     ]
    }
   ],
   "source": [
    "coherence_model_lda = CoherenceModel(model=lda_model, texts=data_lemmatized, dictionary=id2word, coherence='c_v')\n",
    "coherence_lda = coherence_model_lda.get_coherence()\n",
    "print('\\nCoherence Score: ', coherence_lda)"
   ]
  },
  {
   "cell_type": "markdown",
   "metadata": {},
   "source": [
    "### Visualize the Topic Model\n",
    "- Use **pyLDAvis**\n",
    "    - designed to help users **interpret the topics** in a topic model that has been fit to a corpus of text data\n",
    "    - extracts information from a fitted LDA topic model to inform an interactive web-based visualization"
   ]
  },
  {
   "cell_type": "code",
   "execution_count": 51,
   "metadata": {},
   "outputs": [],
   "source": [
    "import pyLDAvis\n",
    "import pyLDAvis.gensim_models\n",
    "import matplotlib.pyplot as plt\n",
    "%matplotlib inline"
   ]
  },
  {
   "cell_type": "code",
   "execution_count": 53,
   "metadata": {},
   "outputs": [
    {
     "name": "stderr",
     "output_type": "stream",
     "text": [
      "C:\\ProgramData\\Anaconda3\\lib\\site-packages\\pyLDAvis\\_prepare.py:246: FutureWarning: In a future version of pandas all arguments of DataFrame.drop except for the argument 'labels' will be keyword-only\n",
      "  default_term_info = default_term_info.sort_values(\n"
     ]
    },
    {
     "data": {
      "text/html": [
       "\n",
       "<link rel=\"stylesheet\" type=\"text/css\" href=\"https://cdn.jsdelivr.net/gh/bmabey/pyLDAvis@3.3.1/pyLDAvis/js/ldavis.v1.0.0.css\">\n",
       "\n",
       "\n",
       "<div id=\"ldavis_el633630546240629288102039458\"></div>\n",
       "<script type=\"text/javascript\">\n",
       "\n",
       "var ldavis_el633630546240629288102039458_data = {\"mdsDat\": {\"x\": [0.28780244856237147, 0.30653524000217897, 0.3017862954117777, 0.21963449692601525, 0.1106236933238451, 0.13233325987691408, 0.05824402607722307, -0.0686800124369784, 0.04911500564090217, -0.04203710677296145, -0.032260174806042013, -0.09030502843669584, -0.0872283643293712, -0.12942963609115624, -0.12104955752696746, -0.15756392786896165, -0.137320933336952, -0.18450663076033819, -0.20414931542949494, -0.21154377802530855], \"y\": [0.043138786557409936, -0.09403731134998941, -0.12820955425695774, 0.09989327230606466, 0.1911719584303368, -0.16547958011599498, 0.27228945263411447, 0.0031384608944393434, -0.1803097458767386, 0.0833962670701597, 0.030494837150391776, 0.10513870274534401, -0.06457370561956659, 0.003084038588028186, -0.03165490140564999, -0.038545046616769704, 0.0034068888721550577, -0.04632559413491511, -0.04135409644182793, -0.04466312943003499], \"topics\": [1, 2, 3, 4, 5, 6, 7, 8, 9, 10, 11, 12, 13, 14, 15, 16, 17, 18, 19, 20], \"cluster\": [1, 1, 1, 1, 1, 1, 1, 1, 1, 1, 1, 1, 1, 1, 1, 1, 1, 1, 1, 1], \"Freq\": [16.904397909570626, 16.63662169995632, 15.531395097398082, 12.183473026505663, 6.105881609261501, 5.797530852754431, 4.894525343849514, 4.701238015008725, 3.253761168876315, 2.654786725849828, 2.4658085898323625, 1.8259933347174673, 1.615171310479006, 1.1377167805506712, 1.0647259734988113, 1.0087606695528537, 0.989302309858804, 0.6507619589346201, 0.35333713117761245, 0.22481049236676962]}, \"tinfo\": {\"Term\": [\"ax\", \"line\", \"write\", \"organization\", \"article\", \"people\", \"nntp_poste\", \"drive\", \"host\", \"program\", \"file\", \"key\", \"window\", \"go\", \"year\", \"space\", \"government\", \"think\", \"problem\", \"know\", \"believe\", \"good\", \"reason\", \"bit\", \"man\", \"say\", \"car\", \"run\", \"public\", \"gun\", \"line\", \"article\", \"nntp_poste\", \"host\", \"organization\", \"write\", \"thank\", \"have\", \"keyword\", \"discussion\", \"i\", \"pin\", \"function\", \"appreciate\", \"self\", \"dept\", \"advice\", \"disclaimer\", \"eat\", \"clearly\", \"wait\", \"willing\", \"processor\", \"mhz\", \"wife\", \"pack\", \"sc\", \"btw\", \"circuit\", \"prefer\", \"reply\", \"wonder\", \"university\", \"distribution_world\", \"help\", \"advance\", \"m\", \"need\", \"d\", \"try\", \"problem\", \"want\", \"know\", \"compare\", \"work\", \"look\", \"post\", \"sure\", \"idea\", \"question\", \"good\", \"read\", \"thing\", \"way\", \"new\", \"go\", \"team\", \"game\", \"win\", \"play\", \"remember\", \"home\", \"bike\", \"guy\", \"pick\", \"fan\", \"sorry\", \"hit\", \"job\", \"head\", \"watch\", \"wing\", \"score\", \"ride\", \"forget\", \"night\", \"minute\", \"record\", \"steal\", \"throw\", \"flame\", \"college\", \"star\", \"finally\", \"owner\", \"year\", \"start\", \"well\", \"bad\", \"keep\", \"great\", \"day\", \"s\", \"leave\", \"happen\", \"stop\", \"come\", \"see\", \"old\", \"time\", \"good\", \"tell\", \"get\", \"think\", \"take\", \"second\", \"say\", \"end\", \"maybe\", \"lot\", \"let\", \"know\", \"little\", \"point\", \"look\", \"run\", \"reason\", \"evidence\", \"claim\", \"law\", \"sense\", \"talk\", \"exist\", \"word\", \"rule\", \"argument\", \"explain\", \"matter\", \"clear\", \"simply\", \"apply\", \"certain\", \"statement\", \"conclusion\", \"grant\", \"reality\", \"community\", \"society\", \"logic\", \"knowledge\", \"nature\", \"moral\", \"argue\", \"ignore\", \"define\", \"route\", \"fact\", \"state\", \"mean\", \"true\", \"believe\", \"present\", \"view\", \"agree\", \"action\", \"suggest\", \"understand\", \"issue\", \"people\", \"right\", \"consider\", \"point\", \"case\", \"example\", \"answer\", \"say\", \"person\", \"question\", \"give\", \"think\", \"thing\", \"way\", \"know\", \"ask\", \"mail\", \"include\", \"information\", \"send\", \"message\", \"list\", \"address\", \"email\", \"receive\", \"physical\", \"test\", \"copy\", \"phone\", \"service\", \"patient\", \"value\", \"fax\", \"section\", \"contact\", \"product\", \"board\", \"request\", \"format\", \"author\", \"special\", \"date\", \"quality\", \"license\", \"direct\", \"health\", \"science\", \"source\", \"available\", \"system\", \"research\", \"interested\", \"number\", \"department\", \"return\", \"reference\", \"datum\", \"type\", \"technology\", \"provide\", \"new\", \"order\", \"info\", \"follow\", \"book\", \"group\", \"car\", \"cost\", \"low\", \"cpu\", \"rate\", \"light\", \"increase\", \"model\", \"wire\", \"white\", \"character\", \"engine\", \"safety\", \"bus\", \"ground\", \"normal\", \"mount\", \"radio\", \"pull\", \"upgrade\", \"mile\", \"dealer\", \"room\", \"factor\", \"extra\", \"insurance\", \"procedure\", \"hide\", \"failure\", \"black\", \"spend\", \"power\", \"high\", \"hour\", \"report\", \"large\", \"small\", \"box\", \"buy\", \"publish\", \"design\", \"risk\", \"turn\", \"new\", \"pay\", \"man\", \"life\", \"love\", \"religion\", \"die\", \"study\", \"atheist\", \"young\", \"body\", \"drug\", \"brain\", \"notice\", \"kid\", \"disease\", \"raise\", \"treat\", \"treatment\", \"criminal\", \"doctor\", \"fear\", \"false\", \"parent\", \"hole\", \"student\", \"door\", \"hate\", \"heart\", \"son\", \"father\", \"anti\", \"cause\", \"child\", \"learn\", \"respond\", \"woman\", \"age\", \"live\", \"people\", \"lie\", \"death\", \"effect\", \"book\", \"human\", \"world\", \"show\", \"person\", \"drive\", \"card\", \"com\", \"driver\", \"do\", \"fast\", \"internet\", \"memory\", \"solution\", \"hardware\", \"slow\", \"device\", \"mode\", \"instal\", \"scsi\", \"controller\", \"corporation\", \"ide\", \"firearm\", \"headache\", \"pc\", \"interface\", \"generate\", \"ram\", \"warranty\", \"wide\", \"crash\", \"status\", \"bio\", \"cycle\", \"machine\", \"software\", \"review\", \"chip\", \"network\", \"speed\", \"bit\", \"news\", \"access\", \"run\", \"problem\", \"support\", \"ax\", \"rider\", \"probe\", \"max\", \"travel\", \"deliver\", \"mph\", \"highway\", \"film\", \"movie\", \"afford\", \"ratio\", \"jim_frost\", \"tiny\", \"log\", \"subjective\", \"running\", \"joint\", \"harley\", \"opening\", \"mad\", \"dirt\", \"openwindow\", \"brick\", \"oracle\", \"io\", \"oracle_corporation\", \"vw\", \"pedal\", \"moto\", \"gun\", \"war\", \"soldier\", \"village\", \"military\", \"armenian\", \"weapon\", \"police\", \"turkish\", \"population\", \"withdraw\", \"occupy\", \"arm\", \"turk\", \"civilian\", \"terrorism\", \"girl\", \"percent\", \"minority\", \"aged\", \"trap\", \"inhabitant\", \"escape\", \"greek\", \"invasion\", \"officer\", \"troop\", \"proceed\", \"british\", \"army\", \"murder\", \"crime\", \"kill\", \"attack\", \"cop\", \"government\", \"land\", \"force\", \"death\", \"shoot\", \"city\", \"country\", \"people\", \"area\", \"window\", \"screen\", \"graphic\", \"display\", \"video\", \"tape\", \"monitor\", \"input\", \"internal\", \"port\", \"feature\", \"printer\", \"manager\", \"cable\", \"load\", \"dangerous\", \"resolution\", \"workstation\", \"frame\", \"description\", \"connector\", \"configuration\", \"widget\", \"spring\", \"default\", \"locate\", \"enable\", \"finger\", \"ss\", \"violate\", \"page\", \"image\", \"period\", \"application\", \"map\", \"version\", \"set\", \"size\", \"run\", \"faith\", \"lose\", \"christian\", \"belief\", \"truth\", \"church\", \"season\", \"soon\", \"bible\", \"christianity\", \"trade\", \"revelation\", \"authority\", \"proof\", \"weight\", \"pen\", \"trust\", \"announcement\", \"listen\", \"insist\", \"gift\", \"scripture\", \"impression\", \"imply\", \"language\", \"observation\", \"bunch\", \"devil\", \"deserve\", \"san_jose\", \"prove\", \"proper\", \"interpretation\", \"believe\", \"program\", \"file\", \"entry\", \"server\", \"distribution\", \"motif\", \"mit\", \"session\", \"quick\", \"telnet\", \"registration\", \"modify\", \"trace\", \"implementation\", \"preach\", \"terminal\", \"advanced\", \"mechanism\", \"radius\", \"strip\", \"extension\", \"dirty\", \"suck\", \"correction\", \"core\", \"parameter\", \"diagnostic\", \"login\", \"extended\", \"stamp\", \"package\", \"multiple\", \"output\", \"contain\", \"error\", \"link\", \"object\", \"version\", \"code\", \"run\", \"set\", \"encryption\", \"private\", \"clipper\", \"tap\", \"agency\", \"vote\", \"benefit\", \"nhl\", \"helmet\", \"dod\", \"statistic\", \"proposal\", \"privacy\", \"export\", \"park\", \"crypto\", \"restriction\", \"warrant\", \"regulation\", \"cryptography\", \"pop\", \"gun_control\", \"stable\", \"pt\", \"expense\", \"secrecy\", \"wiretap\", \"press_release\", \"neat\", \"distribution_inet\", \"security\", \"goal\", \"government\", \"public\", \"protect\", \"prohibit\", \"key\", \"technology\", \"communication\", \"propose\", \"access\", \"legal\", \"price\", \"sell\", \"sale\", \"player\", \"cheap\", \"disk\", \"purchase\", \"market\", \"motherboard\", \"battery\", \"duo\", \"super\", \"amp\", \"up\", \"purdue_university\", \"brand\", \"volt\", \"junk\", \"ton\", \"portable\", \"rev\", \"computing\", \"catalog\", \"indication\", \"repost\", \"exe\", \"converter\", \"brand_new\", \"sustain\", \"powerbook\", \"manual\", \"electronic\", \"offer\", \"buy\", \"space\", \"launch\", \"mission\", \"moon\", \"external\", \"orbit\", \"satellite\", \"plane\", \"flight\", \"planet\", \"shuttle\", \"mar\", \"astronomy\", \"sky\", \"lunar\", \"environmental\", \"solar\", \"gif\", \"ozone\", \"distant\", \"planetary\", \"frequently_aske\", \"module\", \"characteristic\", \"space_station\", \"atmosphere\", \"diameter\", \"orbital\", \"apollo\", \"telescope\", \"rocket\", \"earth\", \"scale\", \"fly\", \"russian\", \"image\", \"project\", \"international\", \"fuel\", \"color\", \"picture\", \"air\", \"trial\", \"hot\", \"water\", \"oil\", \"zone\", \"ethnic\", \"canadian\", \"cold\", \"insert\", \"gas\", \"assembly\", \"heat\", \"cylinder\", \"camp\", \"middle\", \"regularly\", \"depth\", \"japanese\", \"shape\", \"reflect\", \"ray\", \"thermal\", \"impressive\", \"wall\", \"netcom\", \"unusual\", \"variation\", \"accept\", \"god\", \"master\", \"secure\", \"secret\", \"usa\", \"library\", \"cd\", \"specification\", \"phase\", \"qualified\", \"significance\", \"import\", \"novel\", \"okay\", \"au\", \"hunt\", \"garage\", \"ken\", \"access_digex\", \"arbitrary\", \"online_communication\", \"creature\", \"principle\", \"tolerance\", \"loop\", \"express_access\", \"unnecessary\", \"utilize\", \"tiff\", \"key\", \"block\", \"task\", \"bit\", \"chip\", \"attack\", \"paper\", \"facility\", \"band\", \"conference\", \"exchange\", \"brother\", \"publication\", \"radiation\", \"mercy\", \"beautiful\", \"length\", \"speaker\", \"monthly\", \"expire\", \"summarize\", \"vision\", \"submit\", \"tour\", \"introduction\", \"angle\", \"arrange\", \"rec\", \"leather\", \"supersede\", \"rain\", \"faq\", \"scott_roby\", \"iron\", \"radar\", \"nearby\", \"structure\", \"organize\", \"israeli\", \"font\", \"arab\", \"wave\", \"own\", \"lift\", \"translate\", \"australia\", \"postscript\", \"operator\", \"enhancement\", \"fate\", \"shaft\", \"premium\", \"pov\", \"withdrawal\", \"submission\", \"foster\", \"char\", \"union\", \"erase\", \"object\", \"palestinian\", \"planet_kuiper\", \"biker\", \"interim\", \"identity\", \"border\", \"compose\", \"tangible\", \"lebanese\", \"print\", \"family\", \"industry\", \"blue\", \"nuclear\", \"solid\", \"industrial\", \"micro\", \"assembler\", \"enclose\", \"pollution\", \"bridge\", \"propulsion\", \"climb\", \"modular\", \"iranian\", \"husband\", \"aluminum\", \"timer\", \"iraqi\", \"lopez\", \"beginner\", \"snow\", \"propellant\", \"chemical_weapon\", \"income\", \"amateur\", \"shots_save\", \"signetic\", \"mont_pierce\", \"handbook\", \"definition\", \"crystal\", \"iran\", \"protocol\", \"hockey\", \"clipper_chip\", \"encrypt\", \"c\", \"king\"], \"Freq\": [42804.0, 18261.0, 14162.0, 11222.0, 9950.0, 8150.0, 6992.0, 3773.0, 6394.0, 2815.0, 2664.0, 2378.0, 2506.0, 4756.0, 5298.0, 1588.0, 2167.0, 8042.0, 4174.0, 8968.0, 3605.0, 7153.0, 3611.0, 2171.0, 2310.0, 5774.0, 2233.0, 3304.0, 1674.0, 1730.0, 18260.35336914831, 9949.078915507776, 6990.737960221498, 6393.370956863129, 11218.283281521633, 14156.814778401898, 3280.041424790677, 1191.2511268126834, 1130.2774768554941, 1045.5115550168616, 1027.147440776497, 979.7068980928453, 725.9875228766793, 710.301417011081, 622.1727565196858, 567.1796893964269, 551.7696089913491, 550.2485683519515, 519.9341423262413, 496.0079747044575, 489.40287257010505, 454.7242968776587, 388.20969311238815, 386.3548488016661, 371.0006518563496, 362.2279545293123, 343.371719641623, 329.27215198232534, 310.22031328947725, 300.267560334738, 3477.8699015932702, 843.9031200603323, 2119.8186474829486, 1303.7575138656834, 2589.7305669580956, 894.3852761830155, 2994.4982321195166, 3643.8935084512946, 1673.9639843313437, 3203.8857195291853, 3104.840673129988, 3113.0767114642063, 4979.603355355031, 748.4024277101246, 2859.886135532831, 2423.6968547611777, 1905.7572536990676, 1736.0240517875518, 1182.7110862000816, 1673.744848186076, 2278.1346878037107, 1440.465064753508, 1459.6536062252783, 1323.200279464991, 1148.1264059481887, 4755.037737171359, 2520.968251792303, 2382.389101210975, 1969.2841976876055, 1719.0921115742246, 1392.21016079515, 1209.1206127456378, 929.1292005379458, 796.954707900232, 762.3355201011757, 759.4600035553851, 754.8528139548625, 749.8739661544516, 700.0511861980485, 915.108956670407, 641.3739443037973, 621.0084838623236, 620.9431029599647, 599.8220787102446, 572.1775598204391, 566.8496148357426, 564.418043825547, 551.1285006062027, 546.1354255530954, 545.15250195904, 515.4291466315543, 468.7406902999275, 458.9990739771131, 454.4468135431497, 454.3673895596503, 5094.426133713919, 2219.442764577805, 2335.994628725518, 2194.444975118423, 681.215684914663, 1989.2760200849643, 2670.24206045555, 2731.786853475797, 1577.9273765190453, 1786.3567206073212, 1246.7209855207057, 3844.0589197287, 1680.022878554752, 1795.3756017017354, 4799.796213725395, 4506.687919132053, 2503.041176708595, 2473.883688486737, 4598.175876231801, 1888.575617585508, 1226.9742954643039, 3103.7577766660434, 1583.6814484412994, 1234.6940304031127, 1445.763750003132, 1438.0364640305295, 2507.725027719278, 1424.920594588437, 1608.7634043017465, 1532.5987969135952, 1499.87556319717, 3609.895264174868, 3199.2529751113098, 2214.654243145164, 1913.8800151687592, 1868.1488815862185, 1810.8171976447595, 1729.9644393050437, 1384.8615631363116, 1187.6044087095217, 1106.1929429681265, 1084.9315429894946, 1083.7708002079166, 934.5026484508666, 805.7580315195612, 785.398781944564, 732.8980816063317, 725.2207765133064, 712.0655770311431, 632.1994758462317, 631.022184184084, 596.5754098813146, 574.5702559273589, 552.2969671240667, 517.1582346929519, 513.8437733115014, 475.6759509745286, 468.81083055258574, 457.8647991662302, 586.3513395288571, 449.0976320813923, 2342.1564474946767, 2679.0297587845107, 2952.503577881565, 1661.77995650179, 3272.307728990104, 873.6614842418655, 1122.4570968239368, 1271.3437216616683, 749.1154687554928, 788.1060928375762, 991.6479533114145, 1576.3781043219044, 4517.951683888419, 2632.8735983680103, 1367.2678249330058, 2421.2525314158797, 1994.5799220297572, 1114.9267114030872, 1097.5833126294922, 2659.1012959135933, 1261.6553622145138, 1851.2449523059895, 1519.3591727311623, 2566.2595828387803, 1837.8576386547948, 1668.9486736600047, 1446.649151377485, 1208.765397817995, 2642.5443127148455, 2575.192508992282, 2477.3386604541406, 2282.2163169210485, 1956.5871080741456, 1782.6324434540677, 1475.6298856967437, 1465.4003604701816, 1374.8713887931303, 1326.6365034710896, 1307.9832821861169, 1290.668011857008, 1193.3109045860488, 1165.9355108852735, 1115.7081306568844, 945.5666262610185, 849.5299363144452, 815.4088825247532, 776.2442796403985, 770.7373706154065, 700.6551084124004, 659.5889831942508, 628.9192224498814, 614.7136091004496, 601.7115446778981, 571.8539956932275, 559.5491965886273, 543.2433576548232, 539.9917456972179, 534.2786479097482, 1820.2706762812134, 1927.5457496347783, 1616.9535180175435, 1446.6589315314654, 1329.4715568070028, 1023.9698104671562, 2746.2306563271177, 714.7296915850558, 1088.4130544756872, 984.4088800743534, 1351.1400232098479, 1344.2216568508723, 1332.5686704964687, 1477.9551149789104, 2228.012983443878, 1478.286230865669, 1100.2429281968869, 1304.8137411112377, 1207.381778721276, 1202.241187720087, 2231.700752176924, 1279.9087099330234, 1223.1854842445123, 1047.656105166873, 994.659113733862, 901.5967393420311, 896.7272939565354, 889.913923253973, 733.5474745716533, 664.4760410630628, 632.0008148474788, 604.527247165281, 597.697586396951, 588.9729381024915, 562.7652639958013, 537.4068025084986, 454.1202588085807, 437.2839350886006, 426.772956034491, 426.69383768602177, 400.67529056695815, 398.66367022554994, 390.66430162273906, 370.7097821809239, 358.8799499391533, 340.52486485928, 315.8512282737423, 314.77314361000043, 302.41888615968776, 765.735630624103, 686.4814189507598, 1721.2188936211485, 1980.2433765560759, 538.4485893908411, 1230.8764230958793, 1245.5076059006217, 998.6574799594065, 546.7377994957759, 1155.839513428253, 565.2699460996262, 614.1529861931393, 514.3085031544207, 629.2085894250823, 778.9528897951169, 556.1901608527041, 2309.203326699796, 1774.8549721588524, 1204.4115931275937, 1198.492389570898, 1059.7946063654508, 956.9068237639144, 874.8305341983223, 803.4973539200972, 770.7133815125544, 743.659730586119, 621.5989090796932, 534.9650291665941, 490.88789180439596, 483.61025195415573, 454.0426980512491, 440.412189613817, 435.28002679546285, 433.14902237929044, 387.5566887950311, 375.6838169604059, 375.2747329135831, 366.6965472326528, 366.01902985890234, 360.91109503359417, 357.59121818514274, 354.58553508492184, 353.9609342151885, 342.55461971949944, 330.67395000101965, 312.4418878379708, 1498.1707781318587, 1560.5493563603716, 619.0951144711814, 581.6961426041327, 676.6660245378722, 637.2955679280709, 1247.5764422589223, 3025.0888562192727, 533.1387840218899, 821.5351107879225, 619.7322946432645, 830.8173523197543, 544.8197894056245, 561.8973475874571, 493.92248804598705, 462.55102367805847, 3772.574687264373, 1846.7434893121265, 1527.5754317387107, 1489.2789926627909, 1317.5706750534553, 1067.691869082551, 1029.443978527991, 1027.8569403688014, 900.8595894036912, 871.4010943763748, 795.0217538614545, 788.3447608495464, 748.0425526177071, 709.0920630938673, 601.3771444874856, 582.5097586394909, 576.4521927438633, 528.6187325852035, 524.1042077512831, 488.374717558655, 429.80935209036767, 401.6896258864469, 349.809787349838, 346.8418255127682, 344.7073973568829, 329.2081464536636, 311.33589692631335, 286.786139642688, 286.63093067010357, 280.8939963315605, 1286.4360098160148, 1507.9714737932075, 567.6293659245673, 1323.7041521973254, 694.4844848935057, 769.2385877988359, 1411.028854383366, 814.715385694068, 582.6596847093604, 1278.99768279336, 1008.616446130087, 726.535882756939, 42803.36388220567, 591.0442700376709, 406.6463286939416, 393.45546937748605, 379.09385698997755, 347.9708629507617, 334.47676997564156, 323.5506781022957, 281.95135538859773, 281.53159548574706, 201.68387324784908, 175.45041461410054, 174.17183963755747, 168.2886044360354, 150.8126082872674, 149.1956179901259, 133.4622200395012, 131.32823886331403, 123.23986549258855, 122.55194950524985, 119.75695902696033, 115.42621874602438, 107.3125650612688, 93.09825636665363, 92.1704506263917, 86.36139746832956, 71.50577157417743, 66.44101744043256, 59.07637925649243, 56.972381859863845, 1728.7762764409213, 781.0613903183763, 721.4691230128851, 619.6105438381237, 605.2094802613901, 580.7320522066829, 575.3803883557514, 569.6528563420438, 440.4417368219384, 395.46449158737244, 391.1016113431846, 390.95104795838296, 386.6513106839456, 364.80369907047333, 326.3635341925373, 275.96589904526934, 260.25255670416, 249.84707795658525, 246.93236173255397, 242.3036542683097, 218.90059321802258, 215.73946452618569, 207.65766867739902, 204.40859728125758, 200.97332076125687, 192.90470821362746, 189.00713366438373, 187.55637620793388, 181.94178474280173, 170.90723560434972, 644.4135201875288, 591.6914817425023, 1196.306560813463, 746.0689468526537, 342.7243351082419, 958.8505972864074, 343.1952959351033, 480.20948894236994, 538.8744947131848, 353.867826580984, 367.01579216875535, 358.21925248154344, 500.96259840020093, 291.3338641100222, 2504.987887601236, 984.8337124671738, 917.6531089519574, 871.8955513682724, 858.9386971985061, 830.6716819109481, 803.2170415597903, 750.3101613319955, 579.7201238768869, 507.72363759891186, 503.4813723026412, 470.2075329325288, 436.2503370027905, 407.86262046844143, 373.215484809055, 327.24917607953216, 293.9876213749076, 281.3076130158963, 272.4491054656207, 253.46015726064604, 240.231732632888, 229.92866010001757, 221.5715608700489, 217.50194214652566, 215.723075561241, 193.58518259383902, 176.7501359413513, 175.96031717902255, 173.54617468659555, 169.6738306450992, 706.9819698214139, 1050.5597880773064, 471.858938766089, 829.637242542906, 258.50060253295663, 688.9370893424355, 413.6439074814647, 248.36293214689397, 257.891159690321, 1380.8578433994126, 1175.3247488758172, 1113.829476726892, 908.1924347827648, 895.0379542275446, 766.3950505613429, 686.4183747145764, 671.2415053745974, 614.1877470898347, 564.6749264919403, 538.4427794679955, 480.8631695264247, 456.41931121410806, 400.2236923881842, 369.43576576941877, 367.402212463915, 346.68391923800135, 337.2309277122225, 334.39975265568427, 333.9736446634307, 313.615782566903, 291.7885985678109, 261.4828755161921, 254.6829999544807, 252.12310364406773, 228.2752642271297, 226.7780037255856, 215.84090890852954, 212.36443001234528, 189.5997811331785, 766.5947562673857, 328.4571703421929, 249.5692399964535, 324.9906275965007, 2814.1254843111224, 2663.6095650639063, 1155.716199613358, 803.940568687026, 733.5304598720005, 521.6572409427849, 379.34481091243396, 329.566125346423, 287.2366966878759, 279.7185295653942, 244.24490926855083, 227.06560681452464, 203.13710570076142, 201.69809708043414, 189.80525319253195, 182.47586650362382, 179.35913975016587, 166.48981850768368, 157.6835417836804, 152.91737656585394, 144.60154692072197, 132.00617865243467, 129.98526379575628, 120.46635559030923, 105.34735536578702, 99.37045040504302, 95.40197803116996, 77.50380296079629, 65.8750070880515, 50.34492074217056, 483.84613116990397, 184.8199660237538, 192.50000847679098, 366.15625688301407, 296.5299537550874, 175.61898678920787, 178.5140850306516, 247.55506572206934, 248.09248049956022, 266.9700993586746, 163.4934976491375, 808.836141470507, 629.4327947763112, 600.6827659739615, 449.7242662739079, 384.05381864713274, 357.63177561142226, 289.7474903703161, 280.8904233994237, 275.1311091289144, 267.30761577083155, 250.05880004891972, 249.729783734599, 217.4822154935425, 208.86499553315488, 199.76892192819236, 199.2145238062518, 176.64406901311014, 159.35863433506938, 144.83476602287234, 141.40875692302967, 138.0845048931723, 132.40332775073108, 122.48708250629836, 117.19034182198725, 106.2240372823471, 103.00145292072663, 81.68635065755538, 77.50087370538013, 76.30506273981862, 73.08176316421127, 754.2966406431549, 574.4944548691678, 1206.951067099967, 970.7824021298076, 393.8921234473437, 146.4018982100793, 623.5921427951424, 273.82789984304594, 171.25943746998468, 154.85237496959755, 172.20537948905007, 160.17027704774586, 1193.0884051110534, 1089.5969618093116, 1068.617939898326, 974.1393417869808, 777.9011369656492, 720.2764608337939, 360.39206619382156, 323.72283449084364, 320.509747623582, 240.97012933745117, 182.61630193867623, 179.20652194209873, 142.9402233628368, 139.0706572755374, 124.49756924130422, 104.759085619689, 97.08201436554248, 89.97249038636751, 88.99597707425598, 88.66264916147449, 84.78983991090435, 84.28953002280944, 84.02111575467761, 81.18369425004028, 79.0169589097878, 71.82727526988859, 63.921759373395204, 63.42881115105462, 61.529809959257776, 44.03237734732758, 313.7169893835924, 189.36817742924148, 236.92598660512087, 255.37642431850318, 1587.0755349236408, 417.3626555767444, 365.13174546171007, 363.8632519440837, 347.42179850886583, 343.18904709542215, 312.5665857724995, 269.89390750342056, 244.71856620696903, 215.82081759971442, 183.21666813210223, 177.22419725938008, 175.48142719313586, 165.98950778474003, 143.47366533939524, 130.5144753111696, 128.05374875778864, 118.63348119936168, 112.93538521609055, 101.86434342774231, 101.2231071069894, 87.13572163157326, 86.39742115808244, 82.88497769485642, 79.47314620585877, 66.60227453785963, 63.15642050157869, 62.67989267753003, 61.16476663240343, 60.12156567281376, 203.96859502364825, 451.6626637168064, 93.284343797006, 104.95917529854815, 93.48585652163061, 150.5095375470072, 116.69325895501603, 103.58596800643197, 88.6962562557433, 873.5592616347591, 552.8300913694646, 423.79548962140507, 404.0728170067714, 332.64313323894794, 235.47559175401656, 227.92676594714044, 225.97305862604665, 225.9723885920983, 216.75656299063175, 210.04976884666, 206.98011998457218, 204.40562621032262, 181.20356780694644, 179.79364887110938, 178.5297750015499, 161.7067524690726, 154.52405554604547, 151.41583506299708, 149.05646685510106, 144.9840898548272, 144.05976685583175, 143.7955278010634, 122.50119005545855, 113.70545340514894, 107.85210383566857, 106.89442431327726, 95.97202224533714, 95.9225514054832, 88.51075312466301, 845.4725440351469, 776.3314038418766, 472.5616371685148, 379.8075768213727, 352.3374901161646, 273.77675217902294, 253.034524020007, 243.07329288952803, 137.7852428255207, 99.16582736138122, 93.59208293509562, 91.18338266582727, 86.91373210736351, 80.22975204231507, 77.03518724485782, 76.71700391460242, 75.33362979593836, 70.81755225526702, 65.62195239329694, 64.75900345489214, 62.08000670393967, 59.10740251482876, 56.374029959838225, 206.9947881088256, 50.999625150309726, 48.50025473368363, 47.69628684112919, 46.48979014907477, 43.8188785818748, 43.444093489440185, 1753.407981478156, 323.93665173281363, 105.61237736728698, 380.39901910158864, 251.57823813590824, 187.04391681752023, 425.0358082624026, 217.15415862217478, 204.10835956421727, 181.0736184497207, 162.23987467169775, 152.89260156731376, 149.05463310517493, 145.32563381975436, 141.36604578592718, 126.0974224865029, 125.99731434954155, 125.09749377246762, 100.30801464268902, 99.1397189691745, 89.16740396935009, 88.26253332002442, 87.14733904817527, 85.85914558224223, 85.39115300932322, 81.54831457736674, 72.31981542621257, 65.0141979228014, 61.62330853893573, 57.07499086242818, 56.06508807559331, 578.27963839257, 45.59612620558709, 43.36536665087457, 42.61708426183905, 41.172374576589505, 123.85660240982244, 82.7587470163596, 470.53624976798164, 193.14156981760183, 181.8293773643567, 159.04804621767306, 103.1506359449275, 85.46562192921127, 71.76633990357088, 67.2730008084614, 59.62319369626453, 49.31505194572169, 39.51885909880222, 33.393234514237086, 32.89192888445396, 24.182153788708312, 23.237871268394457, 22.26214395631223, 21.160881947797822, 16.228288761083547, 15.964192994567412, 15.64458870211708, 13.722319960995257, 223.34136844225458, 0.044340018380645836, 0.044337298644761214, 0.044337417060228104, 0.044336519394592024, 0.04433612976950743, 0.04433612212979989, 0.04433472024346611, 0.044334762261857584, 0.044336817343186126, 0.04433592731725759, 260.4338643794982, 160.29043326751943, 123.05824246184721, 108.23655116024435, 99.33118641331542, 44.16333295814425, 43.12911539059759, 23.137003225080356, 20.80404701999977, 13.536516124193335, 12.698871668827323, 10.578561898351856, 9.954359642063396, 0.5012753106093244, 0.033916724030592815, 0.03391648342305406, 0.03391591714470526, 0.03391569598019993, 0.03391512484109278, 0.03391511511957606, 0.0339147797272493, 0.03391526823346436, 0.03391477243611176, 0.033914728689286536, 0.03391485749938304, 0.03391489638544991, 0.03391464605639443, 0.033914517246297925, 0.033914517246297925, 0.03391498873985873, 0.03391556960048261, 0.03391470681587392, 0.03391512727147195, 0.033915370309389896, 0.0339162185117235, 0.03391510782843852, 0.03391563765109963, 0.03391522934739749, 0.033915010613271346], \"Total\": [42804.0, 18261.0, 14162.0, 11222.0, 9950.0, 8150.0, 6992.0, 3773.0, 6394.0, 2815.0, 2664.0, 2378.0, 2506.0, 4756.0, 5298.0, 1588.0, 2167.0, 8042.0, 4174.0, 8968.0, 3605.0, 7153.0, 3611.0, 2171.0, 2310.0, 5774.0, 2233.0, 3304.0, 1674.0, 1730.0, 18261.668826550253, 9950.394372909714, 6992.053417623437, 6394.686414265068, 11222.220751520867, 14162.32322682607, 3281.3568821926146, 1192.5665842146211, 1131.5929342574318, 1046.8270124429107, 1028.4628981784347, 981.0223555359605, 727.3029803079364, 711.6168744130189, 623.4882139615825, 568.4951467983648, 553.085066393287, 551.5640257582547, 521.2495997360136, 497.3234321261416, 490.7183299720432, 456.0397542795968, 389.52515052811555, 387.6703062102184, 372.3161092661222, 363.54341193125043, 344.6871770518123, 330.5876093842635, 311.53577070511926, 301.58301773667614, 3510.830600456909, 857.6124208218838, 2202.7139661280266, 1356.4042349943077, 2934.925227610772, 968.9670656109271, 3739.8137361971585, 4748.168991568688, 2003.3630066771916, 4193.840896770705, 4174.9512588410125, 4513.971571940316, 8968.687461480707, 816.5299177356367, 4865.810249383715, 4118.39629551467, 3103.400480502623, 2756.9019890478667, 1730.5659826346046, 3577.0073043775624, 7153.635813604489, 2730.360623951467, 4766.756336033196, 4498.740234215585, 4156.257364555817, 4756.349950929046, 2522.280465549989, 2383.701314968661, 1970.5964114452913, 1720.4043253319105, 1393.522388772429, 1210.43282879854, 930.4414142956318, 798.266921657918, 763.6477338588617, 760.7722173213223, 756.1650277125485, 751.1861799121376, 701.3633999557345, 916.9580383400917, 642.6861580614833, 622.3206976200096, 622.2553167176507, 601.1342924679305, 573.4897735781251, 568.1618285934286, 565.730257583233, 552.4407153368816, 547.4476393416315, 546.464715716726, 516.7413603892403, 470.0529040576138, 460.31129323287587, 455.75902730083595, 455.67960331733656, 5298.911851206862, 2289.4149924364974, 2455.323715420571, 2323.476350672193, 692.1452040994673, 2155.4316276642935, 2961.681043434943, 3045.294228437022, 1701.6630554130375, 1964.656744957805, 1362.8698312779413, 4973.984792659621, 1949.520068486687, 2118.746201639796, 6766.066725430975, 7153.635813604489, 3496.2883073962657, 3470.3442488959327, 8042.646609654446, 2507.225116203318, 1475.68154380977, 5774.40337827265, 2372.2746893331023, 1557.9053579262575, 2124.8483645466886, 2142.4866964743537, 8968.687461480707, 2147.654764572257, 4041.953236577169, 4118.39629551467, 3304.819413874058, 3611.214152614905, 3200.5718626352104, 2215.9731306624003, 1915.1989026859953, 1869.467769110119, 1812.1360851619957, 1731.2833268222798, 1386.1804506535477, 1188.923296231693, 1107.5118304853627, 1086.2504305067307, 1085.0896877251528, 935.8215359681029, 807.0769190367976, 786.7176694618004, 734.2169691235681, 726.5396640305428, 713.3844645550438, 633.5183633701324, 632.3619864574854, 597.8942974063854, 575.8891434445952, 553.6158546624403, 518.4771222101882, 515.1626608287378, 476.9948384917652, 470.1297180741877, 459.1836866913014, 588.0600240604964, 450.4165197194272, 2351.552304802118, 2818.6748439401244, 3158.3898649073953, 1741.9354699997948, 3605.0963701988226, 901.2298167551788, 1203.4720218223786, 1394.706041586868, 784.2126533401594, 832.9480157789917, 1111.2031402349521, 2004.96385535046, 8150.808229360476, 4065.6345048381763, 1752.7243614858967, 4041.953236577169, 3086.044479595307, 1360.6582563297623, 1331.1711093273734, 5774.40337827265, 1725.452255470011, 3577.0073043775624, 2582.5048070317052, 8042.646609654446, 4766.756336033196, 4498.740234215585, 8968.687461480707, 2540.2284683029866, 2643.855171159273, 2576.5033674367096, 2478.649518898568, 2283.527175365476, 1957.8979665185732, 1783.9433018984953, 1476.9407441411713, 1466.7112189146092, 1376.1822472442223, 1327.9473619773519, 1309.2941406371588, 1291.9788703086106, 1194.6217630304764, 1167.246369329701, 1117.0189891401262, 946.8774847054464, 850.8407947842851, 816.719740969181, 777.5551380848264, 772.0482290598343, 701.9659668706175, 660.8998416386786, 630.2300808943093, 616.0244675448774, 603.022403122326, 573.1648541376553, 560.8600550330551, 544.554216099251, 541.3026041468928, 535.5895063702616, 1836.1918863211424, 1992.615718808243, 1674.017605751787, 1497.6513489525664, 1404.0409152218408, 1084.1745273289068, 3349.8103249379906, 730.2469733878676, 1190.8991312017324, 1060.9310828834825, 1556.3156242486486, 1583.1933148050966, 1607.6392908747416, 2068.5728236843142, 4156.257364555817, 2206.0616695398326, 1319.3352311948406, 2467.525252286196, 2039.4369715456605, 2683.5473509840062, 2233.017666681793, 1281.2256244378925, 1224.5023987493814, 1048.9730196845064, 995.9760282387313, 902.9136538469004, 898.0442084614047, 891.2308377588423, 734.8643890765226, 665.792955567932, 633.3177293736256, 605.8441616701502, 599.0145009018203, 590.2898526196859, 564.0821785006706, 538.7237170212022, 455.43717331959994, 438.60084959347006, 428.0898705393605, 428.01075219750544, 401.99220507182764, 399.9805847304194, 391.9812161451404, 372.0266966857934, 360.19686444402276, 341.8417793641495, 317.16814279325973, 316.090058214357, 303.7358007004481, 769.10227200674, 701.0310268613193, 1877.3172490069705, 2213.745644110881, 564.1769597046532, 1431.284170964002, 1506.2241936053665, 1271.7266681846213, 600.519564709231, 1685.5433553828184, 655.6412626236732, 995.664453115438, 682.6079613352588, 1298.108723414789, 4156.257364555817, 1347.7617641137545, 2310.5193812513, 1776.1710267103565, 1205.7276476790978, 1199.808444122402, 1061.1106609169549, 958.2228783154187, 876.1465887617379, 804.8134084716015, 772.0294360640587, 744.9757851376233, 622.9149636430582, 536.2810837300602, 492.2039463559004, 484.9263065056602, 455.3600234842423, 441.7282441653215, 436.5960813469673, 434.4650769351602, 388.8727433465356, 376.9998715119104, 376.59078746508754, 368.01260178415725, 367.3350844362208, 362.22714958509863, 358.90727274636004, 355.90158964309063, 355.27698876669297, 343.8706742710039, 331.9900045525241, 313.75794239329514, 1578.7724555719735, 1650.211723760899, 660.2273615519183, 622.2226059926144, 773.0271838538976, 720.7229033170405, 1762.1540845060108, 8150.808229360476, 645.0841001336679, 1361.6517791669733, 900.8042466402818, 2039.4369715456605, 880.9009433926448, 1717.5625314468764, 975.15542231714, 1725.452255470011, 3773.8919005451403, 1848.0607025928944, 1528.8926450194786, 1490.5962059435587, 1318.8878883342231, 1069.0090823633188, 1030.761191808759, 1029.1741536495692, 902.1768027308227, 872.7183076571425, 796.3389671422223, 789.6619741303142, 749.3597658984748, 710.409276374635, 602.6943577682533, 583.8269719202586, 577.769406024631, 529.9359458659712, 525.4214210320508, 489.69193096733005, 431.12656537113565, 403.0068391672149, 351.12700064525393, 348.1590387935362, 346.02461068312914, 330.52535973936665, 312.6531102331528, 288.1033529529739, 287.94814395087155, 282.21120962841417, 1311.8959455154175, 1616.1641034986756, 591.7647328558617, 1576.5446427804466, 772.0422354967536, 953.370521626194, 2171.744054016525, 1098.0279927162858, 756.1141395699775, 3304.819413874058, 4174.9512588410125, 1919.3548332738055, 42804.61678667878, 592.2971745822751, 407.8992332940429, 394.7083739769563, 380.34676173580266, 349.2237678114042, 335.7296745312801, 324.8035828668136, 283.2042599771991, 282.78450013428903, 202.93677790007817, 176.70331922097108, 175.4247442040655, 169.54150925199968, 152.065512930557, 150.44852255396546, 134.7151247125481, 132.58114359292853, 124.4927701104924, 123.80485420806131, 121.00986372540386, 116.67912365227778, 108.56546960739064, 94.35116097221106, 93.4233551300924, 87.61430205508478, 72.75867607787814, 67.69392200126357, 60.32928394926795, 58.22528637234335, 1730.0914680341627, 782.3765819116179, 722.7843146061267, 620.9257354313653, 606.5246718546317, 582.0472437999244, 576.695579948993, 570.9680479352854, 441.7569284151801, 396.77968318061414, 392.4168029364263, 392.26623955162466, 387.9665022771873, 366.11889066371504, 327.6787257901443, 277.2810907558477, 261.5677482974017, 251.16226957153296, 248.24755332579556, 243.61884598583865, 220.2157848416191, 217.05465612324713, 208.9728602706406, 205.72378887449918, 202.28851235449847, 194.21989980686905, 190.32232525762532, 188.87156787083092, 183.25697633604332, 172.22242719759132, 676.4404037494251, 630.83445695813, 1494.698875795911, 934.3881332366218, 402.1301867241261, 2167.048718070415, 541.0235726697864, 1072.2233545840165, 1361.6517791669733, 645.867395078534, 702.7445941479212, 948.6953187692527, 8150.808229360476, 1211.2558365432642, 2506.2985620401296, 986.1443869060679, 918.9637833908515, 873.2062258071666, 860.2493716374003, 831.9823563498422, 804.5277159986845, 751.6208357708896, 581.0307983223952, 509.03431204442035, 504.7920467415355, 471.5182073714231, 437.5610114478346, 409.17329490733573, 374.5261592479493, 328.5598505510906, 295.2982958138019, 282.61828748203664, 273.7597799123495, 254.77083171040775, 241.54240708374394, 231.23933454552594, 222.88223530894305, 218.81261661283688, 217.03375000538222, 194.89585705205758, 178.06081039220723, 177.27099163144945, 174.8568491254897, 170.98450511345214, 780.3364184603533, 1202.323234510736, 530.2722632663146, 1010.5690258791342, 284.1117675125426, 1155.8366127206566, 2074.3387755519957, 745.4806897129304, 3304.819413874058, 1382.1827896372795, 1176.649695108437, 1115.1544229595117, 909.5173810153849, 896.3629004601646, 767.719996793963, 687.7433209471965, 672.5664516129284, 615.5126933224548, 565.9998727245603, 539.7677257006155, 482.18811575904493, 457.7442574564411, 401.5486386208044, 370.7607120426367, 368.72715869653524, 348.0088654803344, 338.55587396473777, 335.7246988926698, 335.29859092591664, 314.940728820856, 293.1135448004311, 262.80782179917554, 256.00794618710074, 253.44804987668778, 229.60021045974975, 228.10294997653307, 217.1658551411496, 213.68937624496533, 190.92472736579856, 981.8913219845409, 381.84611718247214, 323.4339824764359, 3605.0963701988226, 2815.4375091422116, 2664.9215898949956, 1157.0282244444475, 805.2525935181158, 734.8424847030902, 522.9692657738747, 380.6568357435238, 330.87815021525006, 288.54872151896575, 281.0305544088092, 245.55693409964056, 228.37763176691215, 204.4491305626703, 203.01012191152387, 191.1172780813793, 183.78789133471355, 180.67116459870246, 167.8018433459485, 158.9955667144472, 154.22940142818058, 145.9135717518117, 133.31820355713907, 131.29728863908068, 121.77838042806333, 106.65938019687678, 100.68247532446838, 96.71400287712511, 78.81582779188605, 67.1870319408474, 51.65694559356785, 741.1539259572819, 280.54906186244597, 311.754109726766, 875.7362157960176, 828.6490856883134, 338.467894302924, 403.1231466014369, 1155.8366127206566, 1297.3158396546578, 3304.819413874058, 2074.3387755519957, 810.1570760526081, 630.7537293584123, 602.0037005560627, 451.04520085600905, 385.3747532292339, 358.9527101984585, 291.06842498036417, 282.21135799380966, 276.4520437110155, 268.62855037969035, 251.37973465797396, 251.05071831670003, 218.80315007564352, 210.1859301152559, 201.08985653050632, 200.53545838835282, 177.9650406081359, 160.6795689171704, 146.15577241587732, 142.7296915051307, 139.4054394824484, 133.7242623328321, 123.80801712201495, 118.51127640408829, 107.54497187884914, 104.32238750817525, 83.00728523965643, 78.8218083103191, 77.62599732191967, 74.40269775919833, 787.0018694494056, 647.9042824332352, 2167.048718070415, 1674.2576162301093, 739.1331865976294, 180.4439217010566, 2378.2660980218443, 1607.6392908747416, 415.93036434930855, 304.45715485770137, 756.1141395699775, 459.97261668807056, 1194.4177312301651, 1090.9262879284233, 1069.9472660174379, 975.4686679060928, 779.2304630847613, 721.6057869595201, 361.72139231293363, 325.0521606099557, 321.8390737575594, 242.29945545656312, 183.94562805778818, 180.53584807617068, 144.26954948194876, 140.39998340483154, 125.82689536041622, 106.088411738801, 98.4113404983584, 91.30181650547951, 90.32530319336797, 89.99197536008198, 86.11916606500102, 85.61885615656944, 85.35044188162409, 82.51302042897885, 80.34628504178582, 73.15660140772499, 65.2510854925072, 64.75813727016661, 62.85913625472385, 45.36170346643957, 375.93343162122756, 336.26346882761595, 897.4887081489202, 1685.5433553828184, 1588.407841862471, 418.6949625155747, 366.46405240054037, 365.195558882914, 348.7541055431026, 344.52135403425245, 313.8988927113298, 271.22621444225086, 246.0508731457993, 217.1531245385447, 184.5489750709325, 178.55650419821035, 176.81373413196613, 167.3218147235703, 144.8059722782255, 131.8467822769531, 129.3860556966189, 119.96578813819197, 114.26769215492084, 103.19665044956874, 102.55541404581969, 88.46802863096958, 87.72972809691272, 84.21728468331692, 80.80545314468905, 67.93458147668991, 64.48872744040898, 64.01219961636029, 62.4970735712337, 61.45387261164403, 231.29496622706878, 906.8448294880783, 139.83255862226179, 233.44842638531208, 208.4505612133882, 1202.323234510736, 472.6817482955273, 363.56935207294265, 210.9007733712035, 874.8823937775988, 554.1532235242158, 425.11862176424484, 405.39594914961117, 333.9662653817877, 236.7987238968563, 229.24989808998018, 227.29619079488918, 227.2955207527989, 218.0796951334715, 211.37290099829366, 208.30325216829502, 205.72875835316236, 182.52669998373807, 181.11678103069727, 179.85290719609102, 163.02988465736965, 155.84718770079664, 152.73896721145726, 150.3795989979408, 146.30722199766694, 145.3828989986715, 145.1186599959642, 123.82432219829829, 115.02858557441473, 109.17523599689281, 108.217556456117, 97.29515438817688, 97.2456835979369, 89.83388532101127, 846.8066557059752, 777.6655155193694, 473.89574885491623, 381.1416884834848, 353.6716017739114, 275.11086383676974, 254.3686356826889, 244.4074045472748, 139.11935448326747, 100.49993903119902, 94.9261947642832, 92.51749433802274, 88.24784376511029, 81.56386379927787, 78.36929893998415, 78.05111557234919, 76.66774145368514, 72.15166392688543, 66.95606405104371, 66.09311511263891, 63.41411836693352, 60.44151417257553, 57.708141648706636, 212.11272271161764, 52.33373680805649, 49.8343663914304, 49.030398498875954, 47.823901833397635, 45.152990352610054, 44.77820514718695, 2378.2660980218443, 526.5666480426388, 207.44546138617213, 2171.744054016525, 1576.5446427804466, 934.3881332366218, 426.36513338930473, 218.48348374907695, 205.43768469111944, 182.40294357662287, 163.5691998201741, 154.2219267020504, 150.3839582320771, 146.6549589920847, 142.69537093481702, 127.42674763315097, 127.32663948672639, 126.42681889936978, 101.63733976959118, 100.46904409607666, 90.49672912424934, 89.59185844692658, 88.47666418494765, 87.1884707091444, 86.72047813622538, 82.8776397042689, 73.64914058500305, 66.34352304970356, 62.95263366583789, 58.404315989330335, 57.3944132091598, 593.6915828993731, 46.925451332489246, 44.69469179123168, 43.9464093887412, 42.50169971626126, 143.04950154196428, 184.77231599890666, 471.88099055672444, 194.48631060634463, 183.1741181530995, 160.39278700641586, 104.49537673367028, 86.81036272357453, 73.11108075151458, 68.61774160911561, 60.96793448500732, 50.65979273446448, 40.86359990580501, 34.737975351194265, 34.2366696866517, 25.52689458360091, 24.582612062589995, 23.60688475384895, 22.505622746410825, 17.573029640968517, 17.30893380798574, 16.989329545453472, 15.067060763527342, 403.1231466014369, 1.3891156810916554, 1.3890833522843198, 1.3890976735457703, 1.3890962482298972, 1.389096524875253, 1.389117195055943, 1.3890845182513678, 1.3890876680916449, 1.3892259984905238, 1.3891807979092579, 261.78902333056607, 161.64559222295267, 124.41340141291512, 109.59171011131225, 100.68634536438333, 45.51849190921216, 44.4842743416655, 24.49216218229807, 22.159205971067678, 14.891675094720433, 14.05403061989523, 11.933720906188539, 11.309518662560881, 1.8564342616772307, 1.3890971872530096, 1.3891146212655168, 1.389094341301727, 1.3891073052583687, 1.3890848811682917, 1.389089616968197, 1.3890788482329135, 1.3891016001545347, 1.3890818585642908, 1.3890803584155886, 1.3890858746854116, 1.3890895899878826, 1.3890799797987494, 1.3890759261665766, 1.389076863807748, 1.3890973412552627, 1.3891249708157125, 1.3890858305395413, 1.389112539566977, 1.3891317070944553, 1.3892066024427117, 1.389124596535916, 1.3891951947057202, 1.3891586550417827, 1.3891276967820338], \"Category\": [\"Default\", \"Default\", \"Default\", \"Default\", \"Default\", \"Default\", \"Default\", \"Default\", \"Default\", \"Default\", \"Default\", \"Default\", \"Default\", \"Default\", \"Default\", \"Default\", \"Default\", \"Default\", \"Default\", \"Default\", \"Default\", \"Default\", \"Default\", \"Default\", \"Default\", \"Default\", \"Default\", \"Default\", \"Default\", \"Default\", \"Topic1\", \"Topic1\", \"Topic1\", \"Topic1\", \"Topic1\", \"Topic1\", \"Topic1\", \"Topic1\", \"Topic1\", \"Topic1\", \"Topic1\", \"Topic1\", \"Topic1\", \"Topic1\", \"Topic1\", \"Topic1\", \"Topic1\", \"Topic1\", \"Topic1\", \"Topic1\", \"Topic1\", \"Topic1\", \"Topic1\", \"Topic1\", \"Topic1\", \"Topic1\", \"Topic1\", \"Topic1\", \"Topic1\", \"Topic1\", \"Topic1\", \"Topic1\", \"Topic1\", \"Topic1\", \"Topic1\", \"Topic1\", \"Topic1\", \"Topic1\", \"Topic1\", \"Topic1\", \"Topic1\", \"Topic1\", \"Topic1\", \"Topic1\", \"Topic1\", \"Topic1\", \"Topic1\", \"Topic1\", \"Topic1\", \"Topic1\", \"Topic1\", \"Topic1\", \"Topic1\", \"Topic1\", \"Topic1\", \"Topic2\", \"Topic2\", \"Topic2\", \"Topic2\", \"Topic2\", \"Topic2\", \"Topic2\", \"Topic2\", \"Topic2\", \"Topic2\", \"Topic2\", \"Topic2\", \"Topic2\", \"Topic2\", \"Topic2\", \"Topic2\", \"Topic2\", \"Topic2\", \"Topic2\", \"Topic2\", \"Topic2\", \"Topic2\", \"Topic2\", \"Topic2\", \"Topic2\", \"Topic2\", \"Topic2\", \"Topic2\", \"Topic2\", \"Topic2\", \"Topic2\", \"Topic2\", \"Topic2\", \"Topic2\", \"Topic2\", \"Topic2\", \"Topic2\", \"Topic2\", \"Topic2\", \"Topic2\", \"Topic2\", \"Topic2\", \"Topic2\", \"Topic2\", \"Topic2\", \"Topic2\", \"Topic2\", \"Topic2\", \"Topic2\", \"Topic2\", \"Topic2\", \"Topic2\", \"Topic2\", \"Topic2\", \"Topic2\", \"Topic2\", \"Topic2\", \"Topic2\", \"Topic2\", \"Topic2\", \"Topic2\", \"Topic3\", \"Topic3\", \"Topic3\", \"Topic3\", \"Topic3\", \"Topic3\", \"Topic3\", \"Topic3\", \"Topic3\", \"Topic3\", \"Topic3\", \"Topic3\", \"Topic3\", \"Topic3\", \"Topic3\", \"Topic3\", \"Topic3\", \"Topic3\", \"Topic3\", \"Topic3\", \"Topic3\", \"Topic3\", \"Topic3\", \"Topic3\", \"Topic3\", \"Topic3\", \"Topic3\", \"Topic3\", \"Topic3\", \"Topic3\", \"Topic3\", \"Topic3\", \"Topic3\", \"Topic3\", \"Topic3\", \"Topic3\", \"Topic3\", \"Topic3\", \"Topic3\", \"Topic3\", \"Topic3\", \"Topic3\", \"Topic3\", \"Topic3\", \"Topic3\", \"Topic3\", \"Topic3\", \"Topic3\", \"Topic3\", \"Topic3\", \"Topic3\", \"Topic3\", \"Topic3\", \"Topic3\", \"Topic3\", \"Topic3\", \"Topic3\", \"Topic3\", \"Topic4\", \"Topic4\", \"Topic4\", \"Topic4\", \"Topic4\", \"Topic4\", \"Topic4\", \"Topic4\", \"Topic4\", \"Topic4\", \"Topic4\", \"Topic4\", \"Topic4\", \"Topic4\", \"Topic4\", \"Topic4\", \"Topic4\", \"Topic4\", \"Topic4\", \"Topic4\", \"Topic4\", \"Topic4\", \"Topic4\", \"Topic4\", \"Topic4\", \"Topic4\", \"Topic4\", \"Topic4\", \"Topic4\", \"Topic4\", \"Topic4\", \"Topic4\", \"Topic4\", \"Topic4\", \"Topic4\", \"Topic4\", \"Topic4\", \"Topic4\", \"Topic4\", \"Topic4\", \"Topic4\", \"Topic4\", \"Topic4\", \"Topic4\", \"Topic4\", \"Topic4\", \"Topic4\", \"Topic4\", \"Topic4\", \"Topic4\", \"Topic5\", \"Topic5\", \"Topic5\", \"Topic5\", \"Topic5\", \"Topic5\", \"Topic5\", \"Topic5\", \"Topic5\", \"Topic5\", \"Topic5\", \"Topic5\", \"Topic5\", \"Topic5\", \"Topic5\", \"Topic5\", \"Topic5\", \"Topic5\", \"Topic5\", \"Topic5\", \"Topic5\", \"Topic5\", \"Topic5\", \"Topic5\", \"Topic5\", \"Topic5\", \"Topic5\", \"Topic5\", \"Topic5\", \"Topic5\", \"Topic5\", \"Topic5\", \"Topic5\", \"Topic5\", \"Topic5\", \"Topic5\", \"Topic5\", \"Topic5\", \"Topic5\", \"Topic5\", \"Topic5\", \"Topic5\", \"Topic5\", \"Topic5\", \"Topic5\", \"Topic6\", \"Topic6\", \"Topic6\", \"Topic6\", \"Topic6\", \"Topic6\", \"Topic6\", \"Topic6\", \"Topic6\", \"Topic6\", \"Topic6\", \"Topic6\", \"Topic6\", \"Topic6\", \"Topic6\", \"Topic6\", \"Topic6\", \"Topic6\", \"Topic6\", \"Topic6\", \"Topic6\", \"Topic6\", \"Topic6\", \"Topic6\", \"Topic6\", \"Topic6\", \"Topic6\", \"Topic6\", \"Topic6\", \"Topic6\", \"Topic6\", \"Topic6\", \"Topic6\", \"Topic6\", \"Topic6\", \"Topic6\", \"Topic6\", \"Topic6\", \"Topic6\", \"Topic6\", \"Topic6\", \"Topic6\", \"Topic6\", \"Topic6\", \"Topic6\", \"Topic6\", \"Topic7\", \"Topic7\", \"Topic7\", \"Topic7\", \"Topic7\", \"Topic7\", \"Topic7\", \"Topic7\", \"Topic7\", \"Topic7\", \"Topic7\", \"Topic7\", \"Topic7\", \"Topic7\", \"Topic7\", \"Topic7\", \"Topic7\", \"Topic7\", \"Topic7\", \"Topic7\", \"Topic7\", \"Topic7\", \"Topic7\", \"Topic7\", \"Topic7\", \"Topic7\", \"Topic7\", \"Topic7\", \"Topic7\", \"Topic7\", \"Topic7\", \"Topic7\", \"Topic7\", \"Topic7\", \"Topic7\", \"Topic7\", \"Topic7\", \"Topic7\", \"Topic7\", \"Topic7\", \"Topic7\", \"Topic7\", \"Topic8\", \"Topic8\", \"Topic8\", \"Topic8\", \"Topic8\", \"Topic8\", \"Topic8\", \"Topic8\", \"Topic8\", \"Topic8\", \"Topic8\", \"Topic8\", \"Topic8\", \"Topic8\", \"Topic8\", \"Topic8\", \"Topic8\", \"Topic8\", \"Topic8\", \"Topic8\", \"Topic8\", \"Topic8\", \"Topic8\", \"Topic8\", \"Topic8\", \"Topic8\", \"Topic8\", \"Topic8\", \"Topic8\", \"Topic8\", \"Topic9\", \"Topic9\", \"Topic9\", \"Topic9\", \"Topic9\", \"Topic9\", \"Topic9\", \"Topic9\", \"Topic9\", \"Topic9\", \"Topic9\", \"Topic9\", \"Topic9\", \"Topic9\", \"Topic9\", \"Topic9\", \"Topic9\", \"Topic9\", \"Topic9\", \"Topic9\", \"Topic9\", \"Topic9\", \"Topic9\", \"Topic9\", \"Topic9\", \"Topic9\", \"Topic9\", \"Topic9\", \"Topic9\", \"Topic9\", \"Topic9\", \"Topic9\", \"Topic9\", \"Topic9\", \"Topic9\", \"Topic9\", \"Topic9\", \"Topic9\", \"Topic9\", \"Topic9\", \"Topic9\", \"Topic9\", \"Topic9\", \"Topic9\", \"Topic10\", \"Topic10\", \"Topic10\", \"Topic10\", \"Topic10\", \"Topic10\", \"Topic10\", \"Topic10\", \"Topic10\", \"Topic10\", \"Topic10\", \"Topic10\", \"Topic10\", \"Topic10\", \"Topic10\", \"Topic10\", \"Topic10\", \"Topic10\", \"Topic10\", \"Topic10\", \"Topic10\", \"Topic10\", \"Topic10\", \"Topic10\", \"Topic10\", \"Topic10\", \"Topic10\", \"Topic10\", \"Topic10\", \"Topic10\", \"Topic10\", \"Topic10\", \"Topic10\", \"Topic10\", \"Topic10\", \"Topic10\", \"Topic10\", \"Topic10\", \"Topic10\", \"Topic11\", \"Topic11\", \"Topic11\", \"Topic11\", \"Topic11\", \"Topic11\", \"Topic11\", \"Topic11\", \"Topic11\", \"Topic11\", \"Topic11\", \"Topic11\", \"Topic11\", \"Topic11\", \"Topic11\", \"Topic11\", \"Topic11\", \"Topic11\", \"Topic11\", \"Topic11\", \"Topic11\", \"Topic11\", \"Topic11\", \"Topic11\", \"Topic11\", \"Topic11\", \"Topic11\", \"Topic11\", \"Topic11\", \"Topic11\", \"Topic11\", \"Topic11\", \"Topic11\", \"Topic11\", \"Topic12\", \"Topic12\", \"Topic12\", \"Topic12\", \"Topic12\", \"Topic12\", \"Topic12\", \"Topic12\", \"Topic12\", \"Topic12\", \"Topic12\", \"Topic12\", \"Topic12\", \"Topic12\", \"Topic12\", \"Topic12\", \"Topic12\", \"Topic12\", \"Topic12\", \"Topic12\", \"Topic12\", \"Topic12\", \"Topic12\", \"Topic12\", \"Topic12\", \"Topic12\", \"Topic12\", \"Topic12\", \"Topic12\", \"Topic12\", \"Topic12\", \"Topic12\", \"Topic12\", \"Topic12\", \"Topic12\", \"Topic12\", \"Topic12\", \"Topic12\", \"Topic12\", \"Topic12\", \"Topic12\", \"Topic13\", \"Topic13\", \"Topic13\", \"Topic13\", \"Topic13\", \"Topic13\", \"Topic13\", \"Topic13\", \"Topic13\", \"Topic13\", \"Topic13\", \"Topic13\", \"Topic13\", \"Topic13\", \"Topic13\", \"Topic13\", \"Topic13\", \"Topic13\", \"Topic13\", \"Topic13\", \"Topic13\", \"Topic13\", \"Topic13\", \"Topic13\", \"Topic13\", \"Topic13\", \"Topic13\", \"Topic13\", \"Topic13\", \"Topic13\", \"Topic13\", \"Topic13\", \"Topic13\", \"Topic13\", \"Topic13\", \"Topic13\", \"Topic13\", \"Topic13\", \"Topic13\", \"Topic13\", \"Topic13\", \"Topic13\", \"Topic14\", \"Topic14\", \"Topic14\", \"Topic14\", \"Topic14\", \"Topic14\", \"Topic14\", \"Topic14\", \"Topic14\", \"Topic14\", \"Topic14\", \"Topic14\", \"Topic14\", \"Topic14\", \"Topic14\", \"Topic14\", \"Topic14\", \"Topic14\", \"Topic14\", \"Topic14\", \"Topic14\", \"Topic14\", \"Topic14\", \"Topic14\", \"Topic14\", \"Topic14\", \"Topic14\", \"Topic14\", \"Topic14\", \"Topic14\", \"Topic14\", \"Topic14\", \"Topic14\", \"Topic14\", \"Topic15\", \"Topic15\", \"Topic15\", \"Topic15\", \"Topic15\", \"Topic15\", \"Topic15\", \"Topic15\", \"Topic15\", \"Topic15\", \"Topic15\", \"Topic15\", \"Topic15\", \"Topic15\", \"Topic15\", \"Topic15\", \"Topic15\", \"Topic15\", \"Topic15\", \"Topic15\", \"Topic15\", \"Topic15\", \"Topic15\", \"Topic15\", \"Topic15\", \"Topic15\", \"Topic15\", \"Topic15\", \"Topic15\", \"Topic15\", \"Topic15\", \"Topic15\", \"Topic15\", \"Topic15\", \"Topic15\", \"Topic15\", \"Topic15\", \"Topic15\", \"Topic15\", \"Topic16\", \"Topic16\", \"Topic16\", \"Topic16\", \"Topic16\", \"Topic16\", \"Topic16\", \"Topic16\", \"Topic16\", \"Topic16\", \"Topic16\", \"Topic16\", \"Topic16\", \"Topic16\", \"Topic16\", \"Topic16\", \"Topic16\", \"Topic16\", \"Topic16\", \"Topic16\", \"Topic16\", \"Topic16\", \"Topic16\", \"Topic16\", \"Topic16\", \"Topic16\", \"Topic16\", \"Topic16\", \"Topic16\", \"Topic16\", \"Topic17\", \"Topic17\", \"Topic17\", \"Topic17\", \"Topic17\", \"Topic17\", \"Topic17\", \"Topic17\", \"Topic17\", \"Topic17\", \"Topic17\", \"Topic17\", \"Topic17\", \"Topic17\", \"Topic17\", \"Topic17\", \"Topic17\", \"Topic17\", \"Topic17\", \"Topic17\", \"Topic17\", \"Topic17\", \"Topic17\", \"Topic17\", \"Topic17\", \"Topic17\", \"Topic17\", \"Topic17\", \"Topic17\", \"Topic17\", \"Topic17\", \"Topic17\", \"Topic17\", \"Topic17\", \"Topic17\", \"Topic17\", \"Topic18\", \"Topic18\", \"Topic18\", \"Topic18\", \"Topic18\", \"Topic18\", \"Topic18\", \"Topic18\", \"Topic18\", \"Topic18\", \"Topic18\", \"Topic18\", \"Topic18\", \"Topic18\", \"Topic18\", \"Topic18\", \"Topic18\", \"Topic18\", \"Topic18\", \"Topic18\", \"Topic18\", \"Topic18\", \"Topic18\", \"Topic18\", \"Topic18\", \"Topic18\", \"Topic18\", \"Topic18\", \"Topic18\", \"Topic18\", \"Topic18\", \"Topic18\", \"Topic19\", \"Topic19\", \"Topic19\", \"Topic19\", \"Topic19\", \"Topic19\", \"Topic19\", \"Topic19\", \"Topic19\", \"Topic19\", \"Topic19\", \"Topic19\", \"Topic19\", \"Topic19\", \"Topic19\", \"Topic19\", \"Topic19\", \"Topic19\", \"Topic19\", \"Topic19\", \"Topic19\", \"Topic19\", \"Topic19\", \"Topic19\", \"Topic19\", \"Topic19\", \"Topic19\", \"Topic19\", \"Topic19\", \"Topic19\", \"Topic19\", \"Topic19\", \"Topic20\", \"Topic20\", \"Topic20\", \"Topic20\", \"Topic20\", \"Topic20\", \"Topic20\", \"Topic20\", \"Topic20\", \"Topic20\", \"Topic20\", \"Topic20\", \"Topic20\", \"Topic20\", \"Topic20\", \"Topic20\", \"Topic20\", \"Topic20\", \"Topic20\", \"Topic20\", \"Topic20\", \"Topic20\", \"Topic20\", \"Topic20\", \"Topic20\", \"Topic20\", \"Topic20\", \"Topic20\", \"Topic20\", \"Topic20\", \"Topic20\", \"Topic20\", \"Topic20\", \"Topic20\", \"Topic20\", \"Topic20\", \"Topic20\", \"Topic20\", \"Topic20\"], \"logprob\": [30.0, 29.0, 28.0, 27.0, 26.0, 25.0, 24.0, 23.0, 22.0, 21.0, 20.0, 19.0, 18.0, 17.0, 16.0, 15.0, 14.0, 13.0, 12.0, 11.0, 10.0, 9.0, 8.0, 7.0, 6.0, 5.0, 4.0, 3.0, 2.0, 1.0, -2.3983, -3.0055, -3.3584, -3.4477, -2.8854, -2.6528, -4.1151, -5.128, -5.1805, -5.2585, -5.2762, -5.3235, -5.6232, -5.6451, -5.7775, -5.8701, -5.8976, -5.9004, -5.957, -6.0041, -6.0176, -6.091, -6.2492, -6.254, -6.2945, -6.3185, -6.3719, -6.4139, -6.4735, -6.5061, -4.0566, -5.4727, -4.5517, -5.0377, -4.3514, -5.4146, -4.2062, -4.0099, -4.7878, -4.1386, -4.17, -4.1674, -3.6976, -5.5928, -4.2522, -4.4177, -4.6581, -4.7514, -5.1352, -4.7879, -4.4796, -4.938, -4.9248, -5.0229, -5.1649, -3.7278, -4.3624, -4.4189, -4.6093, -4.7452, -4.9561, -5.0971, -5.3605, -5.514, -5.5584, -5.5622, -5.5682, -5.5749, -5.6436, -5.3757, -5.7312, -5.7634, -5.7635, -5.7981, -5.8453, -5.8547, -5.859, -5.8828, -5.8919, -5.8937, -5.9498, -6.0447, -6.0657, -6.0757, -6.0759, -3.6589, -4.4898, -4.4386, -4.5011, -5.6709, -4.5992, -4.3048, -4.2821, -4.8309, -4.7068, -5.0665, -3.9405, -4.7682, -4.7018, -3.7184, -3.7815, -4.3695, -4.3812, -3.7614, -4.6512, -5.0825, -4.1544, -4.8273, -5.0762, -4.9184, -4.9237, -4.3676, -4.9329, -4.8116, -4.8601, -4.8816, -3.9346, -4.0554, -4.4232, -4.5691, -4.5933, -4.6245, -4.6702, -4.8927, -5.0463, -5.1174, -5.1368, -5.1378, -5.286, -5.4342, -5.4598, -5.529, -5.5396, -5.5579, -5.6768, -5.6787, -5.7348, -5.7724, -5.8119, -5.8777, -5.8841, -5.9613, -5.9758, -5.9995, -5.7521, -6.0188, -4.3672, -4.2328, -4.1356, -4.7104, -4.0328, -5.3533, -5.1028, -4.9782, -5.5071, -5.4564, -5.2267, -4.7631, -3.7102, -4.2502, -4.9055, -4.334, -4.5278, -5.1095, -5.1252, -4.2403, -4.9858, -4.6024, -4.8, -4.2758, -4.6097, -4.7061, -4.849, -5.0287, -4.0037, -4.0296, -4.0683, -4.1503, -4.3043, -4.3974, -4.5864, -4.5934, -4.6571, -4.6928, -4.707, -4.7203, -4.7988, -4.822, -4.866, -5.0315, -5.1386, -5.1796, -5.2288, -5.2359, -5.3312, -5.3916, -5.4392, -5.4621, -5.4835, -5.5344, -5.5561, -5.5857, -5.5917, -5.6023, -4.3765, -4.3192, -4.4949, -4.6062, -4.6907, -4.9518, -3.9653, -5.3113, -4.8908, -4.9912, -4.6745, -4.6797, -4.6884, -4.5848, -4.1744, -4.5846, -4.88, -4.7094, -4.787, -4.7913, -3.4819, -4.0379, -4.0832, -4.2381, -4.29, -4.3883, -4.3937, -4.4013, -4.5945, -4.6934, -4.7435, -4.788, -4.7993, -4.814, -4.8596, -4.9057, -5.0741, -5.1118, -5.1362, -5.1364, -5.1993, -5.2043, -5.2246, -5.277, -5.3094, -5.3619, -5.4371, -5.4406, -5.4806, -4.5516, -4.6608, -3.7416, -3.6014, -4.9037, -4.0769, -4.0651, -4.286, -4.8884, -4.1398, -4.8551, -4.7722, -4.9496, -4.748, -4.5345, -4.8713, -3.3959, -3.6591, -4.0469, -4.0518, -4.1748, -4.2769, -4.3666, -4.4516, -4.4933, -4.529, -4.7083, -4.8584, -4.9444, -4.9593, -5.0224, -5.0529, -5.0646, -5.0695, -5.1807, -5.2119, -5.2129, -5.2361, -5.2379, -5.252, -5.2612, -5.2696, -5.2714, -5.3042, -5.3395, -5.3962, -3.8286, -3.7878, -4.7123, -4.7747, -4.6234, -4.6834, -4.0116, -3.1259, -4.8618, -4.4294, -4.7113, -4.4182, -4.8401, -4.8093, -4.9382, -5.0038, -2.7358, -3.4501, -3.6398, -3.6652, -3.7877, -3.998, -4.0345, -4.0361, -4.1679, -4.2012, -4.2929, -4.3013, -4.3538, -4.4073, -4.5721, -4.6039, -4.6144, -4.701, -4.7096, -4.7802, -4.9079, -4.9756, -5.1139, -5.1224, -5.1286, -5.1746, -5.2304, -5.3125, -5.3131, -5.3333, -3.8117, -3.6528, -4.6298, -3.7831, -4.4281, -4.3259, -3.7192, -4.2684, -4.6037, -3.8175, -4.0549, -4.383, -0.2666, -4.5491, -4.923, -4.956, -4.9932, -5.0789, -5.1184, -5.1516, -5.2893, -5.2907, -5.6243, -5.7636, -5.7709, -5.8053, -5.915, -5.9257, -6.0372, -6.0533, -6.1169, -6.1225, -6.1455, -6.1824, -6.2552, -6.3973, -6.4074, -6.4725, -6.6612, -6.7347, -6.8522, -6.8884, -3.1078, -3.9023, -3.9817, -4.1339, -4.1574, -4.1987, -4.2079, -4.218, -4.4752, -4.5829, -4.594, -4.5944, -4.6055, -4.6636, -4.775, -4.9427, -5.0013, -5.0421, -5.0539, -5.0728, -5.1744, -5.1889, -5.2271, -5.2429, -5.2598, -5.3008, -5.3212, -5.3289, -5.3593, -5.4219, -4.0946, -4.18, -3.476, -3.9482, -4.7261, -3.6972, -4.7247, -4.3888, -4.2735, -4.6941, -4.6576, -4.6818, -4.3464, -4.8885, -2.5335, -3.4671, -3.5377, -3.5889, -3.6038, -3.6373, -3.6709, -3.739, -3.997, -4.1296, -4.138, -4.2064, -4.2813, -4.3486, -4.4374, -4.5688, -4.676, -4.7201, -4.7521, -4.8243, -4.8779, -4.9218, -4.9588, -4.9773, -4.9855, -5.0938, -5.1848, -5.1893, -5.2031, -5.2257, -3.7985, -3.4025, -4.2029, -3.6385, -4.8046, -3.8244, -4.3345, -4.8446, -4.807, -3.0552, -3.2164, -3.2701, -3.4742, -3.4888, -3.644, -3.7542, -3.7766, -3.8654, -3.9494, -3.997, -4.1101, -4.1623, -4.2937, -4.3737, -4.3792, -4.4373, -4.4649, -4.4733, -4.4746, -4.5375, -4.6097, -4.7193, -4.7457, -4.7558, -4.8551, -4.8617, -4.9111, -4.9274, -5.0408, -3.6437, -4.4913, -4.7659, -4.5019, -2.0429, -2.0979, -2.9328, -3.2958, -3.3874, -3.7283, -4.0468, -4.1875, -4.325, -4.3515, -4.4871, -4.5601, -4.6714, -4.6785, -4.7393, -4.7787, -4.7959, -4.8704, -4.9247, -4.9554, -5.0113, -5.1024, -5.1179, -5.1939, -5.328, -5.3864, -5.4272, -5.635, -5.7975, -6.0664, -3.8035, -4.7659, -4.7252, -4.0822, -4.2931, -4.817, -4.8006, -4.4737, -4.4715, -4.3982, -4.8885, -3.167, -3.4178, -3.4645, -3.754, -3.9118, -3.9831, -4.1936, -4.2246, -4.2454, -4.2742, -4.3409, -4.3422, -4.4805, -4.5209, -4.5654, -4.5682, -4.6885, -4.7914, -4.887, -4.911, -4.9347, -4.9768, -5.0546, -5.0988, -5.1971, -5.2279, -5.4597, -5.5123, -5.5279, -5.571, -3.2368, -3.5091, -2.7668, -2.9845, -3.8865, -4.8763, -3.4271, -4.2501, -4.7194, -4.8201, -4.7139, -4.7864, -2.4279, -2.5186, -2.5381, -2.6306, -2.8556, -2.9326, -3.625, -3.7323, -3.7423, -4.0275, -4.3048, -4.3237, -4.5498, -4.5772, -4.6879, -4.8605, -4.9366, -5.0127, -5.0236, -5.0274, -5.072, -5.0779, -5.0811, -5.1155, -5.1425, -5.2379, -5.3545, -5.3623, -5.3927, -5.7273, -3.7637, -4.2685, -4.0444, -3.9695, -2.0762, -3.4119, -3.5456, -3.5491, -3.5953, -3.6076, -3.7011, -3.8479, -3.9458, -4.0714, -4.2352, -4.2685, -4.2784, -4.334, -4.4797, -4.5744, -4.5934, -4.6698, -4.7191, -4.8222, -4.8286, -4.9784, -4.9869, -5.0284, -5.0705, -5.2471, -5.3003, -5.3078, -5.3323, -5.3495, -4.1279, -3.3329, -4.9102, -4.7923, -4.9081, -4.4319, -4.6863, -4.8055, -4.9607, -2.6193, -3.0768, -3.3426, -3.3903, -3.5848, -3.9303, -3.9629, -3.9715, -3.9715, -4.0131, -4.0445, -4.0593, -4.0718, -4.1923, -4.2001, -4.2071, -4.3061, -4.3515, -4.3719, -4.3876, -4.4153, -4.4217, -4.4235, -4.5838, -4.6583, -4.7111, -4.72, -4.8278, -4.8283, -4.9088, -2.6325, -2.7178, -3.2142, -3.4327, -3.5078, -3.7601, -3.8389, -3.879, -4.4467, -4.7756, -4.8335, -4.8595, -4.9075, -4.9875, -5.0281, -5.0323, -5.0505, -5.1123, -5.1885, -5.2017, -5.244, -5.2931, -5.3404, -4.0397, -5.4406, -5.4908, -5.5076, -5.5332, -5.5923, -5.6009, -1.9031, -3.5919, -4.7126, -3.4312, -3.8447, -4.1411, -2.9014, -3.5729, -3.6349, -3.7547, -3.8645, -3.9238, -3.9492, -3.9746, -4.0022, -4.1165, -4.1173, -4.1245, -4.3453, -4.357, -4.463, -4.4732, -4.486, -4.5008, -4.5063, -4.5524, -4.6725, -4.7789, -4.8325, -4.9092, -4.927, -2.5935, -5.1337, -5.1839, -5.2013, -5.2358, -4.1344, -4.5376, -2.189, -3.0794, -3.1398, -3.2736, -3.7066, -3.8947, -4.0694, -4.1341, -4.2548, -4.4446, -4.6661, -4.8345, -4.8496, -5.1572, -5.1971, -5.2399, -5.2907, -5.5561, -5.5725, -5.5927, -5.7238, -2.9341, -11.4587, -11.4588, -11.4588, -11.4588, -11.4588, -11.4588, -11.4588, -11.4588, -11.4588, -11.4588, -2.3283, -2.8137, -3.078, -3.2063, -3.2922, -4.1028, -4.1265, -4.7492, -4.8555, -5.2853, -5.3492, -5.5318, -5.5927, -8.5813, -11.2745, -11.2745, -11.2745, -11.2745, -11.2746, -11.2746, -11.2746, -11.2746, -11.2746, -11.2746, -11.2746, -11.2746, -11.2746, -11.2746, -11.2746, -11.2746, -11.2745, -11.2746, -11.2746, -11.2746, -11.2745, -11.2746, -11.2745, -11.2746, -11.2746], \"loglift\": [30.0, 29.0, 28.0, 27.0, 26.0, 25.0, 24.0, 23.0, 22.0, 21.0, 20.0, 19.0, 18.0, 17.0, 16.0, 15.0, 14.0, 13.0, 12.0, 11.0, 10.0, 9.0, 8.0, 7.0, 6.0, 5.0, 4.0, 3.0, 2.0, 1.0, 1.7775, 1.7775, 1.7774, 1.7774, 1.7772, 1.7772, 1.7772, 1.7765, 1.7764, 1.7763, 1.7763, 1.7763, 1.7758, 1.7757, 1.7755, 1.7753, 1.7752, 1.7752, 1.7751, 1.7749, 1.7749, 1.7747, 1.7742, 1.7742, 1.7741, 1.774, 1.7738, 1.7736, 1.7734, 1.7732, 1.7682, 1.7615, 1.7392, 1.738, 1.6525, 1.6975, 1.5553, 1.5129, 1.598, 1.5083, 1.4815, 1.406, 1.1892, 1.6905, 1.2461, 1.2474, 1.29, 1.3151, 1.397, 1.0181, 0.6333, 1.1381, 0.5941, 0.5539, 0.4911, 1.7933, 1.793, 1.793, 1.7929, 1.7928, 1.7926, 1.7925, 1.7922, 1.7919, 1.7918, 1.7918, 1.7918, 1.7918, 1.7917, 1.7915, 1.7915, 1.7915, 1.7915, 1.7914, 1.7913, 1.7913, 1.7912, 1.7912, 1.7912, 1.7912, 1.791, 1.7908, 1.7907, 1.7907, 1.7907, 1.7542, 1.7625, 1.7437, 1.7364, 1.7776, 1.7133, 1.69, 1.6849, 1.7181, 1.6984, 1.7045, 1.5359, 1.6448, 1.628, 1.4502, 1.3315, 1.4594, 1.4551, 1.2345, 1.5102, 1.609, 1.1727, 1.3895, 1.561, 1.4085, 1.3949, 0.5192, 1.3833, 0.8723, 0.8051, 1.0036, 1.8619, 1.8619, 1.8617, 1.8616, 1.8616, 1.8616, 1.8615, 1.8614, 1.8612, 1.8611, 1.8611, 1.8611, 1.8609, 1.8607, 1.8606, 1.8605, 1.8605, 1.8605, 1.8602, 1.8602, 1.8601, 1.86, 1.8599, 1.8598, 1.8597, 1.8595, 1.8595, 1.8594, 1.8594, 1.8594, 1.8583, 1.8115, 1.7949, 1.8152, 1.7655, 1.8312, 1.7926, 1.7697, 1.8165, 1.807, 1.7485, 1.6218, 1.2722, 1.4278, 1.6139, 1.3499, 1.4258, 1.6631, 1.6694, 1.0869, 1.5492, 1.2036, 1.3318, 0.72, 0.9092, 0.8707, 0.0378, 1.1197, 2.1046, 2.1046, 2.1046, 2.1045, 2.1044, 2.1044, 2.1042, 2.1042, 2.1041, 2.1041, 2.1041, 2.1041, 2.104, 2.104, 2.1039, 2.1037, 2.1035, 2.1035, 2.1034, 2.1034, 2.1032, 2.1031, 2.103, 2.103, 2.1029, 2.1028, 2.1027, 2.1027, 2.1027, 2.1026, 2.0964, 2.0719, 2.0704, 2.0704, 2.0505, 2.048, 1.9064, 2.0836, 2.0151, 2.0302, 1.9637, 1.9415, 1.9174, 1.7689, 1.4816, 1.7048, 1.9235, 1.4679, 1.5809, 1.3021, 2.7953, 2.7949, 2.7948, 2.7947, 2.7946, 2.7945, 2.7945, 2.7944, 2.7941, 2.7939, 2.7938, 2.7937, 2.7937, 2.7937, 2.7936, 2.7935, 2.793, 2.7929, 2.7928, 2.7928, 2.7926, 2.7926, 2.7926, 2.7924, 2.7923, 2.7921, 2.7918, 2.7917, 2.7916, 2.7915, 2.7749, 2.7091, 2.6845, 2.7492, 2.6451, 2.6059, 2.5542, 2.7021, 2.4187, 2.6476, 2.3128, 2.5128, 2.0717, 1.1215, 1.9108, 2.8472, 2.847, 2.8466, 2.8466, 2.8465, 2.8464, 2.8462, 2.8461, 2.846, 2.846, 2.8456, 2.8453, 2.8451, 2.845, 2.8448, 2.8448, 2.8447, 2.8447, 2.8443, 2.8442, 2.8442, 2.8442, 2.8441, 2.8441, 2.8441, 2.844, 2.844, 2.8439, 2.8438, 2.8435, 2.7953, 2.7919, 2.7834, 2.7804, 2.7146, 2.7247, 2.5024, 1.8566, 2.6571, 2.3425, 2.4737, 1.9497, 2.3672, 1.7304, 2.1675, 1.5313, 3.0167, 3.0163, 3.0162, 3.0162, 3.0161, 3.0158, 3.0158, 3.0158, 3.0156, 3.0155, 3.0154, 3.0154, 3.0153, 3.0152, 3.0149, 3.0148, 3.0148, 3.0146, 3.0145, 3.0144, 3.014, 3.0138, 3.0133, 3.0133, 3.0132, 3.0131, 3.0128, 3.0125, 3.0125, 3.0124, 2.9975, 2.9478, 2.9754, 2.8423, 2.9112, 2.8025, 2.5858, 2.7186, 2.7565, 2.0677, 1.5965, 2.0456, 3.0573, 3.0552, 3.0543, 3.0542, 3.054, 3.0538, 3.0536, 3.0535, 3.0529, 3.0529, 3.0512, 3.0502, 3.0502, 3.0499, 3.0491, 3.049, 3.048, 3.0478, 3.0472, 3.0472, 3.0469, 3.0465, 3.0457, 3.044, 3.0438, 3.0429, 3.04, 3.0387, 3.0364, 3.0356, 3.4246, 3.4237, 3.4235, 3.4232, 3.4232, 3.4231, 3.4231, 3.4231, 3.4224, 3.422, 3.422, 3.422, 3.422, 3.4218, 3.4213, 3.4206, 3.4203, 3.4201, 3.42, 3.4199, 3.4194, 3.4193, 3.419, 3.4189, 3.4188, 3.4186, 3.4184, 3.4184, 3.4182, 3.4177, 3.3769, 3.3613, 3.2027, 3.2003, 3.2655, 2.61, 2.9702, 2.6221, 2.4984, 2.8237, 2.7758, 2.4514, 0.636, 2.0004, 3.6283, 3.6275, 3.6274, 3.6273, 3.6273, 3.6272, 3.6272, 3.6271, 3.6265, 3.6262, 3.6262, 3.626, 3.6258, 3.6256, 3.6253, 3.6248, 3.6244, 3.6242, 3.624, 3.6236, 3.6234, 3.6231, 3.6229, 3.6228, 3.6227, 3.6221, 3.6214, 3.6214, 3.6213, 3.6211, 3.5301, 3.4939, 3.5121, 3.4315, 3.5343, 3.1114, 2.0164, 2.5297, 1.0782, 3.7017, 3.7015, 3.7015, 3.7012, 3.7012, 3.7009, 3.7007, 3.7007, 3.7005, 3.7003, 3.7002, 3.6999, 3.6998, 3.6993, 3.6991, 3.6991, 3.6988, 3.6987, 3.6987, 3.6987, 3.6984, 3.6981, 3.6976, 3.6975, 3.6974, 3.6969, 3.6968, 3.6965, 3.6964, 3.6957, 3.4551, 3.552, 3.4434, 1.2963, 4.0026, 4.0026, 4.0019, 4.0014, 4.0013, 4.0005, 3.9996, 3.9991, 3.9985, 3.9984, 3.9977, 3.9973, 3.9966, 3.9966, 3.9962, 3.9959, 3.9958, 3.9952, 3.9948, 3.9945, 3.994, 3.9932, 3.993, 3.9922, 3.9907, 3.9899, 3.9894, 3.9863, 3.9833, 3.9773, 3.5766, 3.5857, 3.5209, 3.131, 2.9754, 3.3469, 3.1885, 2.4621, 2.3488, 1.487, 1.4624, 4.1241, 4.1236, 4.1235, 4.1228, 4.1223, 4.122, 4.1212, 4.121, 4.1209, 4.1208, 4.1205, 4.1205, 4.1197, 4.1194, 4.1191, 4.1191, 4.1183, 4.1175, 4.1166, 4.1164, 4.1162, 4.1158, 4.115, 4.1145, 4.1134, 4.113, 4.1097, 4.1088, 4.1086, 4.1078, 4.0833, 4.0055, 3.5405, 3.5807, 3.4963, 3.9167, 2.7871, 2.3557, 3.2384, 3.4497, 2.6462, 3.0708, 4.475, 4.4749, 4.4749, 4.4748, 4.4744, 4.4743, 4.4725, 4.472, 4.472, 4.4706, 4.4689, 4.4688, 4.4669, 4.4666, 4.4655, 4.4635, 4.4625, 4.4615, 4.4613, 4.4613, 4.4606, 4.4605, 4.4604, 4.4599, 4.4595, 4.4578, 4.4556, 4.4554, 4.4548, 4.4464, 4.2952, 3.9019, 3.1443, 2.589, 4.5416, 4.5393, 4.5388, 4.5388, 4.5386, 4.5386, 4.5382, 4.5375, 4.537, 4.5363, 4.5352, 4.535, 4.5349, 4.5345, 4.5332, 4.5323, 4.5321, 4.5313, 4.5307, 4.5295, 4.5294, 4.5273, 4.5271, 4.5265, 4.5258, 4.5226, 4.5216, 4.5214, 4.5209, 4.5205, 4.4167, 3.8454, 4.1377, 3.7431, 3.7406, 2.4645, 3.1436, 3.2869, 3.6763, 4.5949, 4.5941, 4.5933, 4.5932, 4.5925, 4.5908, 4.5907, 4.5906, 4.5906, 4.5904, 4.5902, 4.5901, 4.59, 4.5892, 4.5891, 4.5891, 4.5883, 4.5879, 4.5877, 4.5876, 4.5874, 4.5873, 4.5873, 4.5857, 4.5849, 4.5843, 4.5841, 4.5828, 4.5827, 4.5816, 4.6143, 4.6142, 4.6131, 4.6124, 4.6121, 4.6111, 4.6107, 4.6105, 4.6063, 4.6026, 4.6018, 4.6014, 4.6007, 4.5994, 4.5988, 4.5987, 4.5984, 4.5973, 4.5958, 4.5955, 4.5947, 4.5936, 4.5925, 4.5915, 4.5901, 4.5888, 4.5883, 4.5876, 4.5859, 4.5857, 4.3111, 4.1301, 3.9408, 2.8739, 2.7807, 3.0074, 5.0317, 5.0287, 5.0283, 5.0275, 5.0266, 5.0261, 5.0259, 5.0257, 5.0254, 5.0243, 5.0243, 5.0242, 5.0216, 5.0215, 5.02, 5.0198, 5.0196, 5.0194, 5.0193, 5.0186, 5.0166, 5.0145, 5.0134, 5.0118, 5.0113, 5.0085, 5.006, 5.0046, 5.0041, 5.003, 4.8907, 4.2316, 5.6426, 5.6386, 5.6381, 5.6371, 5.6326, 5.6299, 5.6269, 5.6257, 5.6232, 5.6186, 5.612, 5.606, 5.6054, 5.5914, 5.5892, 5.5869, 5.5839, 5.5659, 5.5646, 5.563, 5.552, 5.055, 2.201, 2.2009, 2.2009, 2.2009, 2.2009, 2.2009, 2.2009, 2.2009, 2.2008, 2.2008, 6.0925, 6.0892, 6.0867, 6.0852, 6.0841, 6.0674, 6.0667, 6.0407, 6.0346, 6.0023, 5.9963, 5.9771, 5.97, 4.7884, 2.3852, 2.3851, 2.3851, 2.3851, 2.3851, 2.3851, 2.3851, 2.3851, 2.3851, 2.3851, 2.3851, 2.3851, 2.3851, 2.3851, 2.3851, 2.3851, 2.3851, 2.3851, 2.3851, 2.3851, 2.3851, 2.3851, 2.3851, 2.3851, 2.3851]}, \"token.table\": {\"Topic\": [17, 7, 13, 17, 3, 9, 4, 1, 4, 12, 1, 8, 2, 6, 9, 13, 2, 3, 16, 14, 18, 11, 3, 4, 6, 15, 4, 10, 3, 1, 19, 17, 1, 3, 4, 5, 9, 3, 3, 9, 9, 9, 18, 1, 1, 2, 3, 4, 6, 20, 16, 15, 6, 15, 9, 17, 17, 19, 4, 11, 4, 12, 8, 1, 2, 18, 14, 18, 11, 3, 6, 11, 13, 11, 2, 7, 1, 7, 17, 2, 5, 5, 17, 20, 4, 6, 4, 6, 5, 7, 6, 14, 14, 8, 20, 9, 18, 1, 11, 5, 5, 7, 14, 10, 16, 16, 5, 7, 1, 3, 4, 5, 14, 6, 7, 17, 3, 19, 5, 15, 14, 6, 9, 7, 17, 11, 11, 11, 1, 2, 9, 9, 3, 3, 1, 20, 13, 1, 4, 12, 16, 2, 16, 7, 2, 3, 6, 4, 13, 3, 1, 7, 14, 3, 18, 10, 10, 1, 2, 3, 5, 4, 1, 5, 12, 7, 14, 5, 9, 4, 12, 7, 12, 5, 3, 9, 5, 7, 17, 9, 13, 6, 13, 13, 7, 16, 1, 2, 10, 4, 4, 7, 15, 2, 4, 6, 5, 6, 9, 10, 3, 8, 4, 11, 1, 16, 10, 11, 4, 5, 7, 7, 11, 12, 15, 6, 4, 8, 12, 1, 1, 6, 14, 10, 15, 12, 13, 1, 9, 7, 6, 13, 6, 7, 7, 6, 14, 3, 6, 15, 1, 4, 6, 12, 14, 4, 10, 20, 13, 2, 3, 4, 5, 8, 5, 19, 12, 15, 19, 1, 3, 7, 10, 12, 9, 16, 3, 3, 4, 12, 18, 14, 3, 13, 18, 3, 13, 17, 12, 12, 15, 5, 18, 3, 6, 5, 5, 11, 6, 20, 2, 12, 18, 7, 19, 6, 4, 6, 10, 12, 8, 2, 10, 7, 2, 15, 2, 15, 1, 3, 4, 6, 11, 19, 3, 9, 2, 4, 19, 10, 15, 5, 15, 1, 2, 17, 16, 7, 1, 2, 15, 11, 9, 2, 3, 4, 2, 3, 13, 17, 1, 2, 3, 4, 9, 13, 3, 10, 2, 3, 4, 6, 9, 5, 1, 3, 4, 6, 9, 13, 2, 2, 3, 9, 7, 8, 6, 1, 2, 5, 7, 4, 6, 16, 13, 1, 4, 5, 4, 5, 7, 8, 2, 6, 2, 1, 16, 4, 5, 3, 6, 17, 1, 7, 1, 3, 3, 10, 15, 12, 11, 17, 11, 16, 4, 5, 14, 20, 20, 1, 4, 4, 9, 10, 16, 11, 7, 5, 4, 14, 7, 10, 9, 12, 15, 7, 3, 11, 18, 9, 8, 18, 19, 3, 4, 13, 16, 8, 2, 8, 14, 2, 3, 4, 17, 13, 17, 1, 6, 6, 9, 1, 2, 3, 6, 3, 2, 3, 5, 9, 11, 4, 5, 15, 3, 4, 6, 18, 2, 3, 9, 5, 6, 13, 18, 1, 2, 3, 17, 4, 6, 9, 6, 19, 5, 1, 1, 12, 4, 11, 1, 2, 3, 2, 3, 6, 9, 10, 10, 8, 3, 12, 1, 2, 4, 17, 11, 1, 2, 6, 5, 15, 1, 2, 8, 7, 12, 8, 4, 6, 10, 12, 14, 10, 15, 15, 14, 17, 3, 8, 1, 2, 1, 2, 3, 12, 7, 18, 4, 1, 20, 16, 5, 9, 9, 2, 15, 12, 7, 5, 12, 20, 15, 10, 18, 15, 3, 14, 12, 8, 5, 8, 8, 10, 12, 3, 9, 3, 18, 13, 1, 4, 7, 16, 7, 12, 13, 1, 4, 5, 7, 9, 11, 13, 2, 1, 5, 6, 17, 20, 2, 4, 9, 12, 19, 11, 9, 4, 6, 14, 9, 16, 17, 1, 2, 5, 7, 17, 8, 8, 19, 8, 8, 15, 15, 1, 4, 6, 9, 1, 8, 9, 18, 1, 12, 19, 2, 15, 1, 4, 12, 9, 10, 18, 12, 6, 13, 4, 1, 2, 5, 7, 8, 11, 2, 3, 6, 9, 9, 9, 10, 3, 6, 17, 4, 4, 2, 16, 1, 15, 15, 15, 2, 14, 2, 3, 4, 9, 20, 13, 9, 10, 14, 1, 3, 4, 19, 19, 3, 5, 14, 12, 1, 19, 3, 7, 13, 14, 9, 17, 10, 13, 13, 8, 1, 6, 7, 5, 9, 1, 4, 12, 6, 13, 4, 15, 11, 10, 11, 13, 3, 13, 20, 3, 9, 13, 9, 11, 3, 4, 13, 13, 3, 4, 9, 13, 18, 5, 9, 5, 14, 14, 17, 4, 1, 3, 4, 12, 18, 18, 5, 12, 18, 6, 7, 5, 8, 16, 1, 3, 4, 3, 3, 18, 4, 2, 3, 4, 16, 12, 16, 13, 6, 2, 1, 8, 9, 2, 5, 6, 12, 14, 4, 4, 15, 10, 6, 10, 13, 1, 4, 9, 14, 11, 5, 7, 2, 8, 1, 2, 3, 3, 5, 9, 15, 5, 3, 3, 2, 7, 10, 12, 8, 9, 15, 1, 2, 3, 5, 14, 11, 15, 2, 3, 6, 9, 1, 11, 15, 4, 11, 2, 18, 10, 11, 7, 11, 2, 3, 4, 10, 13, 17, 4, 17, 9, 13, 1, 2, 6, 1, 14, 4, 3, 12, 4, 12, 1, 3, 5, 7, 10, 12, 19, 16, 1, 9, 3, 5, 6, 15, 17, 3, 5, 10, 12, 15, 7, 4, 5, 6, 9, 3, 7, 12, 15, 9, 20, 7, 6, 11, 2, 4, 9, 12, 15, 15, 18, 4, 17, 5, 7, 5, 11, 10, 10, 13, 12, 2, 2, 4, 12, 3, 9, 3, 13, 7, 2, 2, 9, 12, 15, 18, 6, 6, 8, 19, 18, 12, 3, 10, 18, 14, 18, 3, 7, 10, 12, 1, 2, 3, 14, 1, 4, 2, 3, 6, 9, 3, 13, 10, 10, 17, 2, 4, 13, 15, 2, 3, 6, 12, 12, 9, 4, 1, 16, 1, 2, 3, 6, 1, 2, 3, 2, 17, 1, 2, 3, 4, 6, 7, 8, 17, 14, 18, 12, 11, 19, 9, 8, 6, 6, 16, 9, 1, 3, 11, 11, 11, 1, 2, 3, 6, 9, 9, 1, 5, 11, 1, 4, 5, 10, 3, 6, 19, 1, 4, 17, 16, 14, 5, 17, 17, 4, 16, 7, 10, 12, 10, 3, 10, 9, 10, 18, 14, 13, 8, 1, 16, 1, 2, 3, 9, 13, 7, 2, 16, 19, 1, 2, 3, 6, 9, 9, 11, 1, 2, 3, 5, 7, 10, 1, 1, 2, 10, 2, 5, 13, 9, 19, 6, 9, 1, 2, 3, 1, 2, 4, 5, 7, 9, 10, 2, 3, 6, 9, 1, 3, 2, 4, 9, 6, 16], \"Freq\": [0.997866507432598, 0.7710476097320014, 0.22747888314563333, 0.9834609836323197, 0.9550980806160424, 0.04335558710406601, 0.9993630454404463, 0.922631977626958, 0.07533795790466212, 0.9907502417310788, 0.998038156408086, 0.995383892906098, 0.11377465545024983, 0.8838348234366968, 0.9933550051134683, 0.9964326847627817, 0.08747362982753763, 0.9113031435311503, 0.9973686832169276, 0.9912001563288474, 0.9894104162787385, 0.9954043805339504, 0.8248376127655052, 0.17428262856247467, 0.9943971381891217, 0.9760457012514778, 0.17811747183069543, 0.82131945344154, 0.9978166634251707, 0.9977278863512722, 0.993590152555733, 0.9777002597631177, 0.19566469184277463, 0.023942093094685504, 0.2567583087050756, 0.28235158063387733, 0.24024652036391317, 0.9975970077390228, 0.9986349306221857, 0.9975087996733883, 0.9982007580809292, 0.9929020440747313, 0.9776081489627204, 0.9998598675733387, 0.29209971042317195, 0.1491991782350164, 0.475941441915923, 0.08148873323126225, 0.0011809961337864096, 0.9390759308552781, 0.9916357443383675, 0.9897421196330121, 0.9986913277110873, 0.9862429199330448, 0.7983834270411106, 0.200130966295828, 0.9865329846390875, 0.9764238581571052, 0.9983369693918809, 0.9961894498335523, 0.9659396618315846, 0.03345245582100726, 0.9999622286846571, 0.05508986565022234, 0.9442747284108424, 0.9930018453367938, 0.9946369856501965, 0.9888033897148625, 0.9983316635316074, 0.9076040316280222, 0.0019416956666858665, 0.09015015595327237, 0.9963292996125009, 0.9975423848462175, 0.9984508274529859, 0.9967072406237377, 0.17451411887098744, 0.6497082367466049, 0.1749745782875336, 0.002600434393181032, 0.9959663725883353, 0.38171806123148916, 0.6153067255671766, 0.9886394761588088, 0.9986239121037109, 0.9986665844384031, 0.5918300083994416, 0.4074653993205766, 0.9108778999812522, 0.08825690804205917, 0.998531158028847, 0.9897405218820623, 0.9728507127554985, 0.9856794451887135, 0.9250015423758137, 0.9931409086782138, 0.9920768289686128, 0.9951976137665277, 0.9951646834175247, 0.9978148826140893, 0.6858322548086879, 0.1619655757463424, 0.1512865267960341, 0.997132523256188, 0.9936828474145455, 0.9950490799576243, 0.9995442639362074, 0.9994260455885425, 0.05281842211858698, 0.6464586020035645, 0.18761881231080896, 0.11276571102618568, 0.9841776814290303, 0.948838443889173, 0.050038876546892305, 0.9942415633851936, 0.9983424938747727, 0.9243781377578646, 0.9979193234098642, 0.9855459044079338, 0.9984209253320382, 0.9459392255694428, 0.05332649061506147, 0.8398112962186403, 0.15984323764886507, 0.9989647864584996, 0.9982334400187279, 0.9977596040208073, 0.995070323059072, 0.47527935864803833, 0.5222380976761379, 0.9948769155333587, 0.9995608562897559, 0.9991221232505052, 0.9973388904671479, 0.884210928720077, 0.9983327335776582, 0.08479045475100476, 0.7230313323312951, 0.1911639343477198, 0.9935048391169843, 0.9977600307358494, 0.9989914144073825, 0.9994161493140893, 0.7728210198134902, 0.21230462979267575, 0.014676361718622473, 0.5842324120292468, 0.41112651216872925, 0.998504254999145, 0.9160717614295375, 0.08205455617082755, 0.9810922940431596, 0.9980593009466399, 0.9923085474986673, 0.9946404682924654, 0.9936143424984203, 0.014263509168552834, 0.15062265681991793, 0.779928681336469, 0.05477187520724289, 0.9979999642357753, 0.3619811471561178, 0.21924410174755402, 0.41793406895627483, 0.998583532518995, 0.9808265949437598, 0.1442318978151964, 0.8529576025967649, 0.9992423480514223, 0.9844422478940547, 0.9969375221218348, 0.9853965833523805, 0.9990433968736535, 0.6208526471534747, 0.3773603525992257, 0.9990724073296002, 0.9947126378115348, 0.9704003352056491, 0.9384395437982432, 0.06023767341948183, 0.9966278602977822, 0.9923432075270235, 0.9878813476937381, 0.9957081448677785, 0.9952577514070367, 0.8355949443114266, 0.16372469637643244, 0.9952524614663834, 0.9979676804513635, 0.8680758446103951, 0.1304362668067433, 0.0006425431862401148, 0.9015150385347867, 0.021609349238287022, 0.07630801449770104, 0.9975484191786951, 0.6036785708185102, 0.3958427611571496, 0.9952369158927744, 0.996496915321208, 0.996495748788596, 0.9791207989303514, 0.01917159606297192, 0.9973699919748038, 0.9908258899004, 0.9930493153454057, 0.9920942431736584, 0.3444935680155615, 0.6166736173806261, 0.038165468176651125, 0.9978953347321243, 0.9946314988588246, 0.9822776141392602, 0.9769149198705364, 0.9989533034038174, 0.9975935749488112, 0.9856090481337362, 0.9901123513371218, 0.9971643804069625, 0.9992099817514445, 0.9980897994329591, 0.9977747033234226, 0.9986186243621299, 0.9884041735428852, 0.9988535166098479, 0.9811472191003328, 0.961365326322114, 0.03759941076873299, 0.9993267901372993, 0.9977557096467472, 0.9939375379966556, 0.9974721249323883, 0.999763665582204, 0.9989291493315264, 0.9986901787184357, 0.9948591979718534, 0.3297146218154963, 0.17092229558997302, 0.4984314684301149, 0.997602684516887, 0.3108333481378584, 0.6882738423052579, 0.4341833518491605, 0.5620592705444613, 0.9988332952713926, 0.994042426349343, 0.9476873867871799, 0.998571788006536, 0.6677135692263768, 0.08177805077646282, 0.12055939444365138, 0.12688243960677995, 0.0025292180652514273, 0.9986066356275133, 0.9788662793342804, 0.999111322936879, 0.9935775279280281, 0.9291792354013488, 0.33186544793152406, 0.1520547143249892, 0.11464442746725377, 0.04223742064583033, 0.35841468376604596, 0.9953445616364697, 0.9943002803200514, 0.9995088806929908, 0.819456314480904, 0.16903583168664385, 0.01102407597956373, 0.9904065079373179, 0.9841900609723668, 0.9992587424586158, 0.9856341784105949, 0.9853781420009149, 0.998848856146232, 0.9943577093166722, 0.9789844967525692, 0.9823324247766669, 0.9937389528551489, 0.9949703658961349, 0.9966771936066957, 0.9932100874463321, 0.9959378727053566, 0.003402008104885932, 0.9972402607260722, 0.9942851626431748, 0.9991442596115744, 0.995775819488853, 0.9931661637000455, 0.9976705020491387, 0.023581267451408202, 0.9735694704938529, 0.9990560581944842, 0.9499690084518839, 0.9970179687974086, 0.9990118071565923, 0.997347820019406, 0.9964499307128485, 0.9996541774818103, 0.9957477335358724, 0.9961404444114831, 0.9928302334197359, 0.9972947029276826, 0.9966301122326872, 0.995729041184192, 0.5440173744858898, 0.44977814425998763, 0.06322123749512344, 0.3704116094265566, 0.5288699675072827, 0.01580530937378086, 0.021073745831707815, 0.9923577623447594, 0.551191127737827, 0.4476679210053417, 0.9974022665324438, 0.9980482034552147, 0.9104861442160623, 0.9935718098804985, 0.9834061111829084, 0.5737295224945884, 0.42199940084312704, 0.9982084766002406, 0.9992862717497459, 0.9840382901210364, 0.9915969047448646, 0.9967903332891436, 0.28671507165796384, 0.7128975751575904, 0.9919494703183257, 0.9970129972570454, 0.9940063394374632, 0.3914803942464019, 0.5881886437787186, 0.019748269145960926, 0.9997161792250416, 0.1111275260129484, 0.8859333323810052, 0.9978583137786983, 0.3184394704113667, 0.6300292770605925, 0.0448722870948414, 0.006430296593030232, 0.44253735137709016, 0.5569787102316452, 0.9976032843593433, 0.9989512281024882, 0.9227850118147125, 0.03757948011915119, 0.009742828179039197, 0.02922848453711759, 0.9916208578311244, 0.9980815233277764, 0.11440081349316564, 0.38754672974883475, 0.44791458572894166, 0.049933905563792166, 0.9993691269771979, 0.9871058377683138, 0.9984129097379022, 0.9090646519213503, 0.0610793719096092, 0.02901270165706437, 0.9980310855838977, 0.9880091823069925, 0.9974667445458876, 0.9986863758926695, 0.9978646369209695, 0.0010905624447223711, 0.9965449073992544, 0.997032230184953, 0.9964056530339161, 0.9938339174076422, 0.9947475746913509, 0.882475633666632, 0.11720911891170711, 0.9965514315112759, 0.07001707735138357, 0.8944116977789642, 0.03523440021553496, 0.9975259421102411, 0.9984209242077958, 0.996365486192886, 0.998816267400842, 0.9997362788171589, 0.997106697645994, 0.04253984425837597, 0.9536015087919278, 0.3802924750083735, 0.6186847727748166, 0.9782471555563872, 0.998577587795315, 0.9982338509526056, 0.6835913867895445, 0.31608156261528386, 0.997422193502059, 0.8741409712735742, 0.125590187119229, 0.9950242780901136, 0.996062832415506, 0.9858597818159537, 0.9931211263546144, 0.9892353244198505, 0.999416508646676, 0.9988372415839153, 0.9816632524041324, 0.9666401094253995, 0.9898197519627819, 0.165234729464907, 0.8337532220706316, 0.999334509019532, 0.9951410573627673, 0.9978435459825602, 0.9937434862167103, 0.9961270611894592, 0.9980162472232529, 0.9975375176032747, 0.9444973795158612, 0.05441928260882404, 0.9975016821816338, 0.9982259144861659, 0.506093263777317, 0.20628801512662379, 0.2860527143089183, 0.9982913677554465, 0.22570293770945507, 0.7729552661282708, 0.9801606474825616, 0.9936303236426969, 0.981574902530527, 0.9620829292402873, 0.998133023846362, 0.7860490830267467, 0.1970110328652062, 0.01645914958114381, 0.9910652257638534, 0.9918783167646628, 0.9980560719937474, 0.9880741442555119, 0.9857416144025856, 0.9838975925377277, 0.00577913417055934, 0.00866870125583901, 0.9857210237101921, 0.2623760228172199, 0.7370916153823501, 0.9985923080560086, 0.9975539685026623, 0.19870223013438124, 0.8001611691606733, 0.5552651958704573, 0.27963958057090504, 0.16133910410131563, 0.003790967200721998, 0.9971510368598493, 0.03881531426878759, 0.19037987474691057, 0.13492942579149972, 0.6339834663901973, 0.9942866008344026, 0.17195315352095483, 0.8272340899116206, 0.995951796254268, 0.9993740061753826, 0.06058518978367806, 0.937555811902418, 0.9848674533476294, 0.9273281187955149, 0.01645449133477466, 0.05524007805245779, 0.20435999142041514, 0.44567870469345855, 0.3478467939070896, 0.9895808175565279, 0.20490208911094399, 0.6711826973611331, 0.12368804923553565, 0.9946194794062732, 0.9971458928178278, 0.8262488563732342, 0.17207058734977299, 0.9993407016031979, 0.9791457763016247, 0.9989881049610805, 0.9999086158791892, 0.4786273756736652, 0.5199902352997844, 0.9994712265252537, 0.9948627583899594, 0.25609330189973156, 0.6635144640129409, 0.08008735986682515, 0.18783828435343103, 0.015889643389414107, 0.708224105356743, 0.08739303864177758, 0.995925093053543, 0.9954034063852969, 0.9929930665407115, 0.9970812709772817, 0.9896489345510618, 0.5885786180023446, 0.372232269553463, 0.03909288675675639, 0.9832572087928888, 0.99859797260366, 0.3190815925091405, 0.680519148625689, 0.998567132733148, 0.9987730536494531, 0.9875283301523257, 0.8005746305013731, 0.1965338521771908, 0.0024065369654349892, 0.9802606711272033, 0.018294133831300838, 0.9916546990938239, 0.9996765438710101, 0.9993424070520123, 0.996432471342295, 0.16226277013176277, 0.8352542593667788, 0.9116130678697284, 0.0844737977948783, 0.9912828479410499, 0.9967631022418637, 0.9981098187584914, 0.9989957625277619, 0.9956718071123162, 0.20668778007710126, 0.792731081972733, 0.010448361795565592, 0.05414151112247625, 0.9349700721910664, 0.9892620765659068, 0.9988591302595333, 0.9881189493134191, 0.999541361943304, 0.9956914259785667, 0.9666337292530526, 0.9945639846743779, 0.9975317803198439, 0.9974862162655814, 0.9949745594303671, 0.9969415502175462, 0.9960049221991898, 0.9956474294221263, 0.9981854298024068, 0.9986189461734319, 0.9939677465071615, 0.5386670676377903, 0.9802834439997131, 0.9981011020897048, 0.9838903716557027, 0.9967262502135266, 0.9979143621450688, 0.9973928779132907, 0.9981466104467145, 0.9789561125640878, 0.9968444092757632, 0.9972258022136415, 0.994848014153962, 0.3350572601311655, 0.6594212034496342, 0.04582813183270966, 0.9520424806537103, 0.9977431189852397, 0.9646673021011745, 0.9790534437171021, 0.7674537293155829, 0.23103642729396112, 0.0012636449988730782, 0.9866883978311024, 0.898914551680532, 0.0012952659246117176, 0.09714494434587882, 0.2762100368928159, 0.5360592005202037, 0.1874282393201251, 0.7422397292293658, 0.07376861112586335, 0.18305544242343869, 0.9957076213997162, 0.9979551097328997, 0.9998493407357585, 0.9968003691563214, 0.9976111711396759, 0.9808265115648958, 0.9854759989629184, 0.15463562105104828, 0.8197479061895339, 0.025076046656926747, 0.44403304922844133, 0.5531808378656001, 0.9930304486370222, 0.9967719894705391, 0.728699975901515, 0.005571100733192011, 0.2640701747533013, 0.9937189762321877, 0.9945478794084803, 0.9825276101929562, 0.028318634838643355, 0.847199158922747, 0.06230099664501538, 0.061357042150393934, 0.9761502637333067, 0.9934990092819082, 0.9855804095625257, 0.9672364878560724, 0.9847644614335422, 0.9895727063935842, 0.9955841517036962, 0.9841873951773782, 0.16182684506479253, 0.6699722044979365, 0.1582004731865899, 0.009065929695506583, 0.9996238933795439, 0.0002673267677071342, 0.5466186828583003, 0.4492014918538507, 0.37850343048699503, 0.6190776447795766, 0.985689541677221, 0.9963140695675008, 0.9889059441823491, 0.9957545319744584, 0.3454073317757142, 0.6530357366384597, 0.0922678966362482, 0.9060194850253815, 0.9967982058512785, 0.9832892932057313, 0.9972484589406774, 0.9945802510911783, 0.9990877602350247, 0.11648943023935557, 0.4696675754236438, 0.4125358166438325, 0.9973869265741816, 0.9779661905089778, 0.9953158896604177, 0.013004845288614638, 0.554300858622273, 0.37112883960433285, 0.06146629707165975, 0.9953724356229313, 0.10749195073658478, 0.8901087850468073, 0.7314024459379971, 0.2683354456967454, 0.985075224466222, 0.9986424464373038, 0.9992865967398428, 0.9978422854075198, 0.997918944661403, 0.9989578672390172, 0.995478997320475, 0.9946898091335544, 0.9848334282466573, 0.9991837236681909, 0.9984943976629763, 0.39807486772472983, 0.5989678401252772, 0.0027214565226675127, 0.9983045497225527, 0.9401225792901861, 0.989918331109129, 0.9955146816834267, 0.997968089733939, 0.9889770687207073, 0.6141650141432299, 0.05510084859312294, 0.3302828643739825, 0.9841238760475748, 0.9356206712874737, 0.08256462783900223, 0.9167337065220829, 0.9699812096464363, 0.9941539661269999, 0.9947509718930582, 0.9401848674306892, 0.9697859344543015, 0.02884946715767945, 0.989573846021349, 0.9988130356799836, 0.018857897578535565, 0.9758961996892155, 0.9967801723291096, 0.9917590305485998, 0.9972196290298653, 0.9977954523552764, 0.7437212574457609, 0.014371425264652384, 0.2416794682005709, 0.9963169605151008, 0.9953853939973274, 0.9960845903632981, 0.9986422751579771, 0.9994894189135636, 0.18288230320482313, 0.8091156444819447, 0.7510338642863126, 0.24752383696196778, 0.9961433348992951, 0.13618051267272896, 0.8589847722433673, 0.9958147169474554, 0.48611109195043534, 0.5091028327859289, 0.9217577724895231, 0.18670518724134175, 0.2787048447225826, 0.533056838935425, 0.2179467271056799, 0.7811455125703574, 0.2702346243746791, 0.7145022805470049, 0.014502752649803888, 0.9872478261145776, 0.3320874843931924, 0.05076877009608158, 0.03703133818773009, 0.5799585383917084, 0.9907971684723091, 0.8617517417055861, 0.13574496462264984, 0.9974541080871936, 0.9952411100103131, 0.9854808834376523, 0.9902430012434073, 0.9984665425441923, 0.4679889800480276, 0.517471685823715, 0.014257728782825213, 0.9946327209116955, 0.97846446610986, 0.9887152878875783, 0.9963500991962194, 0.9937383995351567, 0.9757047222683817, 0.9970133006542035, 0.9966709501567084, 0.9990200283831557, 0.9903605703136733, 0.9933428087175137, 0.5274028593028803, 0.2834790368752982, 0.1882535206122781, 0.9978461917593825, 0.9996637827158421, 0.9797489945070144, 0.999140922471141, 0.9973920905956343, 0.07069262199026072, 0.9274872005122207, 0.9922914117592092, 0.993659579985598, 0.9886147769413042, 0.9920921876928087, 0.9984927226247979, 0.998907524712416, 0.9906487654366929, 0.0014241644126461945, 0.007405654945760211, 0.12715853615387845, 0.8600668022276065, 0.0076854060312783684, 0.004192039653424564, 0.9832439665245798, 0.9986384598966653, 0.9465536122143675, 0.051992786825920866, 0.9956034429178674, 0.9353565659536777, 0.0626785327700918, 0.99457735853717, 0.02603075204926718, 0.9135954267613772, 0.05877911753060331, 0.9870044484156256, 0.997535991202988, 0.03886679743316538, 0.9598409105233885, 0.9981130797524896, 0.9978099261013865, 0.0014757844053271132, 0.3507447603327439, 0.6476233898710482, 0.24464994471105936, 0.7529944406076916, 0.11241057435930131, 0.8819906603575949, 0.9974967776395257, 0.9968550893286295, 0.9992234181678336, 0.45388259149737703, 0.38701055635009685, 0.07806780573754885, 0.08079110128653312, 0.9872685066639119, 0.5468922670987661, 0.4461489547384671, 0.07421286189347723, 0.8971218526238044, 0.02824029257893381, 0.9983063834009145, 0.9991146610234691, 0.9951565866896495, 0.9971363622739619, 0.5375447118362777, 0.46048047318706903, 0.001558602579422197, 0.0003463561287604882, 0.9951051934503538, 0.3218134634978771, 0.6650811578956126, 0.9911818114208187, 0.008169080863358396, 0.997982634002595, 0.9802782646472171, 0.9988395341277981, 0.9962009780162522, 0.9971886948228162, 0.9974651575753648, 0.8314802100406106, 0.02913907826548187, 0.060988768462636476, 0.07725244005267287, 0.9873240294843556, 0.9952735764886772, 0.9978943315767779, 0.9970045562635055, 0.039389995377886344, 0.9580663391911711, 0.05232056937950754, 0.8617505544860066, 0.08566210868997803, 0.9976130840515388, 0.9991509161171812, 0.9993312208490658, 0.9992148732733608, 0.9984444713022987, 0.9989322140017306, 0.997346001195066, 0.26900138327285156, 0.16438973422229816, 0.07520468779671119, 0.21307994875734837, 0.19958167146050276, 0.07857925712092259, 0.9638787972670759, 0.990487884007017, 0.45055688244584013, 0.5481001250372076, 0.17740761733029356, 0.3148216099445094, 0.5065859130703181, 0.9916066991413139, 0.9835977579280475, 0.9986656550182568, 0.5030311383979711, 0.3326712595271915, 0.16231138065641199, 0.9921001650277697, 0.9983185964803062, 0.16512982329746467, 0.7855461594007962, 0.009435989902712267, 0.03931662459463445, 0.9984560510391342, 0.9330735639626436, 0.0662061481061027, 0.9892874414545189, 0.99753133186475, 0.9832514989169538, 0.9986955963318269, 0.9974680182517753, 0.9976709340628398, 0.9984592943737787, 0.967572413386918, 0.020074116460309502, 0.0120444698761857, 0.9991136773406883, 0.9776567907928659, 0.988714270343973, 0.9983045354251647, 0.991953998870789, 0.19195055421668708, 0.8066118917630184, 0.9785586853001118, 0.01854411502755314, 0.9962862442512869, 0.9950997108218805, 0.9853966070692085, 0.967924050202183, 0.9971512903286245, 0.9692432378275122, 0.01790850507026949, 0.012230198584574286, 0.9504466276979724, 0.04895917679071302, 0.9978808259111397, 0.9945113528747606, 0.9961702877052111, 0.9973556569841593, 0.9149809991983665, 0.08438076576408353, 0.9920287479767399, 0.12583056778229745, 0.8668328002780491, 0.9966122098067353, 0.9987238059713534, 0.9903719722242811, 0.933100151754257, 0.98331012817277, 0.9901194559878022, 0.9460374297945169, 0.052824425013907036, 0.9834609588795814, 0.991492835951768, 0.9759552703333281, 0.46213445509033974, 0.378773110316434, 0.12504201716085855, 0.03334453790956228, 0.6296923165554938, 0.22670374299952978, 0.14327676557570282, 0.9863323566642346, 0.03338560742790317, 0.9661794789635176, 0.753422573741805, 0.12643459813454325, 0.1037003013090891, 0.01595389250909063, 0.9993730685177024, 0.9976827137191008, 0.9988192581941856, 0.486874956555364, 0.5109776771769167, 0.999492338156887, 0.829166099364674, 0.1704362424800605, 0.9763420505517735, 0.7159020595369662, 0.2654243352977645, 0.018305126572259623, 0.996332945323411, 0.9902719851578391, 0.995379812044321, 0.9990115737961456, 0.9995864874680416, 0.9910580003285416, 0.3062879444798691, 0.302302005476364, 0.3855871520232873, 0.005664229110244156, 0.10904370694930739, 0.5717023541082273, 0.319049204141303, 0.9973196518007481, 0.960288601534118, 0.10789133918177574, 0.7094225042089364, 0.09148594377194409, 0.08823442396098646, 0.0019213526155658694, 0.0008867781302611705, 0.9909077767515421, 0.9745147797691532, 0.9853274426266716, 0.9863689464962739, 0.9929120238433781, 0.9967250251979756, 0.9848028405531187, 0.9944791203659924, 0.9964591213300821, 0.9960875398208074, 0.9963442609424181, 0.9965565784450007, 0.9930521800012931, 0.018944444595300588, 0.954111118708775, 0.02640740761769173, 0.9971010351160395, 0.9984795215649098, 0.7639774800391471, 0.0557961080927467, 0.177403010346169, 0.0026228939701718537, 0.9969439144161978, 0.9960228616640306, 0.5022691768720703, 0.48455109241185923, 0.012325623972320742, 0.09600849029526907, 0.8489171773476424, 0.05305732358422765, 0.0006316348045741387, 0.8927260588826739, 0.10619120458483419, 0.9417675934293577, 0.9624490662882468, 0.03722680350737558, 0.9618621282773728, 0.9871903456086834, 0.9900286070490848, 0.9976384887708638, 0.9959621229737083, 0.9744648063482376, 0.9990732859111976, 0.9907174746140449, 0.1886079724424566, 0.5961050138204248, 0.2145631980079323, 0.9985476634118056, 0.9323025210847793, 0.0664743330541732, 0.9985091044249886, 0.9942421384159992, 0.9822321082013319, 0.9856587615694358, 0.997345861526072, 0.9749767490021932, 0.9964983375042439, 0.9887489932688442, 0.6896365983673857, 0.20979308019720982, 0.10035508482506447, 0.9982405123779978, 0.9895470909681354, 0.9970389080675321, 0.997376389641611, 0.99240399666326, 0.9913163987457856, 0.2940823277453989, 0.32142331513215927, 0.3709927475488063, 0.0033342667544829802, 0.01000280026344894, 0.997059835365579, 0.9952510824759818, 0.04398605337524741, 0.9514020433757217, 0.0040727827199303155, 0.9973070373410565, 0.9953850447645849, 0.9960416975012829, 0.9964650756887301, 0.9977200358744177, 0.9991898841203509, 0.9994818805469559, 0.9978777861236812, 0.9988237434152867, 0.9878650983856632, 0.9963895456926807, 0.9319315203761921, 0.8757777399558477, 0.12289347901891512, 0.9841275376948966, 0.013992334659169147, 0.9991484148741304, 0.5877746672020835, 0.1245424644491128, 0.17016693162354027, 0.006576499772890445, 0.10111368400819058, 0.009864749659335667, 0.9942739463307395, 0.14380844684119126, 0.49838069026744825, 0.32720788309615173, 0.02969324206032694, 0.9996241275713869, 0.00028243953593879687, 0.9613294470712527, 0.027930262694649665, 0.010568207506083657, 0.9977467963971359, 0.9942973492412864], \"Term\": [\"accept\", \"access\", \"access\", \"access_digex\", \"action\", \"action\", \"address\", \"advance\", \"advance\", \"advanced\", \"advice\", \"afford\", \"age\", \"age\", \"aged\", \"agency\", \"agree\", \"agree\", \"air\", \"amp\", \"angle\", \"announcement\", \"answer\", \"answer\", \"anti\", \"apollo\", \"application\", \"application\", \"apply\", \"appreciate\", \"arab\", \"arbitrary\", \"area\", \"area\", \"area\", \"area\", \"area\", \"argue\", \"argument\", \"arm\", \"armenian\", \"army\", \"arrange\", \"article\", \"ask\", \"ask\", \"ask\", \"ask\", \"ask\", \"assembler\", \"assembly\", \"astronomy\", \"atheist\", \"atmosphere\", \"attack\", \"attack\", \"au\", \"australia\", \"author\", \"authority\", \"available\", \"available\", \"ax\", \"bad\", \"bad\", \"band\", \"battery\", \"beautiful\", \"belief\", \"believe\", \"believe\", \"believe\", \"benefit\", \"bible\", \"bike\", \"bio\", \"bit\", \"bit\", \"bit\", \"black\", \"black\", \"block\", \"block\", \"blue\", \"board\", \"body\", \"book\", \"book\", \"box\", \"box\", \"brain\", \"brand\", \"brand_new\", \"brick\", \"bridge\", \"british\", \"brother\", \"btw\", \"bunch\", \"bus\", \"buy\", \"buy\", \"buy\", \"cable\", \"camp\", \"canadian\", \"car\", \"card\", \"case\", \"case\", \"case\", \"case\", \"catalog\", \"cause\", \"cause\", \"cd\", \"certain\", \"char\", \"character\", \"characteristic\", \"cheap\", \"child\", \"child\", \"chip\", \"chip\", \"christian\", \"christianity\", \"church\", \"circuit\", \"city\", \"city\", \"civilian\", \"claim\", \"clear\", \"clearly\", \"climb\", \"clipper\", \"code\", \"code\", \"code\", \"cold\", \"college\", \"color\", \"com\", \"come\", \"come\", \"come\", \"communication\", \"communication\", \"community\", \"compare\", \"compare\", \"computing\", \"conclusion\", \"conference\", \"configuration\", \"connector\", \"consider\", \"consider\", \"consider\", \"consider\", \"contact\", \"contain\", \"contain\", \"contain\", \"controller\", \"converter\", \"cop\", \"cop\", \"copy\", \"core\", \"corporation\", \"correction\", \"cost\", \"country\", \"country\", \"cpu\", \"crash\", \"creature\", \"crime\", \"crime\", \"criminal\", \"crypto\", \"cryptography\", \"cycle\", \"cylinder\", \"d\", \"d\", \"dangerous\", \"date\", \"datum\", \"datum\", \"datum\", \"day\", \"day\", \"day\", \"dealer\", \"death\", \"death\", \"default\", \"define\", \"deliver\", \"department\", \"department\", \"dept\", \"depth\", \"description\", \"deserve\", \"design\", \"design\", \"design\", \"device\", \"devil\", \"diagnostic\", \"diameter\", \"die\", \"direct\", \"dirt\", \"dirty\", \"disclaimer\", \"discussion\", \"disease\", \"disk\", \"display\", \"distant\", \"distribution\", \"distribution_inet\", \"distribution_world\", \"distribution_world\", \"do\", \"doctor\", \"dod\", \"door\", \"drive\", \"driver\", \"drug\", \"duo\", \"earth\", \"earth\", \"earth\", \"eat\", \"effect\", \"effect\", \"electronic\", \"electronic\", \"email\", \"enable\", \"enclose\", \"encryption\", \"end\", \"end\", \"end\", \"end\", \"end\", \"engine\", \"enhancement\", \"entry\", \"environmental\", \"erase\", \"error\", \"error\", \"error\", \"error\", \"error\", \"escape\", \"ethnic\", \"evidence\", \"example\", \"example\", \"example\", \"exchange\", \"exe\", \"exist\", \"expense\", \"expire\", \"explain\", \"export\", \"express_access\", \"extended\", \"extension\", \"external\", \"extra\", \"facility\", \"fact\", \"fact\", \"factor\", \"failure\", \"faith\", \"false\", \"family\", \"fan\", \"faq\", \"faq\", \"fast\", \"fate\", \"father\", \"fax\", \"fear\", \"feature\", \"file\", \"film\", \"finally\", \"finger\", \"firearm\", \"flame\", \"flight\", \"fly\", \"fly\", \"follow\", \"follow\", \"follow\", \"follow\", \"follow\", \"font\", \"force\", \"force\", \"forget\", \"format\", \"foster\", \"frame\", \"frequently_aske\", \"fuel\", \"fuel\", \"function\", \"game\", \"garage\", \"gas\", \"generate\", \"get\", \"get\", \"gif\", \"gift\", \"girl\", \"give\", \"give\", \"give\", \"go\", \"goal\", \"goal\", \"god\", \"good\", \"good\", \"good\", \"good\", \"government\", \"government\", \"grant\", \"graphic\", \"great\", \"great\", \"great\", \"great\", \"greek\", \"ground\", \"group\", \"group\", \"group\", \"group\", \"gun\", \"gun_control\", \"guy\", \"happen\", \"happen\", \"happen\", \"hardware\", \"harley\", \"hate\", \"have\", \"head\", \"head\", \"headache\", \"health\", \"heart\", \"heat\", \"helmet\", \"help\", \"help\", \"hide\", \"high\", \"high\", \"high\", \"highway\", \"hit\", \"hole\", \"home\", \"host\", \"hot\", \"hour\", \"hour\", \"human\", \"human\", \"hunt\", \"i\", \"ide\", \"idea\", \"idea\", \"ignore\", \"image\", \"image\", \"implementation\", \"imply\", \"import\", \"impression\", \"impressive\", \"include\", \"increase\", \"indication\", \"industrial\", \"industry\", \"info\", \"info\", \"information\", \"inhabitant\", \"input\", \"insert\", \"insist\", \"instal\", \"insurance\", \"interested\", \"interested\", \"interface\", \"internal\", \"international\", \"international\", \"international\", \"internet\", \"interpretation\", \"interpretation\", \"introduction\", \"invasion\", \"io\", \"iron\", \"israeli\", \"issue\", \"issue\", \"issue\", \"japanese\", \"jim_frost\", \"job\", \"joint\", \"junk\", \"keep\", \"keep\", \"keep\", \"ken\", \"key\", \"key\", \"keyword\", \"kid\", \"kill\", \"kill\", \"know\", \"know\", \"know\", \"know\", \"knowledge\", \"land\", \"land\", \"land\", \"land\", \"language\", \"large\", \"large\", \"launch\", \"law\", \"learn\", \"learn\", \"leather\", \"leave\", \"leave\", \"leave\", \"legal\", \"legal\", \"legal\", \"length\", \"let\", \"let\", \"let\", \"library\", \"license\", \"lie\", \"lie\", \"life\", \"lift\", \"light\", \"line\", \"link\", \"link\", \"list\", \"listen\", \"little\", \"little\", \"little\", \"live\", \"live\", \"live\", \"live\", \"load\", \"locate\", \"log\", \"logic\", \"login\", \"look\", \"look\", \"look\", \"loop\", \"lose\", \"lot\", \"lot\", \"love\", \"low\", \"lunar\", \"m\", \"m\", \"m\", \"machine\", \"machine\", \"mad\", \"mail\", \"man\", \"manager\", \"manual\", \"manual\", \"map\", \"map\", \"mar\", \"market\", \"master\", \"matter\", \"max\", \"maybe\", \"maybe\", \"mean\", \"mean\", \"mean\", \"mechanism\", \"memory\", \"mercy\", \"message\", \"mhz\", \"micro\", \"middle\", \"mile\", \"military\", \"minority\", \"minute\", \"mission\", \"mit\", \"mode\", \"model\", \"modify\", \"modular\", \"module\", \"monitor\", \"monthly\", \"moon\", \"moral\", \"motherboard\", \"motif\", \"moto\", \"mount\", \"movie\", \"mph\", \"multiple\", \"multiple\", \"murder\", \"murder\", \"nature\", \"nearby\", \"neat\", \"need\", \"need\", \"need\", \"netcom\", \"network\", \"network\", \"network\", \"new\", \"new\", \"new\", \"news\", \"news\", \"news\", \"nhl\", \"night\", \"nntp_poste\", \"normal\", \"notice\", \"novel\", \"nuclear\", \"number\", \"number\", \"number\", \"object\", \"object\", \"observation\", \"occupy\", \"offer\", \"offer\", \"offer\", \"officer\", \"oil\", \"okay\", \"old\", \"old\", \"old\", \"old\", \"online_communication\", \"opening\", \"openwindow\", \"operator\", \"oracle\", \"oracle_corporation\", \"orbit\", \"orbital\", \"order\", \"order\", \"order\", \"order\", \"organization\", \"organization\", \"organize\", \"organize\", \"output\", \"output\", \"own\", \"owner\", \"ozone\", \"pack\", \"package\", \"package\", \"page\", \"page\", \"paper\", \"parameter\", \"parent\", \"park\", \"patient\", \"pay\", \"pay\", \"pay\", \"pc\", \"pedal\", \"pen\", \"people\", \"people\", \"people\", \"people\", \"percent\", \"period\", \"period\", \"person\", \"person\", \"phase\", \"phone\", \"physical\", \"pick\", \"picture\", \"pin\", \"plane\", \"planet\", \"planetary\", \"play\", \"player\", \"point\", \"point\", \"point\", \"police\", \"pollution\", \"pop\", \"population\", \"port\", \"portable\", \"post\", \"post\", \"post\", \"postscript\", \"pov\", \"power\", \"power\", \"powerbook\", \"preach\", \"prefer\", \"premium\", \"present\", \"present\", \"press_release\", \"price\", \"principle\", \"principle\", \"printer\", \"privacy\", \"private\", \"probe\", \"problem\", \"problem\", \"problem\", \"procedure\", \"proceed\", \"processor\", \"product\", \"program\", \"prohibit\", \"prohibit\", \"project\", \"project\", \"proof\", \"proper\", \"proper\", \"proposal\", \"propose\", \"propose\", \"propulsion\", \"protect\", \"protect\", \"protect\", \"prove\", \"prove\", \"provide\", \"provide\", \"provide\", \"pt\", \"public\", \"public\", \"public\", \"public\", \"publication\", \"publish\", \"publish\", \"pull\", \"purchase\", \"purdue_university\", \"qualified\", \"quality\", \"question\", \"question\", \"question\", \"quick\", \"radar\", \"radiation\", \"radio\", \"radius\", \"rain\", \"raise\", \"ram\", \"rate\", \"ratio\", \"ray\", \"read\", \"read\", \"read\", \"reality\", \"reason\", \"rec\", \"receive\", \"record\", \"reference\", \"reference\", \"reflect\", \"registration\", \"regularly\", \"regulation\", \"religion\", \"remember\", \"reply\", \"reply\", \"reply\", \"report\", \"report\", \"report\", \"report\", \"repost\", \"request\", \"research\", \"research\", \"resolution\", \"respond\", \"respond\", \"restriction\", \"return\", \"return\", \"return\", \"rev\", \"revelation\", \"review\", \"review\", \"ride\", \"rider\", \"right\", \"right\", \"right\", \"risk\", \"risk\", \"rocket\", \"rocket\", \"room\", \"route\", \"rule\", \"run\", \"run\", \"run\", \"run\", \"running\", \"russian\", \"russian\", \"s\", \"s\", \"s\", \"safety\", \"sale\", \"san_jose\", \"satellite\", \"say\", \"say\", \"say\", \"say\", \"sc\", \"scale\", \"scale\", \"science\", \"science\", \"score\", \"scott_roby\", \"screen\", \"scripture\", \"scsi\", \"season\", \"second\", \"second\", \"second\", \"second\", \"secrecy\", \"secret\", \"section\", \"secure\", \"security\", \"security\", \"see\", \"see\", \"see\", \"self\", \"sell\", \"send\", \"sense\", \"server\", \"service\", \"session\", \"set\", \"set\", \"set\", \"set\", \"set\", \"set\", \"shaft\", \"shape\", \"shoot\", \"shoot\", \"show\", \"show\", \"show\", \"shuttle\", \"significance\", \"simply\", \"size\", \"size\", \"size\", \"sky\", \"slow\", \"small\", \"small\", \"small\", \"small\", \"society\", \"software\", \"software\", \"solar\", \"soldier\", \"solid\", \"solution\", \"son\", \"soon\", \"sorry\", \"source\", \"source\", \"source\", \"space\", \"space_station\", \"speaker\", \"special\", \"specification\", \"speed\", \"speed\", \"spend\", \"spend\", \"spring\", \"ss\", \"stable\", \"stamp\", \"star\", \"start\", \"start\", \"start\", \"state\", \"state\", \"statement\", \"statistic\", \"status\", \"steal\", \"stop\", \"stop\", \"strip\", \"structure\", \"structure\", \"student\", \"study\", \"subjective\", \"submission\", \"submit\", \"suck\", \"suggest\", \"suggest\", \"summarize\", \"super\", \"supersede\", \"support\", \"support\", \"support\", \"support\", \"sure\", \"sure\", \"sure\", \"sustain\", \"system\", \"system\", \"take\", \"take\", \"take\", \"take\", \"talk\", \"tap\", \"tape\", \"task\", \"task\", \"team\", \"technology\", \"technology\", \"telescope\", \"tell\", \"tell\", \"tell\", \"telnet\", \"terminal\", \"terrorism\", \"test\", \"thank\", \"thermal\", \"thing\", \"thing\", \"thing\", \"thing\", \"think\", \"think\", \"think\", \"throw\", \"tiff\", \"time\", \"time\", \"time\", \"time\", \"time\", \"time\", \"tiny\", \"tolerance\", \"ton\", \"tour\", \"trace\", \"trade\", \"translate\", \"trap\", \"travel\", \"treat\", \"treatment\", \"trial\", \"troop\", \"true\", \"true\", \"true\", \"trust\", \"truth\", \"try\", \"try\", \"try\", \"try\", \"turk\", \"turkish\", \"turn\", \"turn\", \"turn\", \"type\", \"type\", \"type\", \"type\", \"understand\", \"understand\", \"union\", \"university\", \"university\", \"unnecessary\", \"unusual\", \"up\", \"upgrade\", \"usa\", \"utilize\", \"value\", \"variation\", \"version\", \"version\", \"version\", \"video\", \"view\", \"view\", \"village\", \"violate\", \"vision\", \"volt\", \"vote\", \"vw\", \"wait\", \"wall\", \"want\", \"want\", \"want\", \"war\", \"warrant\", \"warranty\", \"watch\", \"water\", \"wave\", \"way\", \"way\", \"way\", \"way\", \"way\", \"weapon\", \"weight\", \"well\", \"well\", \"well\", \"white\", \"wide\", \"widget\", \"wife\", \"willing\", \"win\", \"window\", \"wing\", \"wire\", \"wiretap\", \"withdraw\", \"withdrawal\", \"woman\", \"woman\", \"wonder\", \"wonder\", \"word\", \"work\", \"work\", \"work\", \"work\", \"work\", \"work\", \"workstation\", \"world\", \"world\", \"world\", \"world\", \"write\", \"write\", \"year\", \"year\", \"year\", \"young\", \"zone\"]}, \"R\": 30, \"lambda.step\": 0.01, \"plot.opts\": {\"xlab\": \"PC1\", \"ylab\": \"PC2\"}, \"topic.order\": [15, 11, 4, 16, 6, 20, 3, 10, 12, 14, 8, 2, 19, 1, 18, 7, 13, 9, 5, 17]};\n",
       "\n",
       "function LDAvis_load_lib(url, callback){\n",
       "  var s = document.createElement('script');\n",
       "  s.src = url;\n",
       "  s.async = true;\n",
       "  s.onreadystatechange = s.onload = callback;\n",
       "  s.onerror = function(){console.warn(\"failed to load library \" + url);};\n",
       "  document.getElementsByTagName(\"head\")[0].appendChild(s);\n",
       "}\n",
       "\n",
       "if(typeof(LDAvis) !== \"undefined\"){\n",
       "   // already loaded: just create the visualization\n",
       "   !function(LDAvis){\n",
       "       new LDAvis(\"#\" + \"ldavis_el633630546240629288102039458\", ldavis_el633630546240629288102039458_data);\n",
       "   }(LDAvis);\n",
       "}else if(typeof define === \"function\" && define.amd){\n",
       "   // require.js is available: use it to load d3/LDAvis\n",
       "   require.config({paths: {d3: \"https://d3js.org/d3.v5\"}});\n",
       "   require([\"d3\"], function(d3){\n",
       "      window.d3 = d3;\n",
       "      LDAvis_load_lib(\"https://cdn.jsdelivr.net/gh/bmabey/pyLDAvis@3.3.1/pyLDAvis/js/ldavis.v3.0.0.js\", function(){\n",
       "        new LDAvis(\"#\" + \"ldavis_el633630546240629288102039458\", ldavis_el633630546240629288102039458_data);\n",
       "      });\n",
       "    });\n",
       "}else{\n",
       "    // require.js not available: dynamically load d3 & LDAvis\n",
       "    LDAvis_load_lib(\"https://d3js.org/d3.v5.js\", function(){\n",
       "         LDAvis_load_lib(\"https://cdn.jsdelivr.net/gh/bmabey/pyLDAvis@3.3.1/pyLDAvis/js/ldavis.v3.0.0.js\", function(){\n",
       "                 new LDAvis(\"#\" + \"ldavis_el633630546240629288102039458\", ldavis_el633630546240629288102039458_data);\n",
       "            })\n",
       "         });\n",
       "}\n",
       "</script>"
      ],
      "text/plain": [
       "PreparedData(topic_coordinates=              x         y  topics  cluster       Freq\n",
       "topic                                                \n",
       "14     0.287802  0.043139       1        1  16.904398\n",
       "10     0.306535 -0.094037       2        1  16.636622\n",
       "3      0.301786 -0.128210       3        1  15.531395\n",
       "15     0.219634  0.099893       4        1  12.183473\n",
       "5      0.110624  0.191172       5        1   6.105882\n",
       "19     0.132333 -0.165480       6        1   5.797531\n",
       "2      0.058244  0.272289       7        1   4.894525\n",
       "9     -0.068680  0.003138       8        1   4.701238\n",
       "11     0.049115 -0.180310       9        1   3.253761\n",
       "13    -0.042037  0.083396      10        1   2.654787\n",
       "7     -0.032260  0.030495      11        1   2.465809\n",
       "1     -0.090305  0.105139      12        1   1.825993\n",
       "18    -0.087228 -0.064574      13        1   1.615171\n",
       "0     -0.129430  0.003084      14        1   1.137717\n",
       "17    -0.121050 -0.031655      15        1   1.064726\n",
       "6     -0.157564 -0.038545      16        1   1.008761\n",
       "12    -0.137321  0.003407      17        1   0.989302\n",
       "8     -0.184507 -0.046326      18        1   0.650762\n",
       "4     -0.204149 -0.041354      19        1   0.353337\n",
       "16    -0.211544 -0.044663      20        1   0.224810, topic_info=               Term          Freq         Total Category  logprob  loglift\n",
       "4339             ax  42804.000000  42804.000000  Default  30.0000  30.0000\n",
       "18             line  18261.000000  18261.000000  Default  29.0000  29.0000\n",
       "194           write  14162.000000  14162.000000  Default  28.0000  28.0000\n",
       "133    organization  11222.000000  11222.000000  Default  27.0000  27.0000\n",
       "40          article   9950.000000   9950.000000  Default  26.0000  26.0000\n",
       "...             ...           ...           ...      ...      ...      ...\n",
       "4999         hockey      0.033916      1.389207  Topic20 -11.2745   2.3851\n",
       "6066   clipper_chip      0.033915      1.389125  Topic20 -11.2746   2.3851\n",
       "7011        encrypt      0.033916      1.389195  Topic20 -11.2745   2.3851\n",
       "16031             c      0.033915      1.389159  Topic20 -11.2746   2.3851\n",
       "4289           king      0.033915      1.389128  Topic20 -11.2746   2.3851\n",
       "\n",
       "[859 rows x 6 columns], token_table=      Topic      Freq          Term\n",
       "term                               \n",
       "1333     17  0.997867        accept\n",
       "79        7  0.771048        access\n",
       "79       13  0.227479        access\n",
       "3100     17  0.983461  access_digex\n",
       "1726      3  0.955098        action\n",
       "...     ...       ...           ...\n",
       "35        2  0.961329          year\n",
       "35        4  0.027930          year\n",
       "35        9  0.010568          year\n",
       "588       6  0.997747         young\n",
       "2171     16  0.994297          zone\n",
       "\n",
       "[1083 rows x 3 columns], R=30, lambda_step=0.01, plot_opts={'xlab': 'PC1', 'ylab': 'PC2'}, topic_order=[15, 11, 4, 16, 6, 20, 3, 10, 12, 14, 8, 2, 19, 1, 18, 7, 13, 9, 5, 17])"
      ]
     },
     "execution_count": 53,
     "metadata": {},
     "output_type": "execute_result"
    }
   ],
   "source": [
    "pyLDAvis.enable_notebook()\n",
    "vis = pyLDAvis.gensim_models.prepare(lda_model, corpus, id2word)\n",
    "vis"
   ]
  },
  {
   "cell_type": "code",
   "execution_count": null,
   "metadata": {},
   "outputs": [],
   "source": []
  }
 ],
 "metadata": {
  "kernelspec": {
   "display_name": "Python 3 (ipykernel)",
   "language": "python",
   "name": "python3"
  },
  "language_info": {
   "codemirror_mode": {
    "name": "ipython",
    "version": 3
   },
   "file_extension": ".py",
   "mimetype": "text/x-python",
   "name": "python",
   "nbconvert_exporter": "python",
   "pygments_lexer": "ipython3",
   "version": "3.8.12"
  }
 },
 "nbformat": 4,
 "nbformat_minor": 4
}
