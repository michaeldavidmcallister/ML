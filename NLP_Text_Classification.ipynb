{
 "cells": [
  {
   "cell_type": "code",
   "execution_count": null,
   "id": "fc3d9853-ec3a-482e-9fab-bf8deb4248d7",
   "metadata": {},
   "outputs": [],
   "source": [
    "'''This task tests your ability to solve a real-world problem using the concepts learned in Text Classification module.\n",
    "Create a benchmark analysis with different algorithms and feature extractors.\n",
    "Dataset: Fetch 20 Newsgroups (same as in class work)​\n",
    "Algorithms: Multinomial Naïve Bayes, Logistic Regression, Support Vector Machines, Decision Trees   (3+)​\n",
    "Feature Extractors: CountVectorizer, Word2Vec, Doc2Vec and so on (2+)​\n",
    "​\n",
    "Benchmark all the possible above configurations and choose the best algorithm and feature extractor amongst all configurations​ and put it in a .txt or .doc file in a tabular format.\n",
    "Create a new Notebook and fill in all the necessary code cells for the benchmarking.\n",
    "And  save the notebook and  submit the Ipython Notebook (. ipynb) with the following filename format:\n",
    "If your name is Vejey Gandyer,  your filename (.ipynb) should be  Vejey_Task0_Text_Classification.ipynb\n",
    "If your name is Vejey Gandyer,  your filename (.txt) or (.doc) should be Vejey_Task0_Text_Classification.txt or Vejey_Task0_Text_Classification.doc\n",
    "All the best and have fun learning.'''"
   ]
  },
  {
   "cell_type": "code",
   "execution_count": 27,
   "id": "1be61629-8215-4765-932b-a474f24034a9",
   "metadata": {},
   "outputs": [],
   "source": [
    "from sklearn.feature_extraction.text import CountVectorizer\n",
    "from sklearn.datasets import fetch_20newsgroups\n",
    "from pprint import pprint\n",
    "from sklearn.feature_extraction.text import TfidfVectorizer\n",
    "from sklearn.naive_bayes import MultinomialNB"
   ]
  },
  {
   "cell_type": "code",
   "execution_count": 28,
   "id": "84d8afa0-fbc6-41f5-80bc-bcbbef28452b",
   "metadata": {},
   "outputs": [],
   "source": [
    "newsgroups_train = fetch_20newsgroups(subset='train')\n",
    "pprint(list(newsgroups_train.target_names))"
   ]
  },
  {
   "cell_type": "code",
   "execution_count": 29,
   "id": "1f3cdd9a-7fad-4055-904e-ae3435a8dca4",
   "metadata": {},
   "outputs": [],
   "source": [
    "newsgroups_train = fetch_20newsgroups(subset='train')\n",
    "vectorizer = TfidfVectorizer()\n",
    "vectors = vectorizer.fit_transform(newsgroups_train.data)\n",
    "vectors.shape"
   ]
  },
  {
   "cell_type": "code",
   "execution_count": null,
   "id": "55557f4d-d55b-4915-aedf-9f7976459275",
   "metadata": {},
   "outputs": [],
   "source": [
    "from sklearn.naive_bayes import MultinomialNB\n",
    "from sklearn import metrics\n",
    "newsgroups_test = fetch_20newsgroups(subset='test')\n",
    "vectors_test = vectorizer.transform(newsgroups_test.data)\n",
    "clf = MultinomialNB(alpha=.01)\n",
    "clf.fit(vectors, newsgroups_train.target)\n",
    "pred = clf.predict(vectors_test)\n",
    "metrics.f1_score(newsgroups_test.target, pred, average='macro')"
   ]
  },
  {
   "cell_type": "code",
   "execution_count": null,
   "id": "90acb182-f49f-4e01-82c2-e0f61309049c",
   "metadata": {},
   "outputs": [],
   "source": [
    "from sklearn.linear_model import LogisticRegression\n",
    "newsgroups_test = fetch_20newsgroups(subset='test')\n",
    "vectors_test = vectorizer.transform(newsgroups_test.data)\n",
    "clf = LogisticRegression()\n",
    "clf.fit(vectors, newsgroups_train.target)\n",
    "pred = clf.predict(vectors_test)\n",
    "metrics.f1_score(newsgroups_test.target, pred, average='macro')"
   ]
  },
  {
   "cell_type": "code",
   "execution_count": null,
   "id": "006bd6a5-fade-472a-95eb-cbd596cef0ca",
   "metadata": {},
   "outputs": [],
   "source": [
    "from sklearn.svm import SVC\n",
    "newsgroups_test = fetch_20newsgroups(subset='test')\n",
    "vectors_test = vectorizer.transform(newsgroups_test.data)\n",
    "clf = SVC()\n",
    "clf.fit(vectors, newsgroups_train.target)\n",
    "pred = clf.predict(vectors_test)\n",
    "metrics.f1_score(newsgroups_test.target, pred, average='macro')"
   ]
  },
  {
   "cell_type": "code",
   "execution_count": null,
   "id": "991c41ba-34da-4273-b6c7-996ca21b11cb",
   "metadata": {},
   "outputs": [],
   "source": [
    "from sklearn.tree import DecisionTreeClassifier\n",
    "newsgroups_test = fetch_20newsgroups(subset='test')\n",
    "vectors_test = vectorizer.transform(newsgroups_test.data)\n",
    "clf = DecisionTreeClassifier()\n",
    "clf.fit(vectors, newsgroups_train.target)\n",
    "pred = clf.predict(vectors_test)\n",
    "metrics.f1_score(newsgroups_test.target, pred, average='macro')"
   ]
  },
  {
   "cell_type": "code",
   "execution_count": null,
   "id": "e76ce6b4-7b69-4b6e-af57-9c4d83f0210f",
   "metadata": {},
   "outputs": [],
   "source": [
    "###################################### Word2Doc ###########################################################"
   ]
  },
  {
   "cell_type": "code",
   "execution_count": 38,
   "id": "9d1a4113-796c-4c7a-bcac-a60c93f46647",
   "metadata": {},
   "outputs": [],
   "source": [
    "!pip install nltk"
   ]
  },
  {
   "cell_type": "code",
   "execution_count": 45,
   "id": "ab79b2fe-3860-4ee3-a0f1-9b796fd488ae",
   "metadata": {},
   "outputs": [],
   "source": [
    "from sklearn.datasets import fetch_20newsgroups\n",
    "import nltk  \n",
    "import warnings\n",
    "warnings.filterwarnings('ignore')\n",
    "import pandas as pd\n",
    "import nltk\n",
    "nltk.download('stopwords')\n",
    "from nltk.tokenize import TweetTokenizer\n",
    "from nltk.corpus import stopwords\n",
    "from sklearn.model_selection import train_test_split\n",
    "from gensim.models.doc2vec import Doc2Vec, TaggedDocument"
   ]
  },
  {
   "cell_type": "code",
   "execution_count": 65,
   "id": "4ba71603-8494-42b4-8979-76eb50a2d852",
   "metadata": {},
   "outputs": [],
   "source": [
    "train_data = fetch_20newsgroups(subset='train', remove=('headers', 'footers', 'quotes'))\n",
    "test_data = fetch_20newsgroups(subset='test', remove=('headers', 'footers', 'quotes'))"
   ]
  },
  {
   "cell_type": "code",
   "execution_count": 66,
   "id": "00d8e41e-8e5b-405c-835c-b334318670f1",
   "metadata": {},
   "outputs": [],
   "source": [
    "train_cats = train.target\n",
    "test_cats = test.target"
   ]
  },
  {
   "cell_type": "code",
   "execution_count": 70,
   "id": "56a246b8-ad8f-4c89-a03c-1af29e6317ab",
   "metadata": {},
   "outputs": [],
   "source": [
    "train_doc2vec = [TaggedDocument((d), tags=[str(i)]) for i, d in enumerate(train_data)]"
   ]
  },
  {
   "cell_type": "code",
   "execution_count": 71,
   "id": "41240737-5f42-452c-95c9-a3660dc0bc07",
   "metadata": {},
   "outputs": [],
   "source": [
    "model = Doc2Vec(vector_size=50, alpha=0.025, min_count=5, dm =1, epochs=100)\n",
    "model.build_vocab(train_doc2vec)\n",
    "model.train(train_data, total_examples=model.corpus_count, epochs=model.epochs)\n",
    "model.save(\"d2v.model\")\n",
    "print(\"Model Saved\")"
   ]
  },
  {
   "cell_type": "code",
   "execution_count": 44,
   "id": "79400d7a-9f68-4501-bb87-860810d9184c",
   "metadata": {},
   "outputs": [],
   "source": [
    "model= Doc2Vec.load(\"d2v.model\")\n",
    "train_vectors =  [model.infer_vector(list_of_tokens, steps=50) for list_of_tokens in train_data]\n",
    "test_vectors = [model.infer_vector(list_of_tokens, steps=50) for list_of_tokens in test_data]"
   ]
  },
  {
   "cell_type": "code",
   "execution_count": null,
   "id": "9f1a638f-c1da-4771-b8aa-2f582c61233d",
   "metadata": {},
   "outputs": [],
   "source": []
  },
  {
   "cell_type": "code",
   "execution_count": null,
   "id": "9843abb9-8068-4faa-83fa-ac50c318edef",
   "metadata": {},
   "outputs": [],
   "source": []
  },
  {
   "cell_type": "code",
   "execution_count": null,
   "id": "ed180b8d-0c83-41ef-9844-9a3709989ac9",
   "metadata": {},
   "outputs": [],
   "source": []
  },
  {
   "cell_type": "code",
   "execution_count": null,
   "id": "79b82e79-8427-46c5-a9d6-2e7280a9eb92",
   "metadata": {},
   "outputs": [],
   "source": []
  },
  {
   "cell_type": "code",
   "execution_count": null,
   "id": "c96ce94f-4f89-46c0-b7a6-7767b2475e08",
   "metadata": {},
   "outputs": [],
   "source": []
  },
  {
   "cell_type": "code",
   "execution_count": null,
   "id": "2b878dd7-dc26-4a0b-896e-4da4dfc74a8d",
   "metadata": {},
   "outputs": [],
   "source": []
  },
  {
   "cell_type": "code",
   "execution_count": null,
   "id": "2720787d-70a2-4caf-8aba-6abf13eca3b1",
   "metadata": {},
   "outputs": [],
   "source": []
  },
  {
   "cell_type": "code",
   "execution_count": null,
   "id": "7053a947-60c5-4939-8cca-053ce85dc840",
   "metadata": {},
   "outputs": [],
   "source": []
  },
  {
   "cell_type": "code",
   "execution_count": 43,
   "id": "a3993098-6b71-4880-b30b-4da620428251",
   "metadata": {},
   "outputs": [],
   "source": []
  },
  {
   "cell_type": "code",
   "execution_count": null,
   "id": "56818a4f-df0c-4b46-a100-4429d3f335fd",
   "metadata": {},
   "outputs": [],
   "source": []
  },
  {
   "cell_type": "code",
   "execution_count": null,
   "id": "b4b104ed-a1cb-4e27-8fd1-504acaf6e26b",
   "metadata": {},
   "outputs": [],
   "source": []
  },
  {
   "cell_type": "code",
   "execution_count": null,
   "id": "b9e5f820-c258-4b36-a8d6-6632d02fb17c",
   "metadata": {},
   "outputs": [],
   "source": []
  },
  {
   "cell_type": "code",
   "execution_count": null,
   "id": "a246aadd-5957-4e5e-9333-68a5fc5e7faa",
   "metadata": {},
   "outputs": [],
   "source": []
  },
  {
   "cell_type": "code",
   "execution_count": null,
   "id": "bde0a642-4dbb-4db2-b4a0-8fe910015968",
   "metadata": {},
   "outputs": [],
   "source": []
  },
  {
   "cell_type": "code",
   "execution_count": null,
   "id": "c1b998e1-f859-49c1-a01a-21aea152e6fb",
   "metadata": {},
   "outputs": [],
   "source": []
  },
  {
   "cell_type": "code",
   "execution_count": null,
   "id": "55feb04b-73ca-455b-9592-3db58fc784c1",
   "metadata": {},
   "outputs": [],
   "source": []
  },
  {
   "cell_type": "code",
   "execution_count": null,
   "id": "9c9a4937-3164-42f2-8fe3-01c06ffb859b",
   "metadata": {},
   "outputs": [],
   "source": []
  },
  {
   "cell_type": "code",
   "execution_count": null,
   "id": "e43f1199-9ce0-4627-a31e-d6212923c038",
   "metadata": {},
   "outputs": [],
   "source": []
  },
  {
   "cell_type": "code",
   "execution_count": null,
   "id": "a60a6100-9ce8-46e1-bc28-038381c0f6cc",
   "metadata": {},
   "outputs": [],
   "source": []
  },
  {
   "cell_type": "code",
   "execution_count": null,
   "id": "e15c1fec-8bfd-4278-b385-c9155b3d364e",
   "metadata": {},
   "outputs": [],
   "source": []
  },
  {
   "cell_type": "code",
   "execution_count": null,
   "id": "86f82a0e-b5f5-4ddb-8c68-c967e11b1b05",
   "metadata": {},
   "outputs": [],
   "source": []
  }
 ],
 "metadata": {
  "kernelspec": {
   "display_name": "Python 3",
   "language": "python",
   "name": "python3"
  },
  "language_info": {
   "codemirror_mode": {
    "name": "ipython",
    "version": 3
   },
   "file_extension": ".py",
   "mimetype": "text/x-python",
   "name": "python",
   "nbconvert_exporter": "python",
   "pygments_lexer": "ipython3",
   "version": "3.7.11"
  }
 },
 "nbformat": 4,
 "nbformat_minor": 5
}
