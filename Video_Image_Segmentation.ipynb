{
 "cells": [
  {
   "cell_type": "markdown",
   "id": "dbf00618-89ee-40c1-8eeb-da34ab4aeade",
   "metadata": {},
   "source": [
    "Task 5 - ML II\n",
    "\n",
    "Michael McAllister\n",
    "\n",
    "101359469\n",
    "\n",
    "This task tests your ability to extract objects from background using Thresholding techniques.\n",
    "\n",
    "Use any set of objects you want to extract.\n",
    "Place them in a homogenous background.\n",
    "Take a picture or two (that's your input image(s))\n",
    "Extract the object using any or all of the Thresholding techniques you've known.\n",
    "Submit the Python Notebook as submission file with the image file.\n",
    "\n",
    "All the best. and Have fun learning."
   ]
  },
  {
   "cell_type": "code",
   "execution_count": 22,
   "id": "238ecee8-b7d7-4de4-88a4-43053a118aba",
   "metadata": {},
   "outputs": [],
   "source": [
    "#imported necessary libraries\n",
    "import cv2\n",
    "import numpy as np\n",
    "import os"
   ]
  },
  {
   "cell_type": "code",
   "execution_count": 23,
   "id": "d42fd9ee-834a-458f-8871-e7e40fbc390e",
   "metadata": {},
   "outputs": [
    {
     "data": {
      "text/plain": [
       "(403, 302, 3)"
      ]
     },
     "execution_count": 23,
     "metadata": {},
     "output_type": "execute_result"
    }
   ],
   "source": [
    "#imported an image of two leaves and reported the shape\n",
    "image = cv2.imread(\"ornaments.jpg\")\n",
    "image.shape"
   ]
  },
  {
   "cell_type": "code",
   "execution_count": 24,
   "id": "a5a5d52a-c63f-48c8-95e4-2642fbf7cf13",
   "metadata": {},
   "outputs": [],
   "source": [
    "#Converted the image to grayscale\n",
    "gray = cv2.cvtColor(image, cv2.COLOR_BGR2GRAY)\n",
    "cv2.imshow('grey', gray)\n",
    "cv2.waitKey(0)\n",
    "cv2.destroyAllWindows() "
   ]
  },
  {
   "cell_type": "code",
   "execution_count": 25,
   "id": "1cdafdd9-caff-460c-8317-e6e40e13559f",
   "metadata": {},
   "outputs": [],
   "source": [
    "blurred = cv2.GaussianBlur(gray, (5, 5), 0)\n",
    "cv2.imshow('blurred', blurred)\n",
    "cv2.waitKey(0)\n",
    "cv2.destroyAllWindows()"
   ]
  },
  {
   "cell_type": "code",
   "execution_count": 26,
   "id": "d282918d-f429-492f-8ea1-d35e0625bef7",
   "metadata": {},
   "outputs": [],
   "source": [
    "#Used Canny to detect edges\n",
    "edged = cv2.Canny(blurred, 100, 200)\n",
    "cv2.imshow('Canny', edged)\n",
    "cv2.waitKey(0)\n",
    "cv2.destroyAllWindows()"
   ]
  },
  {
   "cell_type": "code",
   "execution_count": 27,
   "id": "390fc2c6-2b01-4277-8b92-c0c06b44869a",
   "metadata": {},
   "outputs": [],
   "source": [
    "# Retrieved a contour of the shape\n",
    "(orn, _) = cv2.findContours(edged.copy(), \n",
    "                             cv2.RETR_EXTERNAL, \n",
    "                             cv2.CHAIN_APPROX_SIMPLE\n",
    ")"
   ]
  },
  {
   "cell_type": "code",
   "execution_count": 28,
   "id": "42c7208f-201b-4c82-97fc-3b8005c6aff7",
   "metadata": {
    "scrolled": true,
    "tags": []
   },
   "outputs": [],
   "source": [
    "#Drew the contours on the original image and displayed the image\n",
    "ornaments = image.copy()\n",
    "cv2.drawContours(ornaments, orn, -1, (0, 255, 0), 2)\n",
    "cv2.imshow(\"Ornaments\", np.hstack([image, ornaments]))\n",
    "cv2.waitKey(0)\n",
    "cv2.destroyAllWindows()"
   ]
  },
  {
   "cell_type": "code",
   "execution_count": 29,
   "id": "620872ac-1801-4a03-8224-3783aa6584a8",
   "metadata": {},
   "outputs": [
    {
     "data": {
      "text/plain": [
       "2"
      ]
     },
     "execution_count": 29,
     "metadata": {},
     "output_type": "execute_result"
    }
   ],
   "source": [
    "len(orn)"
   ]
  },
  {
   "cell_type": "code",
   "execution_count": 30,
   "id": "6b840a05-3501-4621-9561-3a020454b6ba",
   "metadata": {},
   "outputs": [
    {
     "name": "stdout",
     "output_type": "stream",
     "text": [
      "Ornament #1\n",
      "Ornament #2\n"
     ]
    }
   ],
   "source": [
    "#Grabbed each ornament in the image\n",
    "for (i, c) in enumerate(orn):\n",
    "    (x, y, w, h) = cv2.boundingRect(c)\n",
    "    print(\"Ornament #{}\".format(i + 1))\n",
    "    ornament = image[y:y + h, x:x + w]\n",
    "    cv2.imshow(\"Ornament\", ornament)\n",
    "    \n",
    "    mask = np.zeros(image.shape[:2], dtype = \"uint8\")\n",
    "    ((centerX, centerY), radiusf) = cv2.minEnclosingCircle(c)\n",
    "    \n",
    "    cv2.circle(mask, (int(centerX), int(centerY)), int(radiusf), 255, -1)\n",
    "    mask = mask[y:y + h, x:x + w]\n",
    "    cv2.imshow(\"Masked Ornament\", cv2.bitwise_and(ornament, ornament, mask = mask))\n",
    "    cv2.imwrite(\"Ornament \"+str(i+1)+\".jpg\", (cv2.bitwise_and(ornament, ornament, mask = mask)))\n",
    "    cv2.waitKey(0) \n",
    "    cv2.destroyAllWindows()"
   ]
  },
  {
   "cell_type": "code",
   "execution_count": null,
   "id": "7fb12e95-7b77-44eb-b44b-8cb536586cbd",
   "metadata": {},
   "outputs": [],
   "source": []
  },
  {
   "cell_type": "code",
   "execution_count": null,
   "id": "4325c395-2368-4ae7-b0a7-3470e3ce11d6",
   "metadata": {},
   "outputs": [],
   "source": []
  }
 ],
 "metadata": {
  "kernelspec": {
   "display_name": "Python 3 (ipykernel)",
   "language": "python",
   "name": "python3"
  },
  "language_info": {
   "codemirror_mode": {
    "name": "ipython",
    "version": 3
   },
   "file_extension": ".py",
   "mimetype": "text/x-python",
   "name": "python",
   "nbconvert_exporter": "python",
   "pygments_lexer": "ipython3",
   "version": "3.9.7"
  }
 },
 "nbformat": 4,
 "nbformat_minor": 5
}
